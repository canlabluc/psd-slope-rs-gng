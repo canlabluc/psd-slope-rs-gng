{
 "cells": [
  {
   "cell_type": "markdown",
   "metadata": {},
   "source": [
    "# pipeline - 20s eyes closed resting state data, spectral slopes\n",
    "\n",
    "This notebook contains the revised analysis for calculating the spectral slope data for resting-state 20s recordings. It seems that in prior analyses, subjects were often inserted into the csv in improper order."
   ]
  },
  {
   "cell_type": "code",
   "execution_count": 11,
   "metadata": {
    "collapsed": true
   },
   "outputs": [],
   "source": [
    "%matplotlib inline\n",
    "import os\n",
    "import glob\n",
    "import datetime\n",
    "import seaborn as sns\n",
    "import numpy as np\n",
    "import scipy as sp\n",
    "import pandas as pd\n",
    "import scipy.io\n",
    "import numpy.fft\n",
    "import scipy.signal\n",
    "import matplotlib as mpl\n",
    "import matplotlib.pyplot as plt\n",
    "from scipy.stats import linregress, ttest_ind\n",
    "from sklearn import linear_model\n",
    "mpl.rcParams['figure.figsize'] = (16, 10)"
   ]
  },
  {
   "cell_type": "markdown",
   "metadata": {},
   "source": [
    "## Parameter selection\n",
    "- `recompute_psds`: `True` or `False`, for recomputing subject PSDs or loading previous results.\n",
    "- `psd_buffer_lofreq`: Scalar, specifies the lower bound for the PSD buffer that we exclude.\n",
    "- `psd_buffer_hifreq`: Scalar, specifies the upper bound for the PSD buffer that we exclude.\n",
    "- `fitting_func`: `'linreg'` or `'ransac'`, specifies which function to use for fitting. `'linreg'` is simple linear regression. `'ransac'` is RANSAC, a robust fitting method that ignores outliers.\n",
    "- `fitting_lofreq`: Scalar, specifies the lower bound for the PSD fitting range.\n",
    "- `fitting_hifreq`: Scalar, specifies the upper bound for the PSD fitting range.\n",
    "- `import_dir`: String specifying the directory to import results to.\n",
    "- `export_dir`: String specifying the directory to export results to."
   ]
  },
  {
   "cell_type": "code",
   "execution_count": 2,
   "metadata": {
    "collapsed": true
   },
   "outputs": [],
   "source": [
    "recompute_psds = True\n",
    "psd_buffer_lofreq = 7\n",
    "psd_buffer_hifreq = 14\n",
    "fitting_func = 'ransac'\n",
    "fitting_lofreq = 2\n",
    "fitting_hifreq = 24\n",
    "import_dir = '/Users/jorge/Drive/research/_psd-slope/data/rs-20s/ExclFiltCARClust-mat/'\n",
    "export_dir = '/Users/jorge/Drive/research/_psd-slope/data/rs-20s/results/'"
   ]
  },
  {
   "cell_type": "markdown",
   "metadata": {},
   "source": [
    "##### Set up workspace, print out parameters to text file..."
   ]
  },
  {
   "cell_type": "code",
   "execution_count": 3,
   "metadata": {
    "collapsed": true
   },
   "outputs": [],
   "source": [
    "current_time = '-'.join('_'.join(str(datetime.datetime.now()).split()).split(':'))[:-7]\n",
    "export_dir = export_dir + current_time + '/'\n",
    "os.mkdir(export_dir)\n",
    "params = open(export_dir + 'parameters.txt', 'w')\n",
    "params.write('recompute_psds = ' + str(recompute_psds))\n",
    "params.write('\\npsd_buffer_lofreq = ' + str(psd_buffer_lofreq))\n",
    "params.write('\\npsd_buffer_hifreq = ' + str(psd_buffer_hifreq))\n",
    "params.write('\\nfitting_func = ' + str(fitting_func))\n",
    "params.write('\\nfitting_lofreq = ' + str(fitting_lofreq))\n",
    "params.write('\\nfitting_hifreq = ' + str(fitting_hifreq))\n",
    "params.write('\\nexport_dir = ' + str(export_dir))\n",
    "params.close()"
   ]
  },
  {
   "cell_type": "markdown",
   "metadata": {},
   "source": [
    "## Subject Importing & PSD Calculations\n",
    "\n",
    "This section imports subject information and computes PSDs using Welch's method. The algorithm proceeds as follows, for each channel:\n",
    "1. Extract as many clean 2-second eyes closed and eyes open segments from the recording. Segments overlap by 50%.\n",
    "2. Multiply each 2-second segment by a 2-second Hamming window. \n",
    "3. Compute the discrete Fourier transform of each segment, and average DFT'd segments to arrive at a per-channel PSD.\n",
    "\n",
    "The PSD is defined as:\n",
    "$$\n",
    "PSD = log_{10}(\\sum\\limits_{n=1}^{N}{N})\n",
    "$$\n",
    "\n",
    "##### Function Definitions"
   ]
  },
  {
   "cell_type": "code",
   "execution_count": 4,
   "metadata": {
    "collapsed": false
   },
   "outputs": [],
   "source": [
    "older_adults = ['SA', 'SA_Control', 'MCI', 'MCI_Control']\n",
    "younger_adults = ['DANE']\n",
    "\n",
    "def get_filelist(import_path):\n",
    "    matfiles = []\n",
    "    for root, dirs, files in os.walk(import_path):\n",
    "        matfiles += glob.glob(os.path.join(root, '*.mat'))\n",
    "    return matfiles\n",
    "\n",
    "def import_subject(subj, i, import_path):\n",
    "    \"\"\" \n",
    "    Imports a single subject and adds them to the subj\n",
    "    data structure. Additionally, merges \n",
    "    \"\"\"\n",
    "    subj[i] = {}\n",
    "    datafile = sp.io.loadmat(import_path)\n",
    "    subj[i]['name'] = str(np.squeeze(datafile['name']))\n",
    "    subj[i]['srate'] = int(np.squeeze(datafile['srate']))\n",
    "    subj[i]['data'] = np.squeeze(datafile['data'])\n",
    "    subj[i]['nbchan'] = len(subj[i]['data'])\n",
    "    return subj\n",
    "\n",
    "def remove_freq_buffer(data, lofreq, hifreq):\n",
    "    \"\"\"\n",
    "    Removes a frequency buffer from a PSD or frequency vector.\n",
    "    \"\"\"\n",
    "    data = np.delete(data, range(lofreq*2, hifreq*2))\n",
    "    return data.reshape(len(data), 1)\n",
    "\n",
    "def compute_subject_psds(import_path, import_path_csv):\n",
    "    \"\"\" Returns subj data structure with calculated PSDs and subject information.\n",
    "    Arguments:\n",
    "        import_path:     String, path to .mat files\n",
    "        import_path_csv: String, path to .csv containing subject class, sex, and\n",
    "                         age information. \n",
    "    \"\"\"\n",
    "    matfiles = get_filelist(import_path)\n",
    "    df = pd.read_csv(import_path_csv)\n",
    "    df.SUBJECT = df.SUBJECT.astype(str)\n",
    "\n",
    "    subj = {}\n",
    "    subj['nbsubj'] = len(matfiles)\n",
    "    subj['f'] = np.linspace(0, 256, 513)\n",
    "    subj['f'] = subj['f'].reshape(len(subj['f']), 1)\n",
    "    subj['f_rm_alpha'] = remove_freq_buffer(subj['f'], 7, 14)\n",
    "    for i in range(len(matfiles)):\n",
    "        \n",
    "        subj = import_subject(subj, i, matfiles[i])\n",
    "        subj[i]['age']   = df[df.SUBJECT == subj[i]['name']].AGE.values[0]\n",
    "        subj[i]['class'] = df[df.SUBJECT == subj[i]['name']].CLASS.values[0]\n",
    "        subj[i]['sex']   = df[df.SUBJECT == subj[i]['name']].SEX.values[0]\n",
    "        if subj[i]['class'] in older_adults:\n",
    "            subj[i]['oa'] = 1\n",
    "        elif subj[i]['class'] in younger_adults:\n",
    "            subj[i]['oa'] = 0\n",
    "\n",
    "        for ch in range(subj[i]['nbchan']):\n",
    "            subj[i][ch] = {}\n",
    "            subj[i][ch]['eyesC_psd'] = sp.signal.welch(subj[i]['data'][ch], 512, nperseg=512*2, noverlap=512, window='hamming')[1]\n",
    "            subj[i][ch]['eyesC_psd_rm_alpha'] = remove_freq_buffer(subj[i][ch]['eyesC_psd'], 7, 14)\n",
    "        subj[i]['data'] = np.nan # No longer needed, so clear from memory\n",
    "        subj[i]['eyesC_psd'] = np.mean([subj[i][ch]['eyesC_psd'] for ch in range(subj[i]['nbchan'])], axis=0)\n",
    "        subj[i]['eyesC_psd_rm_alpha'] = remove_freq_buffer(subj[i]['eyesC_psd'], 7, 14)\n",
    "        print(\"Processed: \", subj[i]['name'])\n",
    "    return subj"
   ]
  },
  {
   "cell_type": "code",
   "execution_count": 5,
   "metadata": {
    "collapsed": false
   },
   "outputs": [
    {
     "name": "stdout",
     "output_type": "stream",
     "text": [
      "Processed:  1121181181\n",
      "Processed:  1121181183\n",
      "Processed:  1121181218\n",
      "Processed:  1121181262\n",
      "Processed:  1121181286\n",
      "Processed:  1121181334\n",
      "Processed:  112118135\n",
      "Processed:  1121181393\n",
      "Processed:  1121181418\n",
      "Processed:  1121181424\n",
      "Processed:  1121181428\n",
      "Processed:  1121181510\n",
      "Processed:  1121181517\n",
      "Processed:  1121181575\n",
      "Processed:  112118167\n",
      "Processed:  112118204\n",
      "Processed:  112118257\n",
      "Processed:  112118266\n",
      "Processed:  112118334\n",
      "Processed:  112118373\n",
      "Processed:  112118416\n",
      "Processed:  112118463\n",
      "Processed:  112118468\n",
      "Processed:  112118475\n",
      "Processed:  112118479\n",
      "Processed:  112118521\n",
      "Processed:  112118526\n",
      "Processed:  112118576\n",
      "Processed:  112118578\n",
      "Processed:  112118587\n",
      "Processed:  112118642\n",
      "Processed:  112118723\n",
      "Processed:  112118761\n",
      "Processed:  112118762\n",
      "Processed:  112118785\n",
      "Processed:  120127101\n",
      "Processed:  120127102\n",
      "Processed:  120127103\n",
      "Processed:  120127104\n",
      "Processed:  120127105\n",
      "Processed:  120127106\n",
      "Processed:  120127107\n",
      "Processed:  120127108\n",
      "Processed:  120127109\n",
      "Processed:  120127110\n",
      "Processed:  120127111\n",
      "Processed:  120127112\n",
      "Processed:  120127113\n",
      "Processed:  120127114\n",
      "Processed:  120127115\n",
      "Processed:  120127116\n",
      "Processed:  120127117\n",
      "Processed:  120127118\n",
      "Processed:  120127119\n",
      "Processed:  120127120\n",
      "Processed:  120127121\n",
      "Processed:  120127122\n",
      "Processed:  120127123\n",
      "Processed:  120127124\n",
      "Processed:  120127125\n",
      "Processed:  120127128\n",
      "Processed:  120127130\n",
      "Processed:  120127131\n",
      "Processed:  120127132\n",
      "Processed:  120127134\n",
      "Processed:  120127135\n",
      "Processed:  120127137\n",
      "Processed:  120127138\n",
      "Processed:  120127139\n",
      "Processed:  120127140\n",
      "Processed:  120127142\n",
      "Processed:  120127144\n",
      "Processed:  120127145\n",
      "Processed:  120127146\n",
      "Processed:  120127147\n",
      "Processed:  120127148\n",
      "Processed:  120127149\n",
      "Processed:  120127151\n",
      "Processed:  120127153\n",
      "Processed:  120127154\n",
      "Processed:  120127155\n",
      "Processed:  120127156\n",
      "Processed:  120127157\n",
      "Processed:  120127158\n",
      "Processed:  120127159\n",
      "Processed:  120127160\n",
      "Processed:  120127161\n",
      "Processed:  120127162\n",
      "Processed:  120127163\n",
      "Processed:  120127164\n",
      "Processed:  120127165\n",
      "Processed:  120127166\n",
      "Processed:  120127167\n",
      "Processed:  120127168\n",
      "Processed:  120127169\n",
      "Processed:  120127170\n"
     ]
    }
   ],
   "source": [
    "# Import EEG for older and younger adults, compute PSDs\n",
    "if recompute_psds:\n",
    "    subj = compute_subject_psds(import_dir, '../../data/RS-20s/ya-oa-20s.csv')\n",
    "    # Save resulting PSDs\n",
    "    subj['time_computed'] = current_time\n",
    "    np.save(export_dir + 'subj-no-fitting.npy', subj); subj = []\n",
    "else:\n",
    "    # Use files with pre-computed PSDs and a 7 - 14 Hz buffer\n",
    "    !cp /Users/jorge/Drive/research/_psd-slope/data/RS-20s/2016-11-05_17-24-19/subj-no-fitting.npy $export_dir"
   ]
  },
  {
   "cell_type": "markdown",
   "metadata": {},
   "source": [
    "## Fit to Spectral Slopes\n",
    "\n",
    "Now we compute PSD slopes for each channel of each subject, and additionally calculate each subject's mean PSD slope. This is found by fitting to the grand average PSD of each subject.\n",
    "\n",
    "##### Function Definitions"
   ]
  },
  {
   "cell_type": "code",
   "execution_count": 6,
   "metadata": {
    "collapsed": true
   },
   "outputs": [],
   "source": [
    "def linreg_slope(f, psd, lofreq, hifreq):\n",
    "    \"\"\"\n",
    "    Fits line to the PSD, using simple linear regression.\n",
    "    Returns slope and fit line.\n",
    "    \"\"\"\n",
    "    model = linear_model.LinearRegression()\n",
    "    model.fit(f[lofreq*2:hifreq*2], np.log10(psd[lofreq*2:hifreq*2]))\n",
    "    fit_line = model.predict(f)\n",
    "    return model.coef_[0] * (10**2), fit_line\n",
    "\n",
    "def ransac_slope(f, psd, lofreq, hifreq):\n",
    "    \"\"\"\n",
    "    Robustly fits line to the PSD, using the RANSAC algorithm. \n",
    "    Returns slope and fit line.\n",
    "    \"\"\"\n",
    "    model_ransac = linear_model.RANSACRegressor(linear_model.LinearRegression())\n",
    "    model_ransac.fit(f[lofreq*2:hifreq*2], np.log10(psd[lofreq*2:hifreq*2]))\n",
    "    fit_line = model_ransac.predict(f)\n",
    "    return model_ransac.estimator_.coef_[0] * (10**2), fit_line\n",
    "\n",
    "def fit_slopes(subj, regr_func, lofreq, hifreq):\n",
    "    \"\"\" \n",
    "    Takes subj data structure and fits slopes to each subject's PSDs and mean\n",
    "    PSD, using regr_func and fitting to datapoints between lofreq and hifreq.\n",
    "    \"\"\"\n",
    "    for i in range(subj['nbsubj']):\n",
    "        # Per-subject PSD average fitting\n",
    "        subj[i]['eyesC_slope'], subj[i]['eyesC_fitline'] = regr_func(subj['f'], subj[i]['eyesC_psd'], lofreq, hifreq)\n",
    "        for ch in range(subj[i]['nbchan']):\n",
    "            # Per-channel PSD fitting\n",
    "            subj[i][ch]['eyesC_slope'], subj[i][ch]['eyesC_fitline'] = regr_func(subj['f'], subj[i][ch]['eyesC_psd_rm_alpha'], lofreq, hifreq)\n",
    "    return subj"
   ]
  },
  {
   "cell_type": "markdown",
   "metadata": {},
   "source": [
    "##### Processing"
   ]
  },
  {
   "cell_type": "code",
   "execution_count": 7,
   "metadata": {
    "collapsed": false
   },
   "outputs": [
    {
     "name": "stderr",
     "output_type": "stream",
     "text": [
      "/Users/jorge/Development/anaconda3/lib/python3.5/site-packages/scipy/linalg/basic.py:884: RuntimeWarning: internal gelsd driver lwork query error, required iwork dimension not returned. This is likely the result of LAPACK bug 0038, fixed in LAPACK 3.2.2 (released July 21, 2010). Falling back to 'gelss' driver.\n",
      "  warnings.warn(mesg, RuntimeWarning)\n"
     ]
    }
   ],
   "source": [
    "# Select fitting function\n",
    "if fitting_func == 'linreg':\n",
    "    regr = linreg_slope\n",
    "elif fitting_func == 'ransac':\n",
    "    regr = ransac_slope\n",
    "\n",
    "# Load subject PSDs\n",
    "subj = np.load(export_dir + '/subj-no-fitting.npy').item()\n",
    "\n",
    "# Fit lines to slopes using specified function and frequency range\n",
    "subj = fit_slopes(subj, regr, fitting_lofreq, fitting_hifreq)\n",
    "\n",
    "# Save results\n",
    "filename = export_dir + 'subj-' + str(fitting_lofreq) + '-' + str(fitting_hifreq) + '-' + fitting_func + '.npy'\n",
    "subj['time_computed'] = current_time\n",
    "np.save(filename, subj); subj = []"
   ]
  },
  {
   "cell_type": "markdown",
   "metadata": {},
   "source": [
    "## Construct Samples-Features Matrix\n",
    "\n",
    "Now we construct the samples-features matrix containing the calculated slopes. We use a table that already contains subject numbers, sex, age, and memory class to start off.\n",
    "\n",
    "##### Function Definitions"
   ]
  },
  {
   "cell_type": "code",
   "execution_count": 8,
   "metadata": {
    "collapsed": true
   },
   "outputs": [],
   "source": [
    "def get_subject_slopes(subj, ch, slope_type):\n",
    "    \"\"\" Returns list of slopes for specified channel of slope_type.\n",
    "    Arguments:\n",
    "        subj: The subj data structure.\n",
    "        ch:   Scalar, channel for which to get list of subject slopes.\n",
    "        slope_type: String, e.g., 'eyesO_slope' or 'eyesC_slope'\n",
    "    \"\"\"\n",
    "    if ch == -1: # Slope of PSD grand average\n",
    "        return [subj[i][slope_type]     for i in range(subj['nbsubj'])]\n",
    "    else:\n",
    "        return [subj[i][ch][slope_type][0] for i in range(subj['nbsubj'])]"
   ]
  },
  {
   "cell_type": "code",
   "execution_count": 9,
   "metadata": {
    "collapsed": false
   },
   "outputs": [
    {
     "name": "stdout",
     "output_type": "stream",
     "text": [
      "Saving fitted slopes at:\n",
      "/Users/jorge/Drive/research/_psd-slope/data/rs-20s/results/2016-11-15_11-15-25/ya-oa-rs-20s-ransac-2-24-eyesc.csv\n"
     ]
    }
   ],
   "source": [
    "# Define channels, these will form labels for our table:\n",
    "channels = [\"A01\",\"A02\",\"A03\",\"A04\",\"A05\",\"A06\",\"A07\",\"A08\",\"A09\",\"A10\",\"A11\",\"A12\",\"A13\",\"A14\",\"A15\",\"A16\",\"A17\",\"A18\",\"A19\",\"A20\",\"A21\",\"A22\",\"A23\",\"A24\",\"A25\",\"A26\",\"A27\",\"A28\",\"A29\",\"A30\",\"A31\",\"A32\",\"B01\",\"B02\",\"B03\",\"B04\",\"B05\",\"B06\",\"B07\",\"B08\",\"B09\",\"B10\",\"B11\",\"B12\",\"B13\",\"B14\",\"B15\",\"B16\",\"B17\",\"B18\",\"B19\",\"B20\",\"B21\",\"B22\",\"B23\",\"B24\",\"B25\",\"B26\",\"B27\",\"B28\",\"B29\",\"B30\",\"B31\",\"B32\",\"FRONTAL\",\"LTEMPORAL\",\"CENTRAL\",\"RTEMPORAL\",\"OCCIPITAL\"]\n",
    "\n",
    "# Load subject PSDs with fitted slopes\n",
    "subj = np.load(filename).item()\n",
    "\n",
    "# Construct matrix\n",
    "data = {}\n",
    "data['SUBJECT'] = [subj[i]['name']  for i in range(subj['nbsubj'])]\n",
    "data['CLASS']   = [subj[i]['class'] for i in range(subj['nbsubj'])]\n",
    "data['AGE']     = [subj[i]['age']   for i in range(subj['nbsubj'])]\n",
    "\n",
    "df = pd.DataFrame(data)\n",
    "df = df[['SUBJECT', 'CLASS', 'AGE']]\n",
    "\n",
    "# Add each subject's mean slope.\n",
    "df['AVG_PSD_EYESC'] = get_subject_slopes(subj, -1, 'eyesC_slope')\n",
    "\n",
    "# Now add slopes for every channel from each subject.\n",
    "for ch in range(len(channels)):\n",
    "    df[channels[ch] + '_EYESC'] = get_subject_slopes(subj, ch, 'eyesC_slope')\n",
    "\n",
    "# Export results\n",
    "filename = export_dir + 'ya-oa-rs-20s-' + fitting_func + '-' + str(fitting_lofreq) + '-' + str(fitting_hifreq) + '-eyesc.csv'\n",
    "print('Saving fitted slopes at:\\n{}'.format(filename))\n",
    "df.to_csv(filename, index=False); df = []"
   ]
  },
  {
   "cell_type": "markdown",
   "metadata": {
    "collapsed": true
   },
   "source": [
    "## Compute t-tests, logit, lasso\n",
    "\n",
    "And run t-tests, as well as LASSO in order to see if there are any group differences. \n",
    "\n",
    "### T-Tests\n",
    "\n",
    "##### Younger adults vs older adults"
   ]
  },
  {
   "cell_type": "code",
   "execution_count": 51,
   "metadata": {
    "collapsed": false
   },
   "outputs": [
    {
     "name": "stdout",
     "output_type": "stream",
     "text": [
      "A32_EYESC:\t\t\t-2.58,\t0.012\n",
      "B26_EYESC:\t\t\t-2.12,\t0.038\n",
      "B28_EYESC:\t\t\t2.26,\t0.028\n",
      "B31_EYESC:\t\t\t-2.14,\t0.036\n",
      "B32_EYESC:\t\t\t-2.62,\t0.011\n"
     ]
    }
   ],
   "source": [
    "df = pd.read_csv(filename)\n",
    "ya = df[df.CLASS.isin(['DANE'])]\n",
    "oa = df[df.CLASS.isin(['SA_Control', 'MCI_Control'])]\n",
    "\n",
    "channels = list(df.columns.values)[4:]\n",
    "for ch in channels:\n",
    "    result = ttest_ind(ya[ch], oa[ch], equal_var=False)\n",
    "    if result[1] < 0.05:\n",
    "        print(\"{}:\\t\\t\\t{:.2f},\\t{:.3f}\".format(ch, result.statistic, result.pvalue))"
   ]
  },
  {
   "cell_type": "markdown",
   "metadata": {},
   "source": [
    "##### Older adult controls vs SAs"
   ]
  },
  {
   "cell_type": "code",
   "execution_count": 69,
   "metadata": {
    "collapsed": false
   },
   "outputs": [
    {
     "name": "stdout",
     "output_type": "stream",
     "text": [
      "B11_EYESC:\t\t\t-2.30,\t0.033\n",
      "B24_EYESC:\t\t\t-2.03,\t0.050\n"
     ]
    }
   ],
   "source": [
    "oa_control = df[df.CLASS.isin(['SA_Control', 'MCI_Control'])]\n",
    "sa         = df[df.CLASS.isin(['SA'])]\n",
    "\n",
    "for ch in channels:\n",
    "    result = ttest_ind(oa_control[ch], sa[ch], equal_var=False)\n",
    "    if result[1] < 0.05:\n",
    "        print(\"{}:\\t\\t\\t{:.2f},\\t{:.3f}\".format(ch, result.statistic, result.pvalue))"
   ]
  },
  {
   "cell_type": "markdown",
   "metadata": {},
   "source": [
    "### Logistic Regression, younger adults vs older adult controls"
   ]
  },
  {
   "cell_type": "code",
   "execution_count": 66,
   "metadata": {
    "collapsed": false
   },
   "outputs": [
    {
     "name": "stderr",
     "output_type": "stream",
     "text": [
      "/Users/jorge/Development/anaconda3/lib/python3.5/site-packages/ipykernel/__main__.py:9: SettingWithCopyWarning: \n",
      "A value is trying to be set on a copy of a slice from a DataFrame.\n",
      "Try using .loc[row_indexer,col_indexer] = value instead\n",
      "\n",
      "See the caveats in the documentation: http://pandas.pydata.org/pandas-docs/stable/indexing.html#indexing-view-versus-copy\n"
     ]
    }
   ],
   "source": [
    "df_logit = df[df.CLASS.isin(['DANE', 'SA_Control', 'MCI_Control'])]\n",
    "\n",
    "df_logit['CLASS'] = list(map(lambda x: 0 if x == 'DANE' else 1, df_logit['CLASS']))\n",
    "\n",
    "cols = list(df_logit.columns.values)\n",
    "cols.remove('SUBJECT')\n",
    "cols.remove('CLASS')\n",
    "cols.remove('AGE')\n",
    "\n",
    "X = df_logit[cols]\n",
    "y = df_logit.CLASS"
   ]
  },
  {
   "cell_type": "code",
   "execution_count": 67,
   "metadata": {
    "collapsed": false
   },
   "outputs": [
    {
     "name": "stdout",
     "output_type": "stream",
     "text": [
      "Features sorted by score, using 2000 resamplings: \n",
      "B32_EYESC:\t\t\t0.18\n",
      "A32_EYESC:\t\t\t0.17\n",
      "B28_EYESC:\t\t\t0.12\n",
      "B31_EYESC:\t\t\t0.06\n",
      "B26_EYESC:\t\t\t0.04\n",
      "B25_EYESC:\t\t\t0.02\n",
      "A25_EYESC:\t\t\t0.02\n",
      "B12_EYESC:\t\t\t0.01\n",
      "B22_EYESC:\t\t\t0.00\n",
      "A28_EYESC:\t\t\t0.00\n",
      "B30_EYESC:\t\t\t0.00\n",
      "B20_EYESC:\t\t\t0.00\n",
      "A27_EYESC:\t\t\t0.00\n",
      "B19_EYESC:\t\t\t0.00\n",
      "B15_EYESC:\t\t\t0.00\n",
      "B13_EYESC:\t\t\t0.00\n",
      "A01_EYESC:\t\t\t0.00\n",
      "RTEMPORAL_EYESC:\t\t\t0.00\n",
      "OCCIPITAL_EYESC:\t\t\t0.00\n",
      "LTEMPORAL_EYESC:\t\t\t0.00\n",
      "FRONTAL_EYESC:\t\t\t0.00\n",
      "CENTRAL_EYESC:\t\t\t0.00\n",
      "B29_EYESC:\t\t\t0.00\n",
      "B27_EYESC:\t\t\t0.00\n",
      "B24_EYESC:\t\t\t0.00\n"
     ]
    }
   ],
   "source": [
    "import warnings                 # sklearn is using a deprecated rand function here,\n",
    "with warnings.catch_warnings(): # and warnings clutter output\n",
    "    warnings.simplefilter(\"ignore\")\n",
    "    resamplings = 2000\n",
    "    rlogit = linear_model.RandomizedLogisticRegression(n_resampling=resamplings)\n",
    "    rlogit.fit(X, y)\n",
    "    print(\"Features sorted by score, using {} resamplings: \".format(resamplings))\n",
    "    feature_list = sorted(zip(map(lambda x: round(x, 4), rlogit.scores_), cols), reverse=True)\n",
    "    for f in feature_list[0:25]: # Adjust this if last feature output is nonzero\n",
    "        print(\"{}:\\t\\t\\t{:.2f}\".format(f[1], f[0]))"
   ]
  },
  {
   "cell_type": "markdown",
   "metadata": {},
   "source": [
    "### Entire dataset, LASSO for age as interest variable."
   ]
  },
  {
   "cell_type": "code",
   "execution_count": 68,
   "metadata": {
    "collapsed": false,
    "scrolled": false
   },
   "outputs": [
    {
     "name": "stdout",
     "output_type": "stream",
     "text": [
      "Features sorted by score, using 2000 resamplings: \n",
      "A16_EYESC:\t\t\t0.95\n",
      "B28_EYESC:\t\t\t0.94\n",
      "A29_EYESC:\t\t\t0.92\n",
      "B09_EYESC:\t\t\t0.92\n",
      "A14_EYESC:\t\t\t0.91\n",
      "A27_EYESC:\t\t\t0.91\n",
      "A11_EYESC:\t\t\t0.91\n",
      "B27_EYESC:\t\t\t0.90\n",
      "A13_EYESC:\t\t\t0.89\n",
      "B18_EYESC:\t\t\t0.87\n",
      "A03_EYESC:\t\t\t0.86\n",
      "AVG_PSD_EYESC:\t\t\t0.85\n",
      "A32_EYESC:\t\t\t0.83\n",
      "B07_EYESC:\t\t\t0.82\n",
      "B04_EYESC:\t\t\t0.82\n",
      "B22_EYESC:\t\t\t0.81\n",
      "B23_EYESC:\t\t\t0.81\n",
      "B14_EYESC:\t\t\t0.81\n",
      "B32_EYESC:\t\t\t0.80\n",
      "B16_EYESC:\t\t\t0.80\n",
      "B12_EYESC:\t\t\t0.79\n",
      "B25_EYESC:\t\t\t0.78\n",
      "A30_EYESC:\t\t\t0.78\n",
      "LTEMPORAL_EYESC:\t\t\t0.77\n",
      "B15_EYESC:\t\t\t0.76\n",
      "B17_EYESC:\t\t\t0.76\n",
      "CENTRAL_EYESC:\t\t\t0.74\n",
      "B24_EYESC:\t\t\t0.74\n",
      "B11_EYESC:\t\t\t0.73\n",
      "B21_EYESC:\t\t\t0.72\n",
      "A10_EYESC:\t\t\t0.72\n",
      "B02_EYESC:\t\t\t0.72\n",
      "A20_EYESC:\t\t\t0.71\n",
      "A23_EYESC:\t\t\t0.70\n",
      "B19_EYESC:\t\t\t0.69\n",
      "B06_EYESC:\t\t\t0.69\n",
      "A22_EYESC:\t\t\t0.68\n",
      "RTEMPORAL_EYESC:\t\t\t0.65\n",
      "B08_EYESC:\t\t\t0.62\n",
      "A25_EYESC:\t\t\t0.62\n",
      "A21_EYESC:\t\t\t0.62\n",
      "B31_EYESC:\t\t\t0.61\n",
      "B03_EYESC:\t\t\t0.61\n",
      "A01_EYESC:\t\t\t0.60\n",
      "A05_EYESC:\t\t\t0.59\n",
      "A18_EYESC:\t\t\t0.59\n",
      "A09_EYESC:\t\t\t0.59\n",
      "A02_EYESC:\t\t\t0.59\n",
      "B01_EYESC:\t\t\t0.59\n",
      "B30_EYESC:\t\t\t0.58\n"
     ]
    }
   ],
   "source": [
    "X, y = df[cols], df.AGE\n",
    "\n",
    "import warnings                 # sklearn is using a deprecated rand function here,\n",
    "with warnings.catch_warnings(): # and warnings clutter output\n",
    "    warnings.simplefilter(\"ignore\")\n",
    "    resamplings = 2000\n",
    "    rlasso = linear_model.RandomizedLasso(n_resampling=resamplings)\n",
    "    rlasso.fit(X, y)\n",
    "    print(\"Features sorted by score, using {} resamplings: \".format(resamplings))\n",
    "    feature_list = sorted(zip(map(lambda x: round(x, 4), rlasso.scores_), cols), reverse=True)\n",
    "    for f in feature_list[0:50]: # Adjust this if last feature output is nonzero\n",
    "        print(\"{}:\\t\\t\\t{:.2f}\".format(f[1], f[0]))"
   ]
  },
  {
   "cell_type": "code",
   "execution_count": null,
   "metadata": {
    "collapsed": true
   },
   "outputs": [],
   "source": []
  }
 ],
 "metadata": {
  "anaconda-cloud": {},
  "kernelspec": {
   "display_name": "Python [default]",
   "language": "python",
   "name": "python3"
  },
  "language_info": {
   "codemirror_mode": {
    "name": "ipython",
    "version": 3
   },
   "file_extension": ".py",
   "mimetype": "text/x-python",
   "name": "python",
   "nbconvert_exporter": "python",
   "pygments_lexer": "ipython3",
   "version": "3.5.2"
  }
 },
 "nbformat": 4,
 "nbformat_minor": 1
}

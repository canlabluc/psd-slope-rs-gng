{
 "cells": [
  {
   "cell_type": "markdown",
   "metadata": {},
   "source": [
    "# stats: full rec, ransac fit, 2 - 24 Hz\n",
    "\n",
    "This notebook covers the statistical analysis for spectral slopes that were fit between 2 - 24 Hz using RANSAC regression and the full recordings, which contain both eyes open and eyes closed segments."
   ]
  },
  {
   "cell_type": "code",
   "execution_count": 2,
   "metadata": {
    "collapsed": true
   },
   "outputs": [],
   "source": [
    "%matplotlib inline\n",
    "import os\n",
    "import seaborn\n",
    "import numpy as np\n",
    "import scipy as sp\n",
    "import pandas as pd\n",
    "import matplotlib as mpl\n",
    "import scipy.stats as stats\n",
    "import matplotlib.pyplot as plt\n",
    "from sklearn import linear_model\n",
    "mpl.rcParams['figure.figsize'] = (16, 10)"
   ]
  },
  {
   "cell_type": "markdown",
   "metadata": {},
   "source": [
    "## 1. load subject psds and fit slopes"
   ]
  },
  {
   "cell_type": "code",
   "execution_count": 8,
   "metadata": {
    "collapsed": false
   },
   "outputs": [
    {
     "name": "stdout",
     "output_type": "stream",
     "text": [
      "/Users/jorge/anaconda/lib/python3.5/site-packages/scipy/linalg/basic.py:884: RuntimeWarning: internal gelsd driver lwork query error, required iwork dimension not returned. This is likely the result of LAPACK bug 0038, fixed in LAPACK 3.2.2 (released July 21, 2010). Falling back to 'gelss' driver.\n",
      "  warnings.warn(mesg, RuntimeWarning)\n",
      "Saving fitted slopes at:\n",
      "/Users/jorge/Dropbox/research/_psd-slope/data/pipeline-full/ya-oa-full-ransac-2-24-eyesc-eyeso-sep.csv\n"
     ]
    }
   ],
   "source": [
    "os.chdir('/Users/jorge/Dropbox/research/_psd-slope/src/')\n",
    "!python /Users/jorge/Dropbox/research/_psd-slope/src/pipeline-full-2s-ransac-oa-ya-02-24.py"
   ]
  },
  {
   "cell_type": "markdown",
   "metadata": {},
   "source": [
    "## 2. load resulting matrix"
   ]
  },
  {
   "cell_type": "code",
   "execution_count": 9,
   "metadata": {
    "collapsed": true
   },
   "outputs": [],
   "source": [
    "df = pd.read_csv('../data/pipeline-full/ya-oa-full-ransac-2-24-eyesc-eyeso-sep.csv')"
   ]
  },
  {
   "cell_type": "code",
   "execution_count": 31,
   "metadata": {
    "collapsed": false
   },
   "outputs": [
    {
     "data": {
      "text/html": [
       "<div>\n",
       "<table border=\"1\" class=\"dataframe\">\n",
       "  <thead>\n",
       "    <tr style=\"text-align: right;\">\n",
       "      <th></th>\n",
       "      <th>SUBJECT</th>\n",
       "      <th>CLASS</th>\n",
       "      <th>AGE</th>\n",
       "      <th>SEX</th>\n",
       "      <th>AVG_OA_PSD_EYESC</th>\n",
       "      <th>AVG_OA_PSD_EYESO</th>\n",
       "      <th>AVG_YA_PSD_EYESC</th>\n",
       "      <th>AVG_YA_PSD_EYESO</th>\n",
       "      <th>AVG_PSD_EYESC</th>\n",
       "      <th>AVG_PSD_EYESO</th>\n",
       "      <th>...</th>\n",
       "      <th>B26_EYESO</th>\n",
       "      <th>B27_EYESO</th>\n",
       "      <th>B28_EYESO</th>\n",
       "      <th>B29_EYESO</th>\n",
       "      <th>B30_EYESO</th>\n",
       "      <th>FRONTAL_EYESO</th>\n",
       "      <th>LTEMPORAL_EYESO</th>\n",
       "      <th>CENTRAL_EYESO</th>\n",
       "      <th>RTEMPORAL_EYESO</th>\n",
       "      <th>OCCIPITAL_EYESO</th>\n",
       "    </tr>\n",
       "  </thead>\n",
       "  <tbody>\n",
       "    <tr>\n",
       "      <th>0</th>\n",
       "      <td>120127101</td>\n",
       "      <td>SA_Control</td>\n",
       "      <td>80.84873</td>\n",
       "      <td>2.0</td>\n",
       "      <td>-3.212677</td>\n",
       "      <td>-2.264243</td>\n",
       "      <td>-5.096711</td>\n",
       "      <td>-4.183642</td>\n",
       "      <td>-5.852525</td>\n",
       "      <td>-5.311616</td>\n",
       "      <td>...</td>\n",
       "      <td>-6.837667</td>\n",
       "      <td>-8.136131</td>\n",
       "      <td>-8.812830</td>\n",
       "      <td>-7.736430</td>\n",
       "      <td>-5.903613</td>\n",
       "      <td>-7.499692</td>\n",
       "      <td>-9.870920</td>\n",
       "      <td>-9.256354</td>\n",
       "      <td>-8.411475</td>\n",
       "      <td>-7.131687</td>\n",
       "    </tr>\n",
       "    <tr>\n",
       "      <th>1</th>\n",
       "      <td>120127102</td>\n",
       "      <td>MCI_Control</td>\n",
       "      <td>71.89870</td>\n",
       "      <td>1.0</td>\n",
       "      <td>-3.212677</td>\n",
       "      <td>-2.264243</td>\n",
       "      <td>-5.096711</td>\n",
       "      <td>-4.183642</td>\n",
       "      <td>-4.282704</td>\n",
       "      <td>-1.230169</td>\n",
       "      <td>...</td>\n",
       "      <td>-0.520634</td>\n",
       "      <td>-4.107982</td>\n",
       "      <td>-6.186407</td>\n",
       "      <td>-2.693812</td>\n",
       "      <td>-0.639713</td>\n",
       "      <td>-1.417596</td>\n",
       "      <td>-1.803991</td>\n",
       "      <td>-5.032359</td>\n",
       "      <td>-1.305830</td>\n",
       "      <td>-1.603454</td>\n",
       "    </tr>\n",
       "    <tr>\n",
       "      <th>2</th>\n",
       "      <td>120127103</td>\n",
       "      <td>MCI_Control</td>\n",
       "      <td>69.43463</td>\n",
       "      <td>2.0</td>\n",
       "      <td>-3.212677</td>\n",
       "      <td>-2.264243</td>\n",
       "      <td>-5.096711</td>\n",
       "      <td>-4.183642</td>\n",
       "      <td>-4.003986</td>\n",
       "      <td>1.255340</td>\n",
       "      <td>...</td>\n",
       "      <td>-1.753993</td>\n",
       "      <td>-5.738814</td>\n",
       "      <td>-6.115665</td>\n",
       "      <td>-6.379150</td>\n",
       "      <td>-3.114273</td>\n",
       "      <td>-4.229089</td>\n",
       "      <td>-5.551192</td>\n",
       "      <td>-6.196523</td>\n",
       "      <td>-4.862521</td>\n",
       "      <td>-2.743728</td>\n",
       "    </tr>\n",
       "    <tr>\n",
       "      <th>3</th>\n",
       "      <td>120127104</td>\n",
       "      <td>SA_Control</td>\n",
       "      <td>83.61396</td>\n",
       "      <td>2.0</td>\n",
       "      <td>-3.212677</td>\n",
       "      <td>-2.264243</td>\n",
       "      <td>-5.096711</td>\n",
       "      <td>-4.183642</td>\n",
       "      <td>-2.988003</td>\n",
       "      <td>-1.455893</td>\n",
       "      <td>...</td>\n",
       "      <td>-6.331208</td>\n",
       "      <td>-5.741349</td>\n",
       "      <td>-5.225893</td>\n",
       "      <td>-4.778359</td>\n",
       "      <td>-5.822948</td>\n",
       "      <td>-4.229259</td>\n",
       "      <td>-5.323222</td>\n",
       "      <td>-4.222231</td>\n",
       "      <td>-4.593246</td>\n",
       "      <td>-4.574440</td>\n",
       "    </tr>\n",
       "    <tr>\n",
       "      <th>4</th>\n",
       "      <td>120127105</td>\n",
       "      <td>SA_Control</td>\n",
       "      <td>80.69541</td>\n",
       "      <td>2.0</td>\n",
       "      <td>-3.212677</td>\n",
       "      <td>-2.264243</td>\n",
       "      <td>-5.096711</td>\n",
       "      <td>-4.183642</td>\n",
       "      <td>-4.095200</td>\n",
       "      <td>-4.138652</td>\n",
       "      <td>...</td>\n",
       "      <td>-7.897678</td>\n",
       "      <td>-3.850005</td>\n",
       "      <td>-6.484732</td>\n",
       "      <td>-4.840429</td>\n",
       "      <td>-8.813164</td>\n",
       "      <td>-5.924871</td>\n",
       "      <td>-5.432904</td>\n",
       "      <td>-5.899741</td>\n",
       "      <td>-5.781139</td>\n",
       "      <td>-8.530632</td>\n",
       "    </tr>\n",
       "  </tbody>\n",
       "</table>\n",
       "<p>5 rows × 126 columns</p>\n",
       "</div>"
      ],
      "text/plain": [
       "     SUBJECT        CLASS       AGE  SEX  AVG_OA_PSD_EYESC  AVG_OA_PSD_EYESO  \\\n",
       "0  120127101   SA_Control  80.84873  2.0         -3.212677         -2.264243   \n",
       "1  120127102  MCI_Control  71.89870  1.0         -3.212677         -2.264243   \n",
       "2  120127103  MCI_Control  69.43463  2.0         -3.212677         -2.264243   \n",
       "3  120127104   SA_Control  83.61396  2.0         -3.212677         -2.264243   \n",
       "4  120127105   SA_Control  80.69541  2.0         -3.212677         -2.264243   \n",
       "\n",
       "   AVG_YA_PSD_EYESC  AVG_YA_PSD_EYESO  AVG_PSD_EYESC  AVG_PSD_EYESO  \\\n",
       "0         -5.096711         -4.183642      -5.852525      -5.311616   \n",
       "1         -5.096711         -4.183642      -4.282704      -1.230169   \n",
       "2         -5.096711         -4.183642      -4.003986       1.255340   \n",
       "3         -5.096711         -4.183642      -2.988003      -1.455893   \n",
       "4         -5.096711         -4.183642      -4.095200      -4.138652   \n",
       "\n",
       "        ...         B26_EYESO  B27_EYESO  B28_EYESO  B29_EYESO  B30_EYESO  \\\n",
       "0       ...         -6.837667  -8.136131  -8.812830  -7.736430  -5.903613   \n",
       "1       ...         -0.520634  -4.107982  -6.186407  -2.693812  -0.639713   \n",
       "2       ...         -1.753993  -5.738814  -6.115665  -6.379150  -3.114273   \n",
       "3       ...         -6.331208  -5.741349  -5.225893  -4.778359  -5.822948   \n",
       "4       ...         -7.897678  -3.850005  -6.484732  -4.840429  -8.813164   \n",
       "\n",
       "   FRONTAL_EYESO  LTEMPORAL_EYESO  CENTRAL_EYESO  RTEMPORAL_EYESO  \\\n",
       "0      -7.499692        -9.870920      -9.256354        -8.411475   \n",
       "1      -1.417596        -1.803991      -5.032359        -1.305830   \n",
       "2      -4.229089        -5.551192      -6.196523        -4.862521   \n",
       "3      -4.229259        -5.323222      -4.222231        -4.593246   \n",
       "4      -5.924871        -5.432904      -5.899741        -5.781139   \n",
       "\n",
       "   OCCIPITAL_EYESO  \n",
       "0        -7.131687  \n",
       "1        -1.603454  \n",
       "2        -2.743728  \n",
       "3        -4.574440  \n",
       "4        -8.530632  \n",
       "\n",
       "[5 rows x 126 columns]"
      ]
     },
     "execution_count": 31,
     "metadata": {},
     "output_type": "execute_result"
    }
   ],
   "source": [
    "df.head()"
   ]
  },
  {
   "cell_type": "markdown",
   "metadata": {},
   "source": [
    "## 3. compute t-tests using voytek groups"
   ]
  },
  {
   "cell_type": "code",
   "execution_count": 15,
   "metadata": {
    "collapsed": true
   },
   "outputs": [],
   "source": [
    "oa = df[df.AGE >= 60]\n",
    "oa = oa[oa.CLASS != 'SA']\n",
    "ya = df[df.AGE <= 35.5]\n",
    "channels = list(df.columns.values)[4:] # Exclude SUBJECT, CLASS, AGE, SEX"
   ]
  },
  {
   "cell_type": "code",
   "execution_count": 29,
   "metadata": {
    "collapsed": false
   },
   "outputs": [
    {
     "name": "stdout",
     "output_type": "stream",
     "text": [
      "AVG_OA_PSD_EYESC:\t\t\t-5.48,\t0.000\n",
      "AVG_OA_PSD_EYESO:\t\t\t-2.49,\t0.017\n",
      "AVG_YA_PSD_EYESO:\t\t\t6.00,\t0.000\n"
     ]
    }
   ],
   "source": [
    "for ch in channels:\n",
    "    result = stats.ttest_ind(ya[ch], oa[ch], equal_var=False)\n",
    "    if result[1] < 0.05:\n",
    "                print(\"{}:\\t\\t\\t{:.2f},\\t{:.3f}\".format(ch, result.statistic, result.pvalue))"
   ]
  },
  {
   "cell_type": "markdown",
   "metadata": {},
   "source": [
    "## 4. construct plots comparing groups"
   ]
  },
  {
   "cell_type": "code",
   "execution_count": 25,
   "metadata": {
    "collapsed": false
   },
   "outputs": [
    {
     "name": "stdout",
     "output_type": "stream",
     "text": [
      "Ttest_indResult(statistic=-5.9926425478149747, pvalue=9.5391665484706531e-08)\n"
     ]
    }
   ],
   "source": [
    "result = stats.ttest_ind(ya['AVG_OA_PSD_EYESC'], oa['AVG_OA_PSD_EYESC'], equal_var=True)\n",
    "print(result)"
   ]
  },
  {
   "cell_type": "code",
   "execution_count": 28,
   "metadata": {
    "collapsed": false
   },
   "outputs": [
    {
     "data": {
      "text/plain": [
       "-5.9926425478149747"
      ]
     },
     "execution_count": 28,
     "metadata": {},
     "output_type": "execute_result"
    }
   ],
   "source": [
    "result.statistic"
   ]
  },
  {
   "cell_type": "code",
   "execution_count": 27,
   "metadata": {
    "collapsed": false
   },
   "outputs": [
    {
     "data": {
      "text/plain": [
       "0    -3.212677\n",
       "1    -3.212677\n",
       "2    -3.212677\n",
       "3    -3.212677\n",
       "4    -3.212677\n",
       "5    -3.212677\n",
       "7    -3.212677\n",
       "8    -3.212677\n",
       "9    -3.212677\n",
       "10   -3.212677\n",
       "11   -3.212677\n",
       "13   -3.212677\n",
       "15   -3.212677\n",
       "16   -3.212677\n",
       "20   -3.212677\n",
       "22   -3.212677\n",
       "23   -3.212677\n",
       "24   -3.212677\n",
       "25   -3.212677\n",
       "26   -3.212677\n",
       "27   -3.212677\n",
       "32   -3.212677\n",
       "35   -3.212677\n",
       "38   -3.212677\n",
       "39   -3.212677\n",
       "40   -3.212677\n",
       "42   -3.212677\n",
       "44   -3.212677\n",
       "45   -3.212677\n",
       "46   -3.212677\n",
       "47   -3.212677\n",
       "48   -3.212677\n",
       "49   -3.212677\n",
       "50   -3.212677\n",
       "51   -3.212677\n",
       "52   -3.212677\n",
       "53   -3.212677\n",
       "Name: AVG_OA_PSD_EYESC, dtype: float64"
      ]
     },
     "execution_count": 27,
     "metadata": {},
     "output_type": "execute_result"
    }
   ],
   "source": [
    "oa['AVG_OA_PSD_EYESC']"
   ]
  },
  {
   "cell_type": "code",
   "execution_count": 3,
   "metadata": {
    "collapsed": false
   },
   "outputs": [
    {
     "ename": "OSError",
     "evalue": "File b'../data/pipeline-full/ya-oa-full-ransac-2-24-eyesc-eyeso-sep.csv' does not exist",
     "output_type": "error",
     "traceback": [
      "\u001b[0;31m---------------------------------------------------------------------------\u001b[0m",
      "\u001b[0;31mOSError\u001b[0m                                   Traceback (most recent call last)",
      "\u001b[0;32m<ipython-input-3-436ee5cef6bb>\u001b[0m in \u001b[0;36m<module>\u001b[0;34m()\u001b[0m\n\u001b[0;32m----> 1\u001b[0;31m \u001b[0mdf\u001b[0m \u001b[0;34m=\u001b[0m \u001b[0mpd\u001b[0m\u001b[0;34m.\u001b[0m\u001b[0mread_csv\u001b[0m\u001b[0;34m(\u001b[0m\u001b[0;34m'../data/pipeline-full/ya-oa-full-ransac-2-24-eyesc-eyeso-sep.csv'\u001b[0m\u001b[0;34m)\u001b[0m\u001b[0;34m\u001b[0m\u001b[0m\n\u001b[0m",
      "\u001b[0;32m/Users/jorge/Development/anaconda3/lib/python3.5/site-packages/pandas/io/parsers.py\u001b[0m in \u001b[0;36mparser_f\u001b[0;34m(filepath_or_buffer, sep, delimiter, header, names, index_col, usecols, squeeze, prefix, mangle_dupe_cols, dtype, engine, converters, true_values, false_values, skipinitialspace, skiprows, skipfooter, nrows, na_values, keep_default_na, na_filter, verbose, skip_blank_lines, parse_dates, infer_datetime_format, keep_date_col, date_parser, dayfirst, iterator, chunksize, compression, thousands, decimal, lineterminator, quotechar, quoting, escapechar, comment, encoding, dialect, tupleize_cols, error_bad_lines, warn_bad_lines, skip_footer, doublequote, delim_whitespace, as_recarray, compact_ints, use_unsigned, low_memory, buffer_lines, memory_map, float_precision)\u001b[0m\n\u001b[1;32m    560\u001b[0m                     skip_blank_lines=skip_blank_lines)\n\u001b[1;32m    561\u001b[0m \u001b[0;34m\u001b[0m\u001b[0m\n\u001b[0;32m--> 562\u001b[0;31m         \u001b[0;32mreturn\u001b[0m \u001b[0m_read\u001b[0m\u001b[0;34m(\u001b[0m\u001b[0mfilepath_or_buffer\u001b[0m\u001b[0;34m,\u001b[0m \u001b[0mkwds\u001b[0m\u001b[0;34m)\u001b[0m\u001b[0;34m\u001b[0m\u001b[0m\n\u001b[0m\u001b[1;32m    563\u001b[0m \u001b[0;34m\u001b[0m\u001b[0m\n\u001b[1;32m    564\u001b[0m     \u001b[0mparser_f\u001b[0m\u001b[0;34m.\u001b[0m\u001b[0m__name__\u001b[0m \u001b[0;34m=\u001b[0m \u001b[0mname\u001b[0m\u001b[0;34m\u001b[0m\u001b[0m\n",
      "\u001b[0;32m/Users/jorge/Development/anaconda3/lib/python3.5/site-packages/pandas/io/parsers.py\u001b[0m in \u001b[0;36m_read\u001b[0;34m(filepath_or_buffer, kwds)\u001b[0m\n\u001b[1;32m    313\u001b[0m \u001b[0;34m\u001b[0m\u001b[0m\n\u001b[1;32m    314\u001b[0m     \u001b[0;31m# Create the parser.\u001b[0m\u001b[0;34m\u001b[0m\u001b[0;34m\u001b[0m\u001b[0m\n\u001b[0;32m--> 315\u001b[0;31m     \u001b[0mparser\u001b[0m \u001b[0;34m=\u001b[0m \u001b[0mTextFileReader\u001b[0m\u001b[0;34m(\u001b[0m\u001b[0mfilepath_or_buffer\u001b[0m\u001b[0;34m,\u001b[0m \u001b[0;34m**\u001b[0m\u001b[0mkwds\u001b[0m\u001b[0;34m)\u001b[0m\u001b[0;34m\u001b[0m\u001b[0m\n\u001b[0m\u001b[1;32m    316\u001b[0m \u001b[0;34m\u001b[0m\u001b[0m\n\u001b[1;32m    317\u001b[0m     \u001b[0;32mif\u001b[0m \u001b[0;34m(\u001b[0m\u001b[0mnrows\u001b[0m \u001b[0;32mis\u001b[0m \u001b[0;32mnot\u001b[0m \u001b[0;32mNone\u001b[0m\u001b[0;34m)\u001b[0m \u001b[0;32mand\u001b[0m \u001b[0;34m(\u001b[0m\u001b[0mchunksize\u001b[0m \u001b[0;32mis\u001b[0m \u001b[0;32mnot\u001b[0m \u001b[0;32mNone\u001b[0m\u001b[0;34m)\u001b[0m\u001b[0;34m:\u001b[0m\u001b[0;34m\u001b[0m\u001b[0m\n",
      "\u001b[0;32m/Users/jorge/Development/anaconda3/lib/python3.5/site-packages/pandas/io/parsers.py\u001b[0m in \u001b[0;36m__init__\u001b[0;34m(self, f, engine, **kwds)\u001b[0m\n\u001b[1;32m    643\u001b[0m             \u001b[0mself\u001b[0m\u001b[0;34m.\u001b[0m\u001b[0moptions\u001b[0m\u001b[0;34m[\u001b[0m\u001b[0;34m'has_index_names'\u001b[0m\u001b[0;34m]\u001b[0m \u001b[0;34m=\u001b[0m \u001b[0mkwds\u001b[0m\u001b[0;34m[\u001b[0m\u001b[0;34m'has_index_names'\u001b[0m\u001b[0;34m]\u001b[0m\u001b[0;34m\u001b[0m\u001b[0m\n\u001b[1;32m    644\u001b[0m \u001b[0;34m\u001b[0m\u001b[0m\n\u001b[0;32m--> 645\u001b[0;31m         \u001b[0mself\u001b[0m\u001b[0;34m.\u001b[0m\u001b[0m_make_engine\u001b[0m\u001b[0;34m(\u001b[0m\u001b[0mself\u001b[0m\u001b[0;34m.\u001b[0m\u001b[0mengine\u001b[0m\u001b[0;34m)\u001b[0m\u001b[0;34m\u001b[0m\u001b[0m\n\u001b[0m\u001b[1;32m    646\u001b[0m \u001b[0;34m\u001b[0m\u001b[0m\n\u001b[1;32m    647\u001b[0m     \u001b[0;32mdef\u001b[0m \u001b[0mclose\u001b[0m\u001b[0;34m(\u001b[0m\u001b[0mself\u001b[0m\u001b[0;34m)\u001b[0m\u001b[0;34m:\u001b[0m\u001b[0;34m\u001b[0m\u001b[0m\n",
      "\u001b[0;32m/Users/jorge/Development/anaconda3/lib/python3.5/site-packages/pandas/io/parsers.py\u001b[0m in \u001b[0;36m_make_engine\u001b[0;34m(self, engine)\u001b[0m\n\u001b[1;32m    797\u001b[0m     \u001b[0;32mdef\u001b[0m \u001b[0m_make_engine\u001b[0m\u001b[0;34m(\u001b[0m\u001b[0mself\u001b[0m\u001b[0;34m,\u001b[0m \u001b[0mengine\u001b[0m\u001b[0;34m=\u001b[0m\u001b[0;34m'c'\u001b[0m\u001b[0;34m)\u001b[0m\u001b[0;34m:\u001b[0m\u001b[0;34m\u001b[0m\u001b[0m\n\u001b[1;32m    798\u001b[0m         \u001b[0;32mif\u001b[0m \u001b[0mengine\u001b[0m \u001b[0;34m==\u001b[0m \u001b[0;34m'c'\u001b[0m\u001b[0;34m:\u001b[0m\u001b[0;34m\u001b[0m\u001b[0m\n\u001b[0;32m--> 799\u001b[0;31m             \u001b[0mself\u001b[0m\u001b[0;34m.\u001b[0m\u001b[0m_engine\u001b[0m \u001b[0;34m=\u001b[0m \u001b[0mCParserWrapper\u001b[0m\u001b[0;34m(\u001b[0m\u001b[0mself\u001b[0m\u001b[0;34m.\u001b[0m\u001b[0mf\u001b[0m\u001b[0;34m,\u001b[0m \u001b[0;34m**\u001b[0m\u001b[0mself\u001b[0m\u001b[0;34m.\u001b[0m\u001b[0moptions\u001b[0m\u001b[0;34m)\u001b[0m\u001b[0;34m\u001b[0m\u001b[0m\n\u001b[0m\u001b[1;32m    800\u001b[0m         \u001b[0;32melse\u001b[0m\u001b[0;34m:\u001b[0m\u001b[0;34m\u001b[0m\u001b[0m\n\u001b[1;32m    801\u001b[0m             \u001b[0;32mif\u001b[0m \u001b[0mengine\u001b[0m \u001b[0;34m==\u001b[0m \u001b[0;34m'python'\u001b[0m\u001b[0;34m:\u001b[0m\u001b[0;34m\u001b[0m\u001b[0m\n",
      "\u001b[0;32m/Users/jorge/Development/anaconda3/lib/python3.5/site-packages/pandas/io/parsers.py\u001b[0m in \u001b[0;36m__init__\u001b[0;34m(self, src, **kwds)\u001b[0m\n\u001b[1;32m   1211\u001b[0m         \u001b[0mkwds\u001b[0m\u001b[0;34m[\u001b[0m\u001b[0;34m'allow_leading_cols'\u001b[0m\u001b[0;34m]\u001b[0m \u001b[0;34m=\u001b[0m \u001b[0mself\u001b[0m\u001b[0;34m.\u001b[0m\u001b[0mindex_col\u001b[0m \u001b[0;32mis\u001b[0m \u001b[0;32mnot\u001b[0m \u001b[0;32mFalse\u001b[0m\u001b[0;34m\u001b[0m\u001b[0m\n\u001b[1;32m   1212\u001b[0m \u001b[0;34m\u001b[0m\u001b[0m\n\u001b[0;32m-> 1213\u001b[0;31m         \u001b[0mself\u001b[0m\u001b[0;34m.\u001b[0m\u001b[0m_reader\u001b[0m \u001b[0;34m=\u001b[0m \u001b[0m_parser\u001b[0m\u001b[0;34m.\u001b[0m\u001b[0mTextReader\u001b[0m\u001b[0;34m(\u001b[0m\u001b[0msrc\u001b[0m\u001b[0;34m,\u001b[0m \u001b[0;34m**\u001b[0m\u001b[0mkwds\u001b[0m\u001b[0;34m)\u001b[0m\u001b[0;34m\u001b[0m\u001b[0m\n\u001b[0m\u001b[1;32m   1214\u001b[0m \u001b[0;34m\u001b[0m\u001b[0m\n\u001b[1;32m   1215\u001b[0m         \u001b[0;31m# XXX\u001b[0m\u001b[0;34m\u001b[0m\u001b[0;34m\u001b[0m\u001b[0m\n",
      "\u001b[0;32mpandas/parser.pyx\u001b[0m in \u001b[0;36mpandas.parser.TextReader.__cinit__ (pandas/parser.c:3427)\u001b[0;34m()\u001b[0m\n",
      "\u001b[0;32mpandas/parser.pyx\u001b[0m in \u001b[0;36mpandas.parser.TextReader._setup_parser_source (pandas/parser.c:6861)\u001b[0;34m()\u001b[0m\n",
      "\u001b[0;31mOSError\u001b[0m: File b'../data/pipeline-full/ya-oa-full-ransac-2-24-eyesc-eyeso-sep.csv' does not exist"
     ]
    }
   ],
   "source": [
    "df = pd.read_csv('../data/pipeline-full/ya-oa-full-ransac-2-24-eyesc-eyeso-sep.csv')"
   ]
  },
  {
   "cell_type": "code",
   "execution_count": null,
   "metadata": {
    "collapsed": true
   },
   "outputs": [],
   "source": []
  }
 ],
 "metadata": {
  "anaconda-cloud": {},
  "kernelspec": {
   "display_name": "Python 3",
   "language": "python",
   "name": "python3"
  },
  "language_info": {
   "codemirror_mode": {
    "name": "ipython",
    "version": 3
   },
   "file_extension": ".py",
   "mimetype": "text/x-python",
   "name": "python",
   "nbconvert_exporter": "python",
   "pygments_lexer": "ipython3",
   "version": "3.5.2"
  }
 },
 "nbformat": 4,
 "nbformat_minor": 1
}

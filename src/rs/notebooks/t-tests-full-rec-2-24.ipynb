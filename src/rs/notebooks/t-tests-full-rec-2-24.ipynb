{
 "cells": [
  {
   "cell_type": "markdown",
   "metadata": {},
   "source": [
    "# t-tests-full-rec-2-24\n",
    "\n",
    "This notebook runs t-tests on all subjects, based on `ya-oa-full-rec-slopes-2-24.csv`, which had linear regression computed from 2 - 24 Hz and the removal of an alpha buffer between 7 - 14 Hz.\n",
    "\n",
    "$$\n",
    "H_0: \\mu(YA_{slope}) = \\mu(OA_{slope})\n",
    "$$\n",
    "\n",
    "$$\n",
    "H_a: \\mu(YA_{slope}) < \\mu(OA_{slope})\n",
    "$$"
   ]
  },
  {
   "cell_type": "code",
   "execution_count": 3,
   "metadata": {
    "collapsed": false
   },
   "outputs": [],
   "source": [
    "%matplotlib inline\n",
    "import seaborn\n",
    "import numpy as np\n",
    "import scipy as sp\n",
    "import pandas as pd\n",
    "import matplotlib as mpl\n",
    "import scipy.stats as stats\n",
    "import matplotlib.pyplot as plt\n",
    "from sklearn import linear_model\n",
    "mpl.rcParams['figure.figsize'] = (16, 10)"
   ]
  },
  {
   "cell_type": "markdown",
   "metadata": {},
   "source": [
    "Importing `ya-oa-full-rec-slopes-2-24.csv`..."
   ]
  },
  {
   "cell_type": "code",
   "execution_count": 59,
   "metadata": {
    "collapsed": false
   },
   "outputs": [
    {
     "data": {
      "text/html": [
       "<div>\n",
       "<table border=\"1\" class=\"dataframe\">\n",
       "  <thead>\n",
       "    <tr style=\"text-align: right;\">\n",
       "      <th></th>\n",
       "      <th>SUBJECT</th>\n",
       "      <th>CLASS</th>\n",
       "      <th>AGE</th>\n",
       "      <th>SEX</th>\n",
       "      <th>AVG_OA_PSD_EYESC</th>\n",
       "      <th>AVG_OA_PSD_EYESO</th>\n",
       "      <th>AVG_YA_PSD_EYESC</th>\n",
       "      <th>AVG_YA_PSD_EYESO</th>\n",
       "      <th>AVG_PSD_EYESC</th>\n",
       "      <th>AVG_PSD_EYESO</th>\n",
       "      <th>...</th>\n",
       "      <th>FRONTAL_EYESC</th>\n",
       "      <th>FRONTAL_EYESO</th>\n",
       "      <th>LTEMPORAL_EYESC</th>\n",
       "      <th>LTEMPORAL_EYESO</th>\n",
       "      <th>CENTRAL_EYESC</th>\n",
       "      <th>CENTRAL_EYESO</th>\n",
       "      <th>RTEMPORAL_EYESC</th>\n",
       "      <th>RTEMPORAL_EYESO</th>\n",
       "      <th>OCCIPITAL_EYESC</th>\n",
       "      <th>OCCIPITAL_EYESO</th>\n",
       "    </tr>\n",
       "  </thead>\n",
       "  <tbody>\n",
       "    <tr>\n",
       "      <th>0</th>\n",
       "      <td>120127101</td>\n",
       "      <td>SA_Control</td>\n",
       "      <td>80.84873</td>\n",
       "      <td>2.0</td>\n",
       "      <td>-4.34227</td>\n",
       "      <td>-3.134892</td>\n",
       "      <td>-6.051054</td>\n",
       "      <td>-5.046973</td>\n",
       "      <td>-6.862338</td>\n",
       "      <td>-5.993324</td>\n",
       "      <td>...</td>\n",
       "      <td>-8.672824</td>\n",
       "      <td>-7.766009</td>\n",
       "      <td>-10.355797</td>\n",
       "      <td>-9.870920</td>\n",
       "      <td>-8.886973</td>\n",
       "      <td>-9.256354</td>\n",
       "      <td>-9.514349</td>\n",
       "      <td>-8.718649</td>\n",
       "      <td>-7.726645</td>\n",
       "      <td>-7.131687</td>\n",
       "    </tr>\n",
       "    <tr>\n",
       "      <th>1</th>\n",
       "      <td>120127102</td>\n",
       "      <td>MCI_Control</td>\n",
       "      <td>71.89870</td>\n",
       "      <td>1.0</td>\n",
       "      <td>-4.34227</td>\n",
       "      <td>-3.134892</td>\n",
       "      <td>-6.051054</td>\n",
       "      <td>-5.046973</td>\n",
       "      <td>-5.043768</td>\n",
       "      <td>-1.707319</td>\n",
       "      <td>...</td>\n",
       "      <td>-6.822904</td>\n",
       "      <td>-3.996478</td>\n",
       "      <td>-6.491346</td>\n",
       "      <td>-3.017757</td>\n",
       "      <td>-6.675483</td>\n",
       "      <td>-5.742492</td>\n",
       "      <td>-5.226341</td>\n",
       "      <td>-1.570847</td>\n",
       "      <td>-6.432560</td>\n",
       "      <td>-3.653080</td>\n",
       "    </tr>\n",
       "    <tr>\n",
       "      <th>2</th>\n",
       "      <td>120127103</td>\n",
       "      <td>MCI_Control</td>\n",
       "      <td>69.43463</td>\n",
       "      <td>2.0</td>\n",
       "      <td>-4.34227</td>\n",
       "      <td>-3.134892</td>\n",
       "      <td>-6.051054</td>\n",
       "      <td>-5.046973</td>\n",
       "      <td>-4.404398</td>\n",
       "      <td>-2.421660</td>\n",
       "      <td>...</td>\n",
       "      <td>-4.235969</td>\n",
       "      <td>-4.397806</td>\n",
       "      <td>-6.102922</td>\n",
       "      <td>-5.551192</td>\n",
       "      <td>-6.771141</td>\n",
       "      <td>-6.602679</td>\n",
       "      <td>-5.542418</td>\n",
       "      <td>-5.150955</td>\n",
       "      <td>-3.417101</td>\n",
       "      <td>-3.998930</td>\n",
       "    </tr>\n",
       "    <tr>\n",
       "      <th>3</th>\n",
       "      <td>120127104</td>\n",
       "      <td>SA_Control</td>\n",
       "      <td>83.61396</td>\n",
       "      <td>2.0</td>\n",
       "      <td>-4.34227</td>\n",
       "      <td>-3.134892</td>\n",
       "      <td>-6.051054</td>\n",
       "      <td>-5.046973</td>\n",
       "      <td>-4.147895</td>\n",
       "      <td>-2.305099</td>\n",
       "      <td>...</td>\n",
       "      <td>-6.391124</td>\n",
       "      <td>-4.478913</td>\n",
       "      <td>-6.255836</td>\n",
       "      <td>-5.451922</td>\n",
       "      <td>-5.435296</td>\n",
       "      <td>-4.705022</td>\n",
       "      <td>-5.914093</td>\n",
       "      <td>-4.571635</td>\n",
       "      <td>-6.477717</td>\n",
       "      <td>-5.189071</td>\n",
       "    </tr>\n",
       "    <tr>\n",
       "      <th>4</th>\n",
       "      <td>120127105</td>\n",
       "      <td>SA_Control</td>\n",
       "      <td>80.69541</td>\n",
       "      <td>2.0</td>\n",
       "      <td>-4.34227</td>\n",
       "      <td>-3.134892</td>\n",
       "      <td>-6.051054</td>\n",
       "      <td>-5.046973</td>\n",
       "      <td>-5.327249</td>\n",
       "      <td>-5.730176</td>\n",
       "      <td>...</td>\n",
       "      <td>-6.609690</td>\n",
       "      <td>-5.981445</td>\n",
       "      <td>-6.667336</td>\n",
       "      <td>-5.432904</td>\n",
       "      <td>-7.119155</td>\n",
       "      <td>-6.554409</td>\n",
       "      <td>-7.226378</td>\n",
       "      <td>-6.100613</td>\n",
       "      <td>-8.148066</td>\n",
       "      <td>-8.137746</td>\n",
       "    </tr>\n",
       "  </tbody>\n",
       "</table>\n",
       "<p>5 rows × 126 columns</p>\n",
       "</div>"
      ],
      "text/plain": [
       "     SUBJECT        CLASS       AGE  SEX  AVG_OA_PSD_EYESC  AVG_OA_PSD_EYESO  \\\n",
       "0  120127101   SA_Control  80.84873  2.0          -4.34227         -3.134892   \n",
       "1  120127102  MCI_Control  71.89870  1.0          -4.34227         -3.134892   \n",
       "2  120127103  MCI_Control  69.43463  2.0          -4.34227         -3.134892   \n",
       "3  120127104   SA_Control  83.61396  2.0          -4.34227         -3.134892   \n",
       "4  120127105   SA_Control  80.69541  2.0          -4.34227         -3.134892   \n",
       "\n",
       "   AVG_YA_PSD_EYESC  AVG_YA_PSD_EYESO  AVG_PSD_EYESC  AVG_PSD_EYESO  \\\n",
       "0         -6.051054         -5.046973      -6.862338      -5.993324   \n",
       "1         -6.051054         -5.046973      -5.043768      -1.707319   \n",
       "2         -6.051054         -5.046973      -4.404398      -2.421660   \n",
       "3         -6.051054         -5.046973      -4.147895      -2.305099   \n",
       "4         -6.051054         -5.046973      -5.327249      -5.730176   \n",
       "\n",
       "        ...         FRONTAL_EYESC  FRONTAL_EYESO  LTEMPORAL_EYESC  \\\n",
       "0       ...             -8.672824      -7.766009       -10.355797   \n",
       "1       ...             -6.822904      -3.996478        -6.491346   \n",
       "2       ...             -4.235969      -4.397806        -6.102922   \n",
       "3       ...             -6.391124      -4.478913        -6.255836   \n",
       "4       ...             -6.609690      -5.981445        -6.667336   \n",
       "\n",
       "   LTEMPORAL_EYESO  CENTRAL_EYESC  CENTRAL_EYESO  RTEMPORAL_EYESC  \\\n",
       "0        -9.870920      -8.886973      -9.256354        -9.514349   \n",
       "1        -3.017757      -6.675483      -5.742492        -5.226341   \n",
       "2        -5.551192      -6.771141      -6.602679        -5.542418   \n",
       "3        -5.451922      -5.435296      -4.705022        -5.914093   \n",
       "4        -5.432904      -7.119155      -6.554409        -7.226378   \n",
       "\n",
       "   RTEMPORAL_EYESO  OCCIPITAL_EYESC  OCCIPITAL_EYESO  \n",
       "0        -8.718649        -7.726645        -7.131687  \n",
       "1        -1.570847        -6.432560        -3.653080  \n",
       "2        -5.150955        -3.417101        -3.998930  \n",
       "3        -4.571635        -6.477717        -5.189071  \n",
       "4        -6.100613        -8.148066        -8.137746  \n",
       "\n",
       "[5 rows x 126 columns]"
      ]
     },
     "execution_count": 59,
     "metadata": {},
     "output_type": "execute_result"
    }
   ],
   "source": [
    "df = pd.read_csv('../data/pipeline-full/ya-oa-full-rec-slopes-2-24.csv')\n",
    "df.head()"
   ]
  },
  {
   "cell_type": "markdown",
   "metadata": {},
   "source": [
    "## Voytek groups\n",
    "Let's look at the groups that Brad was looking at:\n",
    "- Younger adults up to 35.\n",
    "- Older adults over the age of 60 who are not super-agers."
   ]
  },
  {
   "cell_type": "code",
   "execution_count": 37,
   "metadata": {
    "collapsed": false
   },
   "outputs": [],
   "source": [
    "oa = df[df.AGE >= 60]\n",
    "oa = oa[oa.CLASS != 'SA']\n",
    "ya = df[df.AGE <= 35.5] "
   ]
  },
  {
   "cell_type": "code",
   "execution_count": 40,
   "metadata": {
    "collapsed": false
   },
   "outputs": [
    {
     "name": "stdout",
     "output_type": "stream",
     "text": [
      "(37, 126)\n",
      "(31, 126)\n"
     ]
    }
   ],
   "source": [
    "print(oa.shape)\n",
    "print(ya.shape)"
   ]
  },
  {
   "cell_type": "code",
   "execution_count": 55,
   "metadata": {
    "collapsed": false
   },
   "outputs": [
    {
     "name": "stdout",
     "output_type": "stream",
     "text": [
      "AVG_OA_PSD_EYESC:\t-6.00,\t0.000\n",
      "AVG_YA_PSD_EYESC:\t2.49,\t0.017\n",
      "AVG_YA_PSD_EYESO:\t-2.49,\t0.017\n",
      "AVG_PSD_EYESO:\t-3.24,\t0.002\n",
      "A1_EYESO:\t-2.62,\t0.011\n",
      "A4_EYESO:\t-2.31,\t0.024\n",
      "A5_EYESO:\t-3.07,\t0.003\n",
      "A14_EYESO:\t-2.86,\t0.006\n",
      "A15_EYESO:\t-2.59,\t0.012\n",
      "A24_EYESO:\t-2.17,\t0.034\n",
      "A27_EYESO:\t-2.41,\t0.019\n",
      "A29_EYESO:\t-2.01,\t0.048\n",
      "A30_EYESO:\t-2.86,\t0.006\n",
      "A31_EYESO:\t-2.29,\t0.025\n",
      "B1_EYESO:\t-3.43,\t0.001\n",
      "B3_EYESO:\t-3.37,\t0.001\n",
      "B4_EYESO:\t-2.43,\t0.018\n",
      "B11_EYESO:\t-2.61,\t0.011\n",
      "B17_EYESO:\t-2.22,\t0.030\n",
      "B23_EYESO:\t-2.42,\t0.018\n",
      "B26_EYESO:\t-2.26,\t0.027\n",
      "B29_EYESO:\t-2.25,\t0.028\n",
      "FRONTAL_EYESO:\t-4.02,\t0.000\n",
      "CENTRAL_EYESO:\t-2.63,\t0.011\n",
      "RTEMPORAL_EYESC:\t-2.13,\t0.037\n",
      "RTEMPORAL_EYESO:\t-2.86,\t0.006\n",
      "OCCIPITAL_EYESO:\t-2.88,\t0.005\n"
     ]
    }
   ],
   "source": [
    "channels = [\"AVG_OA_PSD_EYESC\",\"AVG_OA_PSD_EYESO\",\"AVG_YA_PSD_EYESC\",\"AVG_YA_PSD_EYESO\",\"AVG_PSD_EYESC\",\"AVG_PSD_EYESO\",\"A1_EYESC\",\"A1_EYESO\",\"A2_EYESC\",\"A2_EYESO\",\"A3_EYESC\",\"A3_EYESO\",\"A4_EYESC\",\"A4_EYESO\",\"A5_EYESC\",\"A5_EYESO\",\"A6_EYESC\",\"A6_EYESO\",\"A7_EYESC\",\"A7_EYESO\",\"A8_EYESC\",\"A8_EYESO\",\"A10_EYESC\",\"A10_EYESO\",\"A11_EYESC\",\"A11_EYESO\",\"A12_EYESC\",\"A12_EYESO\",\"A13_EYESC\",\"A13_EYESO\",\"A14_EYESC\",\"A14_EYESO\",\"A15_EYESC\",\"A15_EYESO\",\"A16_EYESC\",\"A16_EYESO\",\"A17_EYESC\",\"A17_EYESO\",\"A18_EYESC\",\"A18_EYESO\",\"A21_EYESC\",\"A21_EYESO\",\"A22_EYESC\",\"A22_EYESO\",\"A23_EYESC\",\"A23_EYESO\",\"A24_EYESC\",\"A24_EYESO\",\"A25_EYESC\",\"A25_EYESO\",\"A26_EYESC\",\"A26_EYESO\",\"A27_EYESC\",\"A27_EYESO\",\"A29_EYESC\",\"A29_EYESO\",\"A30_EYESC\",\"A30_EYESO\",\"A31_EYESC\",\"A31_EYESO\",\"B1_EYESC\",\"B1_EYESO\",\"B2_EYESC\",\"B2_EYESO\",\"B3_EYESC\",\"B3_EYESO\",\"B4_EYESC\",\"B4_EYESO\",\"B5_EYESC\",\"B5_EYESO\",\"B6_EYESC\",\"B6_EYESO\",\"B8_EYESC\",\"B8_EYESO\",\"B9_EYESC\",\"B9_EYESO\",\"B10_EYESC\",\"B10_EYESO\",\"B11_EYESC\",\"B11_EYESO\",\"B12_EYESC\",\"B12_EYESO\",\"B13_EYESC\",\"B13_EYESO\",\"B14_EYESC\",\"B14_EYESO\",\"B17_EYESC\",\"B17_EYESO\",\"B18_EYESC\",\"B18_EYESO\",\"B19_EYESC\",\"B19_EYESO\",\"B20_EYESC\",\"B20_EYESO\",\"B21_EYESC\",\"B21_EYESO\",\"B22_EYESC\",\"B22_EYESO\",\"B23_EYESC\",\"B23_EYESO\",\"B24_EYESC\",\"B24_EYESO\",\"B26_EYESC\",\"B26_EYESO\",\"B27_EYESC\",\"B27_EYESO\",\"B28_EYESC\",\"B28_EYESO\",\"B29_EYESC\",\"B29_EYESO\",\"B30_EYESC\",\"B30_EYESO\",\"FRONTAL_EYESC\",\"FRONTAL_EYESO\",\"LTEMPORAL_EYESC\",\"LTEMPORAL_EYESO\",\"CENTRAL_EYESC\",\"CENTRAL_EYESO\",\"RTEMPORAL_EYESC\",\"RTEMPORAL_EYESO\",\"OCCIPITAL_EYESC\",\"OCCIPITAL_EYESO\"]\n",
    "for ch in channels:\n",
    "    result = stats.ttest_ind(ya[ch], oa[ch], equal_var=False)\n",
    "    if result[1] < 0.05:\n",
    "        print(\"{}:\\t{:.2f},\\t{:.3f}\".format(ch, result[0], result[1]))"
   ]
  },
  {
   "cell_type": "markdown",
   "metadata": {},
   "source": [
    "| Channel   | T-Statistic | P-Value  |\n",
    "|-----------|-------------|----------|\n",
    "| AVG_PSD_EYESO:  | -3.24 |0.002 |\n",
    "| A1_EYESO:  | -2.62 |\t0.011 |\n",
    "| A4_EYESO:  | -2.31 |\t0.024 |\n",
    "| A5_EYESO:  | -3.07 |\t0.003 |\n",
    "| A14_EYESO:  | -2.86 |\t0.006 |\n",
    "| A15_EYESO:  | -2.59 |\t0.012 |\n",
    "| A24_EYESO:  | -2.17 |\t0.034 |\n",
    "| A27_EYESO:  | -2.41 |\t0.019 |\n",
    "| A29_EYESO:  | -2.01 |\t0.048 |\n",
    "| A30_EYESO:  | -2.86 |\t0.006 |\n",
    "| A31_EYESO:  | -2.29 |\t0.025 |\n",
    "| B1_EYESO:  | -3.43 |\t0.001 |\n",
    "| B3_EYESO:  | -3.37 |\t0.001 |\n",
    "| B4_EYESO:  | -2.43 |\t0.018 |\n",
    "| B11_EYESO:  | -2.61 |\t0.011 |\n",
    "| B17_EYESO:  | -2.22 |\t0.030 |\n",
    "| B23_EYESO:  | -2.42 |\t0.018 |\n",
    "| B26_EYESO:  | -2.26 |\t0.027 |\n",
    "| B29_EYESO:  | -2.25 |\t0.028 |\n",
    "| FRONTAL_EYESO:  | -4.02 |0.000 |\n",
    "| CENTRAL_EYESO:  | -2.63 |0.011 |\n",
    "| RTEMPORAL_EYESC:  | -2.13 |  0.037 |\n",
    "| RTEMPORAL_EYESO:  | -2.86 |  0.006 |\n",
    "| OCCIPITAL_EYESO:  | -2.88 |  0.005 |"
   ]
  },
  {
   "cell_type": "code",
   "execution_count": 71,
   "metadata": {
    "collapsed": false
   },
   "outputs": [
    {
     "data": {
      "text/plain": [
       "<matplotlib.legend.Legend at 0x11ad0e550>"
      ]
     },
     "execution_count": 71,
     "metadata": {},
     "output_type": "execute_result"
    },
    {
     "data": {
      "image/png": "[encoded data removed]",
      "text/plain": [
       "<matplotlib.figure.Figure at 0x1198c00b8>"
      ]
     },
     "metadata": {},
     "output_type": "display_data"
    }
   ],
   "source": [
    "a, b, c = plt.hist(ya.FRONTAL_EYESO, label='YA')\n",
    "a, b, c = plt.hist(oa.FRONTAL_EYESO, label='OA')\n",
    "plt.legend()"
   ]
  },
  {
   "cell_type": "code",
   "execution_count": 72,
   "metadata": {
    "collapsed": false
   },
   "outputs": [
    {
     "data": {
      "image/png": "[encoded data removed]",
      "text/plain": [
       "<matplotlib.figure.Figure at 0x119e7fe10>"
      ]
     },
     "metadata": {},
     "output_type": "display_data"
    }
   ],
   "source": [
    "a, b, c = plt.hist(ya.AVG_OA_PSD_EYESC)\n",
    "a, b, c = plt.hist(oa.AVG_OA_PSD_EYESC)"
   ]
  },
  {
   "cell_type": "code",
   "execution_count": 74,
   "metadata": {
    "collapsed": false
   },
   "outputs": [
    {
     "data": {
      "text/plain": [
       "54   -4.34227\n",
       "55   -4.34227\n",
       "56   -4.34227\n",
       "57   -4.34227\n",
       "58   -4.34227\n",
       "59   -4.34227\n",
       "62   -4.34227\n",
       "64   -4.34227\n",
       "66   -4.34227\n",
       "67   -4.34227\n",
       "68   -4.34227\n",
       "70   -4.34227\n",
       "71   -4.34227\n",
       "72   -4.34227\n",
       "73   -4.34227\n",
       "74   -4.34227\n",
       "75   -4.34227\n",
       "76   -4.34227\n",
       "77   -4.34227\n",
       "78   -4.34227\n",
       "79   -4.34227\n",
       "80   -4.34227\n",
       "81   -4.34227\n",
       "82   -4.34227\n",
       "83   -4.34227\n",
       "84   -4.34227\n",
       "85   -4.34227\n",
       "86   -4.34227\n",
       "87   -4.34227\n",
       "88   -4.34227\n",
       "89   -4.34227\n",
       "Name: AVG_OA_PSD_EYESC, dtype: float64"
      ]
     },
     "execution_count": 74,
     "metadata": {},
     "output_type": "execute_result"
    }
   ],
   "source": [
    "ya.AVG_OA_PSD_EYESC"
   ]
  },
  {
   "cell_type": "code",
   "execution_count": 75,
   "metadata": {
    "collapsed": false
   },
   "outputs": [
    {
     "data": {
      "text/plain": [
       "0    -4.34227\n",
       "1    -4.34227\n",
       "2    -4.34227\n",
       "3    -4.34227\n",
       "4    -4.34227\n",
       "5    -4.34227\n",
       "7    -4.34227\n",
       "8    -4.34227\n",
       "9    -4.34227\n",
       "10   -4.34227\n",
       "11   -4.34227\n",
       "13   -4.34227\n",
       "15   -4.34227\n",
       "16   -4.34227\n",
       "20   -4.34227\n",
       "22   -4.34227\n",
       "23   -4.34227\n",
       "24   -4.34227\n",
       "25   -4.34227\n",
       "26   -4.34227\n",
       "27   -4.34227\n",
       "32   -4.34227\n",
       "35   -4.34227\n",
       "38   -4.34227\n",
       "39   -4.34227\n",
       "40   -4.34227\n",
       "42   -4.34227\n",
       "44   -4.34227\n",
       "45   -4.34227\n",
       "46   -4.34227\n",
       "47   -4.34227\n",
       "48   -4.34227\n",
       "49   -4.34227\n",
       "50   -4.34227\n",
       "51   -4.34227\n",
       "52   -4.34227\n",
       "53   -4.34227\n",
       "Name: AVG_OA_PSD_EYESC, dtype: float64"
      ]
     },
     "execution_count": 75,
     "metadata": {},
     "output_type": "execute_result"
    }
   ],
   "source": [
    "oa.AVG_OA_PSD_EYESC"
   ]
  },
  {
   "cell_type": "code",
   "execution_count": 2,
   "metadata": {
    "collapsed": false
   },
   "outputs": [
    {
     "data": {
      "text/plain": [
       "'user/local/sbin:/Users/jorge/anaconda/bin:/usr/local/bin:/usr/bin:/bin:/usr/sbin:/sbin:/opt/X11/bin:/usr/local/share/dotnet:/usr/local/m-cli'"
      ]
     },
     "execution_count": 2,
     "metadata": {},
     "output_type": "execute_result"
    }
   ],
   "source": []
  },
  {
   "cell_type": "code",
   "execution_count": null,
   "metadata": {
    "collapsed": true
   },
   "outputs": [],
   "source": []
  }
 ],
 "metadata": {
  "kernelspec": {
   "display_name": "Python 3",
   "language": "python",
   "name": "python3"
  },
  "language_info": {
   "codemirror_mode": {
    "name": "ipython",
    "version": 3
   },
   "file_extension": ".py",
   "mimetype": "text/x-python",
   "name": "python",
   "nbconvert_exporter": "python",
   "pygments_lexer": "ipython3",
   "version": "3.5.1"
  }
 },
 "nbformat": 4,
 "nbformat_minor": 0
}

{
 "cells": [
  {
   "cell_type": "markdown",
   "metadata": {},
   "source": [
    "# limit datalength\n",
    "\n",
    "DANE data was ran with longer recording lengths than the older adults. In order to make our data recording lengths equal, this notebook explores how to limit DANE data prior to window extraction for PSD computation."
   ]
  },
  {
   "cell_type": "code",
   "execution_count": 38,
   "metadata": {
    "collapsed": false
   },
   "outputs": [],
   "source": [
    "import os\n",
    "import glob\n",
    "import getopt\n",
    "import datetime\n",
    "import numpy as np\n",
    "import scipy as sp\n",
    "import seaborn as sns\n",
    "import pandas as pd\n",
    "import scipy.io\n",
    "import scipy.signal\n",
    "from sklearn import linear_model\n",
    "import matplotlib as mpl\n",
    "import matplotlib.pyplot as plt\n",
    "%matplotlib inline\n",
    "mpl.rcParams['figure.figsize'] = (16, 10)"
   ]
  },
  {
   "cell_type": "code",
   "execution_count": 9,
   "metadata": {
    "collapsed": true
   },
   "outputs": [],
   "source": [
    "def get_filelist(import_path):\n",
    "    matfiles = []\n",
    "    for root, dirs, files in os.walk(import_path):\n",
    "        matfiles += glob.glob(os.path.join(root, '*.mat'))\n",
    "    return matfiles\n",
    "\n",
    "def import_subject(subj, i, import_path):\n",
    "    \"\"\" Imports a single subject and adds them to the subj data structure.\n",
    "    Inputs:\n",
    "        - subj: Dictionary, contains all subject information. Constructed by\n",
    "        compute_subject_psds()\n",
    "        - i: Integer, specifies the ID of the current subject being imported.\n",
    "        import_path: String, absolute path to directory containing .mat files.\n",
    "    \"\"\"\n",
    "    subj[i] = {}\n",
    "    datafile = sp.io.loadmat(import_path)\n",
    "    subj[i]['name'] = str(np.squeeze(datafile['name']))\n",
    "    subj[i]['srate'] = int(np.squeeze(datafile['srate']))\n",
    "    subj[i]['events'] = []\n",
    "    for event in np.squeeze(datafile['evts']):\n",
    "        subj[i]['events'].append([event[0][0], event[1][0][0], event[2][0][0]])\n",
    "    subj[i]['data'] = np.squeeze(datafile['data'])\n",
    "    subj[i]['nbchan'] = len(subj[i]['data'])\n",
    "    return subj\n",
    "\n",
    "def get_num_extractable_windows(events, print_info):\n",
    "    \"\"\"\n",
    "    Helper function that returns the total number of windows and seconds\n",
    "    able to be extracted from a specified resting state recording.\n",
    "    Inputs:\n",
    "        - events: List of event codes, each event in the format: [port_code, time_point],\n",
    "        such as ['C1', 10249]\n",
    "        - port_code: String specifying the events to extract. For example, 'C1' or 'O1'\n",
    "        for eyes-closed and eyes-open resting state data, respectively.\n",
    "        - print_info: Boolean specifying whether to print info to the terminal.\n",
    "\n",
    "    get_num_extractable_windows assumes that we're looking for windows of 2-second lengths,\n",
    "    with 50% overlap. Thus, 3 seconds of extractable data provides us with 2 windows.\n",
    "    \"\"\"\n",
    "    for event in events:\n",
    "        # If we can extract at least two seconds...\n",
    "        if (event[1] - event[0]) >= 1024:\n",
    "            points = event[1] - event[0]\n",
    "            secs   = (event[1] - event[0])//512\n",
    "            nwin   = (event[1] - event[0])//512 - 1 # Assuming 50% window overlap.\n",
    "            total_wins += nwin\n",
    "            total_secs += secs\n",
    "            if print_info == True:\n",
    "                print('Event {}:\\t{} points, {} seconds, {} windows'.format(event, points, secs, nwin))\n",
    "    if print_info == True:\n",
    "        print('Total windows able to be extracted: ', total_wins)\n",
    "        print('Total seconds able to be extracted: ', total_secs)\n",
    "    return total_wins, total_secs\n",
    "\n",
    "def get_windows(data, events, nperwindow=512*2, noverlap=512):\n",
    "    \"\"\" Grabs windows of data of type port_code using events information.\n",
    "    Arguments:\n",
    "        data:       A channel of data from which to extract windows.\n",
    "        events:     List of time segments from which to extract data, with a time\n",
    "                    segment in the format: [start_timepoint, ending_timepoint]\n",
    "        port_code:  String specifying the events to extract. For example, 'C1' or 'O1'\n",
    "                    for eyes-closed and eyes-open resting state data, respectively.\n",
    "        nperwindow: Time-points to use per window. Default value, provided sampling rate\n",
    "                    is 512 Hz, is 2 seconds.\n",
    "        noverlap:   Overlap of windows. Default is 50%.\n",
    "    \"\"\"\n",
    "    windows = []\n",
    "    for event in events:\n",
    "        if event[1]-event[0] >= nperwindow:\n",
    "            nwindows = (event[1] - event[0])//noverlap - 1\n",
    "            for i in range(nwindows):\n",
    "                windows.append(data[event[0] + noverlap*i : event[0] + noverlap*i + nperwindow])\n",
    "    return windows\n",
    "\n",
    "def welch(windows, srate):\n",
    "    \"\"\"\n",
    "    Takes a list of data segments (each size 1xN), computes each segment's PSD,\n",
    "    and averages them to get a final PSD.\n",
    "    \"\"\"\n",
    "    psds = [sp.signal.welch(window, srate, nperseg=len(window), window='hamming')[1] for window in windows]\n",
    "    return np.mean(psds, axis=0)\n",
    "\n",
    "def remove_freq_buffer(data, lofreq, hifreq):\n",
    "    \"\"\"\n",
    "    Removes a frequency buffer from a PSD or frequency vector.\n",
    "    \"\"\"\n",
    "    data = np.delete(data, range(lofreq*2, hifreq*2))\n",
    "    return data.reshape(len(data), 1)\n",
    "\n",
    "def compute_subject_psds(import_path, import_path_csv):\n",
    "    \"\"\" Returns subj data structure with calculated PSDs and subject information.\n",
    "    Arguments:\n",
    "        import_path:     String, path to .mat files\n",
    "        import_path_csv: String, path to .csv containing subject class, sex, and\n",
    "                         age information.\n",
    "    \"\"\"\n",
    "    matfiles = get_filelist(import_path)\n",
    "    df = pd.read_csv(import_path_csv)\n",
    "    df.SUBJECT = df.SUBJECT.astype(str)\n",
    "\n",
    "    # Making sure that all subjects are available in the .csv\n",
    "    subjects = set(map(lambda x: x.split('/')[-1][:-4], matfiles))\n",
    "    missing = subjects - set(df.SUBJECT)\n",
    "    if len(missing) != 0:\n",
    "        for s in missing:\n",
    "            print('ERROR: Specified csv does not contain information for subject {}.\\n'.format(s))\n",
    "        raise Exception('Missing subject information from csv. Either remove subject file from\\n'+\n",
    "                        'processing pipeline or add subject information to csv file.')\n",
    "\n",
    "    subj = {}\n",
    "    subj['nbsubj'] = len(matfiles)\n",
    "    subj['f'] = np.linspace(0, 256, 513)\n",
    "    subj['f'] = subj['f'].reshape(len(subj['f']), 1)\n",
    "    subj['f_rm_alpha'] = remove_freq_buffer(subj['f'], 7, 14)\n",
    "    for i in range(len(matfiles)):\n",
    "        print('Processing: {}... '.format(matfiles[i].split('/')[-1]), end='')\n",
    "\n",
    "        subj = import_subject(subj, i, matfiles[i])\n",
    "        subj[i]['age']   = df[df.SUBJECT == subj[i]['name']].AGE.values[0]\n",
    "        subj[i]['class'] = df[df.SUBJECT == subj[i]['name']].CLASS.values[0]\n",
    "        subj[i]['sex']   = df[df.SUBJECT == subj[i]['name']].SEX.values[0]\n",
    "\n",
    "        # Reorganize events into two separate lists: Eyes closed and eyes open.\n",
    "        subj[i]['events_eyesc'] = [[subj[i]['events'][j][1], subj[i]['events'][j+1][1]] for j in range(len(subj[i]['events'])) if subj[i]['events'][j][0] == 'C1']\n",
    "        subj[i]['events_eyeso'] = [[subj[i]['events'][j][1], subj[i]['events'][j+1][1]] for j in range(len(subj[i]['events'])) if subj[i]['events'][j][0] == 'O1']\n",
    "\n",
    "        for ch in range(subj[i]['nbchan']):\n",
    "            subj[i][ch] = {}\n",
    "            eyesC_windows = get_windows(subj[i]['data'][ch], subj[i]['events_eyesc'])\n",
    "            eyesO_windows = get_windows(subj[i]['data'][ch], subj[i]['events_eyeso'])\n",
    "            # Discard windows from the back of the recording if the subject has more than 100.\n",
    "            while len(eyesC_windows) > nwins_upperlimit:\n",
    "                eyesC_windows.pop()\n",
    "            while len(eyesO_windows) > nwins_upperlimit:\n",
    "                eyesO_windows.pop()\n",
    "            subj[i][ch]['eyesC_psd'] = welch(eyesC_windows, 512)\n",
    "            subj[i][ch]['eyesO_psd'] = welch(eyesO_windows, 512)\n",
    "            subj[i][ch]['eyesC_psd_rm_alpha'] = remove_freq_buffer(subj[i][ch]['eyesC_psd'], 7, 14)\n",
    "            subj[i][ch]['eyesO_psd_rm_alpha'] = remove_freq_buffer(subj[i][ch]['eyesO_psd'], 7, 14)\n",
    "        subj[i]['eyesc_nwindows'] = len(eyesC_windows)\n",
    "        subj[i]['eyeso_nwindows'] = len(eyesO_windows)\n",
    "        subj[i]['data'] = np.nan # No longer needed, so clear it from memory\n",
    "        subj[i]['eyesC_psd'] = np.mean([subj[i][ch]['eyesC_psd'] for ch in range(subj[i]['nbchan'])], axis=0)\n",
    "        subj[i]['eyesO_psd'] = np.mean([subj[i][ch]['eyesO_psd'] for ch in range(subj[i]['nbchan'])], axis=0)\n",
    "        subj[i]['eyesC_psd_rm_alpha'] = remove_freq_buffer(subj[i]['eyesC_psd'], 7, 14)\n",
    "        subj[i]['eyesO_psd_rm_alpha'] = remove_freq_buffer(subj[i]['eyesO_psd'], 7, 14)\n",
    "        print('Done.')\n",
    "    return subj\n",
    "\n",
    "def linreg_slope(f, psd, lofreq, hifreq):\n",
    "    \"\"\"\n",
    "    Fits line to the PSD, using simple linear regression.\n",
    "    Returns slope and fit line.\n",
    "    \"\"\"\n",
    "    model = linear_model.LinearRegression()\n",
    "    model.fit(f[lofreq*2:hifreq*2], np.log10(psd[lofreq*2:hifreq*2]))\n",
    "    fit_line = model.predict(f)\n",
    "    return model.coef_[0] * (10**2), fit_line\n",
    "\n",
    "def ransac_slope(f, psd, lofreq, hifreq):\n",
    "    \"\"\"\n",
    "    Robustly fits line to the PSD, using the RANSAC algorithm.\n",
    "    Returns slope and fit line.\n",
    "    \"\"\"\n",
    "    model_ransac = linear_model.RANSACRegressor(linear_model.LinearRegression())\n",
    "    model_ransac.fit(f[lofreq*2:hifreq*2], np.log10(psd[lofreq*2:hifreq*2]))\n",
    "    fit_line = model_ransac.predict(f)\n",
    "    return model_ransac.estimator_.coef_[0] * (10**2), fit_line\n",
    "\n",
    "def fit_slopes(subj, regr_func, lofreq, hifreq):\n",
    "    \"\"\"\n",
    "    Takes subj data structure and fits slopes to each subject's PSDs and mean\n",
    "    PSD, using regr_func and fitting to datapoints between lofreq and hifreq.\n",
    "    \"\"\"\n",
    "    for i in range(subj['nbsubj']):\n",
    "        # Per-subject PSD average fitting\n",
    "        subj[i]['eyesC_slope'], subj[i]['eyesC_fitline'] = regr_func(subj['f'], subj[i]['eyesC_psd'], lofreq, hifreq)\n",
    "        subj[i]['eyesO_slope'], subj[i]['eyesO_fitline'] = regr_func(subj['f'], subj[i]['eyesO_psd'], lofreq, hifreq)\n",
    "        for ch in range(subj[i]['nbchan']):\n",
    "            # Per-channel PSD fitting\n",
    "            subj[i][ch]['eyesC_slope'], subj[i][ch]['eyesC_fitline'] = regr_func(subj['f'], subj[i][ch]['eyesC_psd_rm_alpha'], lofreq, hifreq)\n",
    "            subj[i][ch]['eyesO_slope'], subj[i][ch]['eyesO_fitline'] = regr_func(subj['f'], subj[i][ch]['eyesO_psd_rm_alpha'], lofreq, hifreq)\n",
    "    return subj\n",
    "\n",
    "def get_subject_slopes(subj, ch, slope_type):\n",
    "    \"\"\" Returns list of slopes for specified channel of slope_type.\n",
    "    Arguments:\n",
    "        subj: The subj data structure.\n",
    "        ch:   Scalar, channel for which to get list of subject slopes.\n",
    "        slope_type: String, e.g., 'eyesO_slope' or 'eyesC_slope'\n",
    "    \"\"\"\n",
    "    if ch == -1: # Slope of PSD grand average\n",
    "        return [subj[i][slope_type] for i in range(subj['nbsubj'])]\n",
    "    else:\n",
    "        return [subj[i][ch][slope_type][0] for i in range(subj['nbsubj'])]"
   ]
  },
  {
   "cell_type": "code",
   "execution_count": 33,
   "metadata": {
    "collapsed": false
   },
   "outputs": [
    {
     "name": "stdout",
     "output_type": "stream",
     "text": [
      "Processing: 1121181181.mat... Processing: 1121181183.mat... Processing: 1121181218.mat... Processing: 1121181262.mat... Processing: 1121181286.mat... Processing: 112118131.mat... Processing: 1121181334.mat... Processing: 112118135.mat... Processing: 1121181393.mat... Processing: 1121181418.mat... Processing: 1121181424.mat... Processing: 1121181428.mat... Processing: 1121181510.mat... Processing: 1121181517.mat... Processing: 1121181575.mat... Processing: 112118167.mat... Processing: 112118204.mat... Processing: 112118257.mat... Processing: 112118266.mat... Processing: 112118334.mat... Processing: 112118373.mat... Processing: 112118416.mat... Processing: 112118463.mat... Processing: 112118468.mat... Processing: 112118475.mat... Processing: 112118479.mat... Processing: 112118521.mat... Processing: 112118526.mat... Processing: 112118576.mat... Processing: 112118578.mat... Processing: 112118587.mat... Processing: 112118642.mat... Processing: 112118723.mat... Processing: 112118761.mat... Processing: 112118762.mat... Processing: 112118785.mat... Processing: 120127101.mat... Processing: 120127102.mat... Processing: 120127103.mat... Processing: 120127104.mat... Processing: 120127105.mat... Processing: 120127106.mat... Processing: 120127107.mat... Processing: 120127108.mat... Processing: 120127109.mat... Processing: 120127110.mat... Processing: 120127111.mat... Processing: 120127112.mat... Processing: 120127113.mat... Processing: 120127114.mat... Processing: 120127115.mat... Processing: 120127116.mat... Processing: 120127117.mat... Processing: 120127118.mat... Processing: 120127119.mat... Processing: 120127120.mat... Processing: 120127121.mat... Processing: 120127122.mat... Processing: 120127123.mat... Processing: 120127124.mat... Processing: 120127125.mat... Processing: 120127128.mat... Processing: 120127130.mat... Processing: 120127131.mat... Processing: 120127132.mat... Processing: 120127134.mat... Processing: 120127135.mat... Processing: 120127137.mat... Processing: 120127138.mat... Processing: 120127139.mat... Processing: 120127140.mat... Processing: 120127142.mat... Processing: 120127144.mat... Processing: 120127145.mat... Processing: 120127146.mat... Processing: 120127147.mat... Processing: 120127148.mat... Processing: 120127149.mat... Processing: 120127151.mat... Processing: 120127153.mat... Processing: 120127154.mat... Processing: 120127155.mat... Processing: 120127156.mat... Processing: 120127157.mat... Processing: 120127158.mat... Processing: 120127159.mat... Processing: 120127160.mat... Processing: 120127161.mat... Processing: 120127162.mat... Processing: 120127163.mat... Processing: 120127164.mat... Processing: 120127165.mat... Processing: 120127166.mat... Processing: 120127167.mat... Processing: 120127168.mat... Processing: 120127169.mat... Processing: 120127170.mat... "
     ]
    }
   ],
   "source": [
    "importpath_mat = '/Users/jorge/Drive/research/_psd-slope/data/rs/full/source-dmn/MagEvtFiltCAR-mat/'\n",
    "matfiles = get_filelist(importpath_mat)\n",
    "df = pd.read_csv('/Users/jorge/Drive/research/_psd-slope/data/auxilliary/ya-oa.csv')\n",
    "df.SUBJECT = df.SUBJECT.astype(str)\n",
    "# Making sure that all subjects are available in the .csv\n",
    "subjects = set(map(lambda x: x.split('/')[-1][:-4], matfiles))\n",
    "missing = subjects - set(df.SUBJECT)\n",
    "if len(missing) != 0:\n",
    "    for s in missing:\n",
    "        print('ERROR: Specified csv does not contain information for subject {}.\\n'.format(s))\n",
    "    raise Exception('Missing subject information from csv. Either remove subject file from\\n'+\n",
    "                    'processing pipeline or add subject information to csv file.')\n",
    "\n",
    "\n",
    "oa_lengths = []\n",
    "oa_last_events = []\n",
    "ya_lengths = []\n",
    "ya_last_events = []\n",
    "\n",
    "subj = {}\n",
    "subj['nbsubj'] = len(matfiles)\n",
    "subj['f'] = np.linspace(0, 256, 513)\n",
    "subj['f'] = subj['f'].reshape(len(subj['f']), 1)\n",
    "subj['f_rm_alpha'] = remove_freq_buffer(subj['f'], 7, 14)\n",
    "for i in range(len(matfiles)):\n",
    "    print('Processing: {}... '.format(matfiles[i].split('/')[-1]), end='')\n",
    "\n",
    "    subj = import_subject(subj, i, matfiles[i])\n",
    "    subj[i]['age']   = df[df.SUBJECT == subj[i]['name']].AGE.values[0]\n",
    "    subj[i]['class'] = df[df.SUBJECT == subj[i]['name']].CLASS.values[0]\n",
    "    subj[i]['sex']   = df[df.SUBJECT == subj[i]['name']].SEX.values[0]\n",
    "    \n",
    "    # Reorganize events into two separate lists: Eyes closed and eyes open.\n",
    "    subj[i]['events_eyesc'] = [[subj[i]['events'][j][1], subj[i]['events'][j+1][1]] for j in range(len(subj[i]['events'])) if subj[i]['events'][j][0] == 'C1']\n",
    "    subj[i]['events_eyeso'] = [[subj[i]['events'][j][1], subj[i]['events'][j+1][1]] for j in range(len(subj[i]['events'])) if subj[i]['events'][j][0] == 'O1']\n",
    "    \n",
    "    # Add data lengths for older and younger adults\n",
    "    if subj[i]['class'] != 'DANE':\n",
    "        oa_lengths.append(len(subj[i]['data'][0]))\n",
    "        oa_last_events.append(subj[i]['events'][-1])\n",
    "    else:\n",
    "        ya_lengths.append(len(subj[i]['data'][0]))\n",
    "        ya_last_events.append(subj[i]['events'][-1])"
   ]
  },
  {
   "cell_type": "code",
   "execution_count": 15,
   "metadata": {
    "collapsed": false
   },
   "outputs": [
    {
     "data": {
      "text/plain": [
       "[355327,\n",
       " 261631,\n",
       " 255999,\n",
       " 263679,\n",
       " 303615,\n",
       " 387071,\n",
       " 317951,\n",
       " 384511,\n",
       " 294911,\n",
       " 311807,\n",
       " 300543,\n",
       " 370687,\n",
       " 299519,\n",
       " 300543,\n",
       " 282111,\n",
       " 301055,\n",
       " 350207,\n",
       " 313343,\n",
       " 173567,\n",
       " 300543,\n",
       " 275967,\n",
       " 259583,\n",
       " 360447,\n",
       " 320511,\n",
       " 357375,\n",
       " 318463,\n",
       " 312831,\n",
       " 365567,\n",
       " 308223,\n",
       " 301055,\n",
       " 308223,\n",
       " 265727,\n",
       " 444927,\n",
       " 322047,\n",
       " 309759,\n",
       " 269823]"
      ]
     },
     "execution_count": 15,
     "metadata": {},
     "output_type": "execute_result"
    }
   ],
   "source": [
    "ya_lengths"
   ]
  },
  {
   "cell_type": "code",
   "execution_count": 16,
   "metadata": {
    "collapsed": false
   },
   "outputs": [
    {
     "data": {
      "text/plain": [
       "[220159,\n",
       " 191999,\n",
       " 208383,\n",
       " 250367,\n",
       " 205823,\n",
       " 198143,\n",
       " 211455,\n",
       " 198143,\n",
       " 186879,\n",
       " 189951,\n",
       " 174591,\n",
       " 183807,\n",
       " 218623,\n",
       " 203775,\n",
       " 225279,\n",
       " 212991,\n",
       " 209407,\n",
       " 193023,\n",
       " 211967,\n",
       " 215039,\n",
       " 222207,\n",
       " 200703,\n",
       " 152063,\n",
       " 199167,\n",
       " 307199,\n",
       " 193023,\n",
       " 209919,\n",
       " 194559,\n",
       " 198143,\n",
       " 193535,\n",
       " 205311,\n",
       " 188415,\n",
       " 187903,\n",
       " 379391,\n",
       " 189951,\n",
       " 210943,\n",
       " 206335,\n",
       " 254975,\n",
       " 214527,\n",
       " 306687,\n",
       " 167935,\n",
       " 186879,\n",
       " 195583,\n",
       " 167935,\n",
       " 201727,\n",
       " 192511,\n",
       " 196095,\n",
       " 203263,\n",
       " 236031,\n",
       " 215039,\n",
       " 309759,\n",
       " 196095,\n",
       " 242687,\n",
       " 231935,\n",
       " 188415,\n",
       " 195071,\n",
       " 234495,\n",
       " 221183,\n",
       " 200703,\n",
       " 231935,\n",
       " 278015]"
      ]
     },
     "execution_count": 16,
     "metadata": {},
     "output_type": "execute_result"
    }
   ],
   "source": [
    "oa_lengths"
   ]
  },
  {
   "cell_type": "code",
   "execution_count": 27,
   "metadata": {
    "collapsed": false
   },
   "outputs": [
    {
     "name": "stdout",
     "output_type": "stream",
     "text": [
      "416.817719006\n",
      "72.767428355\n",
      "740.998046875\n",
      "296.998046875\n"
     ]
    },
    {
     "data": {
      "text/plain": [
       "(array([  4.,  18.,  24.,   8.,   2.,   1.,   3.,   0.,   0.,   1.]),\n",
       " array([ 296.99804688,  341.39804687,  385.79804688,  430.19804687,\n",
       "         474.59804688,  518.99804688,  563.39804687,  607.79804687,\n",
       "         652.19804688,  696.59804687,  740.99804688]),\n",
       " <a list of 10 Patch objects>)"
      ]
     },
     "execution_count": 27,
     "metadata": {},
     "output_type": "execute_result"
    },
    {
     "data": {
      "image/png": "[encoded data removed]",
      "text/plain": [
       "<matplotlib.figure.Figure at 0x22550b940>"
      ]
     },
     "metadata": {},
     "output_type": "display_data"
    }
   ],
   "source": [
    "oa_secs = [x/512 for x in oa_lengths]\n",
    "print(np.mean(oa_secs))\n",
    "print(np.std(oa_secs))\n",
    "print(np.max(oa_secs))\n",
    "print(np.min(oa_secs))\n",
    "plt.hist(oa_secs)"
   ]
  },
  {
   "cell_type": "code",
   "execution_count": 20,
   "metadata": {
    "collapsed": false
   },
   "outputs": [
    {
     "name": "stdout",
     "output_type": "stream",
     "text": [
      "609.220269097\n",
      "92.1222349536\n"
     ]
    }
   ],
   "source": [
    "ya_secs = [x/512 for x in ya_lengths]\n",
    "print(np.mean(ya_secs))\n",
    "# print(np.max(y))\n",
    "print(np.std(ya_secs))"
   ]
  },
  {
   "cell_type": "code",
   "execution_count": 25,
   "metadata": {
    "collapsed": false
   },
   "outputs": [
    {
     "data": {
      "text/plain": [
       "(array([  1.,   0.,   0.,   7.,  11.,   8.,   4.,   4.,   0.,   1.]),\n",
       " array([ 338.99804688,  391.99804688,  444.99804688,  497.99804688,\n",
       "         550.99804688,  603.99804688,  656.99804688,  709.99804688,\n",
       "         762.99804688,  815.99804688,  868.99804688]),\n",
       " <a list of 10 Patch objects>)"
      ]
     },
     "execution_count": 25,
     "metadata": {},
     "output_type": "execute_result"
    },
    {
     "data": {
      "image/png": "[encoded data removed]",
      "text/plain": [
       "<matplotlib.figure.Figure at 0x2255033c8>"
      ]
     },
     "metadata": {},
     "output_type": "display_data"
    }
   ],
   "source": [
    "plt.hist(oa_secs)\n",
    "plt.hist(ya_secs)"
   ]
  },
  {
   "cell_type": "code",
   "execution_count": 28,
   "metadata": {
    "collapsed": false
   },
   "outputs": [
    {
     "data": {
      "text/plain": [
       "dict_keys(['srate', 'nbchan', 'data', 'sex', 'events_eyeso', 'age', 'class', 'events', 'name', 'events_eyesc'])"
      ]
     },
     "execution_count": 28,
     "metadata": {},
     "output_type": "execute_result"
    }
   ],
   "source": [
    "subj[0].keys()"
   ]
  },
  {
   "cell_type": "code",
   "execution_count": 32,
   "metadata": {
    "collapsed": false
   },
   "outputs": [
    {
     "data": {
      "text/plain": [
       "[<matplotlib.lines.Line2D at 0x226cdf0f0>]"
      ]
     },
     "execution_count": 32,
     "metadata": {},
     "output_type": "execute_result"
    },
    {
     "data": {
      "image/png": "[encoded data removed]",
      "text/plain": [
       "<matplotlib.figure.Figure at 0x226c23780>"
      ]
     },
     "metadata": {},
     "output_type": "display_data"
    }
   ],
   "source": [
    "plt.plot(subj[0]['data'][0][0:2*512])"
   ]
  },
  {
   "cell_type": "code",
   "execution_count": 42,
   "metadata": {
    "collapsed": false
   },
   "outputs": [
    {
     "name": "stdout",
     "output_type": "stream",
     "text": [
      "213411.0\n",
      "37256.9233178\n",
      "379391\n",
      "152063\n"
     ]
    },
    {
     "data": {
      "text/plain": [
       "(array([ 1.,  0.,  0.,  0.,  0.,  0.,  0.,  0.,  0.,  0.,  0.,  0.,  0.,\n",
       "         0.,  0.,  0.,  0.,  0.,  0.,  0.,  0.,  0.,  0.,  0.,  0.,  0.,\n",
       "         0.,  0.,  0.,  0.,  1.,  1.,  1.,  2.,  0.,  1.,  0.,  1.,  0.,\n",
       "         0.,  1.,  0.,  0.,  0.,  1.,  0.,  6.,  1.,  0.,  2.,  2.,  2.,\n",
       "         0.,  2.,  2.,  0.,  0.,  0.,  0.,  0.,  0.,  0.,  0.,  0.,  0.,\n",
       "         1.,  1.,  1.,  1.,  0.,  1.,  0.,  1.,  0.,  0.,  0.,  0.,  1.,\n",
       "         1.,  0.,  0.,  0.,  0.,  0.,  0.,  0.,  0.,  0.,  0.,  0.,  0.,\n",
       "         0.,  0.,  0.,  0.,  0.,  0.,  0.,  0.,  1.]),\n",
       " array([ 173567. ,  176280.6,  178994.2,  181707.8,  184421.4,  187135. ,\n",
       "         189848.6,  192562.2,  195275.8,  197989.4,  200703. ,  203416.6,\n",
       "         206130.2,  208843.8,  211557.4,  214271. ,  216984.6,  219698.2,\n",
       "         222411.8,  225125.4,  227839. ,  230552.6,  233266.2,  235979.8,\n",
       "         238693.4,  241407. ,  244120.6,  246834.2,  249547.8,  252261.4,\n",
       "         254975. ,  257688.6,  260402.2,  263115.8,  265829.4,  268543. ,\n",
       "         271256.6,  273970.2,  276683.8,  279397.4,  282111. ,  284824.6,\n",
       "         287538.2,  290251.8,  292965.4,  295679. ,  298392.6,  301106.2,\n",
       "         303819.8,  306533.4,  309247. ,  311960.6,  314674.2,  317387.8,\n",
       "         320101.4,  322815. ,  325528.6,  328242.2,  330955.8,  333669.4,\n",
       "         336383. ,  339096.6,  341810.2,  344523.8,  347237.4,  349951. ,\n",
       "         352664.6,  355378.2,  358091.8,  360805.4,  363519. ,  366232.6,\n",
       "         368946.2,  371659.8,  374373.4,  377087. ,  379800.6,  382514.2,\n",
       "         385227.8,  387941.4,  390655. ,  393368.6,  396082.2,  398795.8,\n",
       "         401509.4,  404223. ,  406936.6,  409650.2,  412363.8,  415077.4,\n",
       "         417791. ,  420504.6,  423218.2,  425931.8,  428645.4,  431359. ,\n",
       "         434072.6,  436786.2,  439499.8,  442213.4,  444927. ]),\n",
       " <a list of 100 Patch objects>)"
      ]
     },
     "execution_count": 42,
     "metadata": {},
     "output_type": "execute_result"
    },
    {
     "data": {
      "image/png": "[encoded data removed]",
      "text/plain": [
       "<matplotlib.figure.Figure at 0x226c319b0>"
      ]
     },
     "metadata": {},
     "output_type": "display_data"
    }
   ],
   "source": [
    "print(np.round(np.mean(oa_lengths)))\n",
    "print(np.std(oa_lengths))\n",
    "print(np.max(oa_lengths))\n",
    "print(np.min(oa_lengths))\n",
    "plt.hist(oa_lengths, bins=100)\n",
    "plt.hist(ya_lengths, bins=100)"
   ]
  },
  {
   "cell_type": "code",
   "execution_count": 43,
   "metadata": {
    "collapsed": false
   },
   "outputs": [
    {
     "data": {
      "text/plain": [
       "(48, 355327)"
      ]
     },
     "execution_count": 43,
     "metadata": {},
     "output_type": "execute_result"
    }
   ],
   "source": [
    "subj[0]['data'].shape"
   ]
  },
  {
   "cell_type": "code",
   "execution_count": 56,
   "metadata": {
    "collapsed": false
   },
   "outputs": [
    {
     "data": {
      "text/plain": [
       "(48, 213411)"
      ]
     },
     "execution_count": 56,
     "metadata": {},
     "output_type": "execute_result"
    }
   ],
   "source": [
    "dat = subj[0]['data'][:, 0:213411]\n",
    "dat.shape"
   ]
  },
  {
   "cell_type": "code",
   "execution_count": 55,
   "metadata": {
    "collapsed": false
   },
   "outputs": [
    {
     "data": {
      "text/plain": [
       "(48, 10)"
      ]
     },
     "execution_count": 55,
     "metadata": {},
     "output_type": "execute_result"
    }
   ],
   "source": [
    "dat.shape"
   ]
  },
  {
   "cell_type": "code",
   "execution_count": 61,
   "metadata": {
    "collapsed": false
   },
   "outputs": [
    {
     "data": {
      "text/plain": [
       "['C2', 349043, 20]"
      ]
     },
     "execution_count": 61,
     "metadata": {},
     "output_type": "execute_result"
    }
   ],
   "source": [
    "subj[0]['events'][-1]"
   ]
  },
  {
   "cell_type": "code",
   "execution_count": 62,
   "metadata": {
    "collapsed": false
   },
   "outputs": [
    {
     "data": {
      "text/plain": [
       "[['C2', 349043, 20],\n",
       " ['O2', 260372, 20],\n",
       " ['C2', 254920, 68],\n",
       " ['C2', 262366, 26],\n",
       " ['C2', 297180, 22],\n",
       " ['C2', 378378, 18],\n",
       " ['C2', 310942, 42],\n",
       " ['C2', 374627, 50],\n",
       " ['C2', 290538, 20],\n",
       " ['C2', 305551, 48],\n",
       " ['C2', 296050, 34],\n",
       " ['C2', 363552, 28],\n",
       " ['C2', 293643, 16],\n",
       " ['C2', 294665, 72],\n",
       " ['C2', 281073, 22],\n",
       " ['C2', 299415, 28],\n",
       " ['C2', 341868, 26],\n",
       " ['C2', 306234, 50],\n",
       " ['O2', 155077, 30],\n",
       " ['C2', 295311, 48],\n",
       " ['C2', 272099, 32],\n",
       " ['C2', 258652, 24],\n",
       " ['C2', 351929, 72],\n",
       " ['C2', 299496, 26],\n",
       " ['C2', 346422, 104],\n",
       " ['C2', 315787, 56],\n",
       " ['C2', 305742, 40],\n",
       " ['C2', 357133, 28],\n",
       " ['C2', 302696, 62],\n",
       " ['C2', 291896, 28],\n",
       " ['C2', 302343, 54],\n",
       " ['C2', 262055, 28],\n",
       " ['C2', 437812, 28],\n",
       " ['C2', 315126, 18],\n",
       " ['C2', 304892, 44],\n",
       " ['C2', 268654, 18]]"
      ]
     },
     "execution_count": 62,
     "metadata": {},
     "output_type": "execute_result"
    }
   ],
   "source": [
    "ya_last_events"
   ]
  },
  {
   "cell_type": "code",
   "execution_count": 63,
   "metadata": {
    "collapsed": false
   },
   "outputs": [
    {
     "data": {
      "text/plain": [
       "[[75766, 102799],\n",
       " [103823, 106383],\n",
       " [114448, 145145],\n",
       " [195274, 213808],\n",
       " [215139, 225994],\n",
       " [318425, 349043]]"
      ]
     },
     "execution_count": 63,
     "metadata": {},
     "output_type": "execute_result"
    }
   ],
   "source": [
    "subj[0]['events_eyesc']"
   ]
  },
  {
   "cell_type": "code",
   "execution_count": null,
   "metadata": {
    "collapsed": true
   },
   "outputs": [],
   "source": [
    " "
   ]
  }
 ],
 "metadata": {
  "kernelspec": {
   "display_name": "Python [default]",
   "language": "python",
   "name": "python3"
  },
  "language_info": {
   "codemirror_mode": {
    "name": "ipython",
    "version": 3
   },
   "file_extension": ".py",
   "mimetype": "text/x-python",
   "name": "python",
   "nbconvert_exporter": "python",
   "pygments_lexer": "ipython3",
   "version": "3.5.2"
  }
 },
 "nbformat": 4,
 "nbformat_minor": 2
}

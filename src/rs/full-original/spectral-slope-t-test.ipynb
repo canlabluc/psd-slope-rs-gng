{
 "cells": [
  {
   "cell_type": "markdown",
   "metadata": {},
   "source": [
    "# t-test on spectral slope between ya and oa\n",
    "\n",
    "This notebook computes a simple t-test between the younger adults and older adults regarding their spectral slopes.\n",
    "\n",
    "$$\n",
    "H_0: \\mu(YA_{slope}) = \\mu(OA_{slope})\n",
    "$$\n",
    "\n",
    "$$\n",
    "H_a: \\mu(YA_{slope}) < \\mu(OA_{slope})\n",
    "$$"
   ]
  },
  {
   "cell_type": "code",
   "execution_count": 6,
   "metadata": {
    "collapsed": true
   },
   "outputs": [],
   "source": [
    "%matplotlib inline\n",
    "import os\n",
    "import glob\n",
    "import seaborn\n",
    "import csv as csv\n",
    "import numpy  as np\n",
    "import scipy  as sp\n",
    "import pandas as pd\n",
    "import scipy.stats as stats\n",
    "import matplotlib.pyplot as plt"
   ]
  },
  {
   "cell_type": "code",
   "execution_count": 59,
   "metadata": {
    "collapsed": false
   },
   "outputs": [
    {
     "data": {
      "text/html": [
       "<div>\n",
       "<table border=\"1\" class=\"dataframe\">\n",
       "  <thead>\n",
       "    <tr style=\"text-align: right;\">\n",
       "      <th></th>\n",
       "      <th>SUBJECT</th>\n",
       "      <th>CLASS</th>\n",
       "      <th>AGE</th>\n",
       "      <th>SEX</th>\n",
       "      <th>AVG_PSD_SLOPE</th>\n",
       "      <th>A1</th>\n",
       "      <th>A2</th>\n",
       "      <th>A3</th>\n",
       "      <th>A4</th>\n",
       "      <th>A5</th>\n",
       "      <th>...</th>\n",
       "      <th>B26</th>\n",
       "      <th>B27</th>\n",
       "      <th>B28</th>\n",
       "      <th>B29</th>\n",
       "      <th>B30</th>\n",
       "      <th>FRONTAL</th>\n",
       "      <th>LTEMPORAL</th>\n",
       "      <th>CENTRAL</th>\n",
       "      <th>RTEMPORAL</th>\n",
       "      <th>OCCIPITAL</th>\n",
       "    </tr>\n",
       "  </thead>\n",
       "  <tbody>\n",
       "    <tr>\n",
       "      <th>0</th>\n",
       "      <td>127101</td>\n",
       "      <td>SA_Control</td>\n",
       "      <td>80.84873</td>\n",
       "      <td>2.0</td>\n",
       "      <td>-5.804659</td>\n",
       "      <td>-6.207339</td>\n",
       "      <td>-6.006881</td>\n",
       "      <td>-5.004732</td>\n",
       "      <td>-6.249184</td>\n",
       "      <td>-7.848450</td>\n",
       "      <td>...</td>\n",
       "      <td>-4.748383</td>\n",
       "      <td>-5.950079</td>\n",
       "      <td>-6.606615</td>\n",
       "      <td>-5.917265</td>\n",
       "      <td>-4.766720</td>\n",
       "      <td>-6.458774</td>\n",
       "      <td>-6.633731</td>\n",
       "      <td>-7.051571</td>\n",
       "      <td>-6.169163</td>\n",
       "      <td>-5.433811</td>\n",
       "    </tr>\n",
       "    <tr>\n",
       "      <th>1</th>\n",
       "      <td>127102</td>\n",
       "      <td>MCI_Control</td>\n",
       "      <td>71.89870</td>\n",
       "      <td>1.0</td>\n",
       "      <td>-5.854608</td>\n",
       "      <td>-6.475066</td>\n",
       "      <td>-6.151471</td>\n",
       "      <td>-6.517301</td>\n",
       "      <td>-6.380120</td>\n",
       "      <td>-5.964319</td>\n",
       "      <td>...</td>\n",
       "      <td>-4.621796</td>\n",
       "      <td>-5.606016</td>\n",
       "      <td>-6.762557</td>\n",
       "      <td>-5.917265</td>\n",
       "      <td>-4.285510</td>\n",
       "      <td>-6.458774</td>\n",
       "      <td>-6.737865</td>\n",
       "      <td>-6.479462</td>\n",
       "      <td>-6.818404</td>\n",
       "      <td>-5.433811</td>\n",
       "    </tr>\n",
       "    <tr>\n",
       "      <th>2</th>\n",
       "      <td>127103</td>\n",
       "      <td>MCI_Control</td>\n",
       "      <td>69.43463</td>\n",
       "      <td>2.0</td>\n",
       "      <td>-2.606542</td>\n",
       "      <td>-2.343221</td>\n",
       "      <td>-2.556968</td>\n",
       "      <td>-2.007683</td>\n",
       "      <td>-0.922110</td>\n",
       "      <td>-2.570165</td>\n",
       "      <td>...</td>\n",
       "      <td>-0.981276</td>\n",
       "      <td>-2.358701</td>\n",
       "      <td>-3.011193</td>\n",
       "      <td>-2.159953</td>\n",
       "      <td>-1.578591</td>\n",
       "      <td>-0.696107</td>\n",
       "      <td>-4.134891</td>\n",
       "      <td>-4.065552</td>\n",
       "      <td>-3.002314</td>\n",
       "      <td>0.712028</td>\n",
       "    </tr>\n",
       "    <tr>\n",
       "      <th>3</th>\n",
       "      <td>127104</td>\n",
       "      <td>SA_Control</td>\n",
       "      <td>83.61396</td>\n",
       "      <td>2.0</td>\n",
       "      <td>-5.387849</td>\n",
       "      <td>-4.666144</td>\n",
       "      <td>-3.645240</td>\n",
       "      <td>-4.136069</td>\n",
       "      <td>-3.626828</td>\n",
       "      <td>-4.693491</td>\n",
       "      <td>...</td>\n",
       "      <td>-5.393366</td>\n",
       "      <td>-4.729700</td>\n",
       "      <td>-4.507910</td>\n",
       "      <td>-4.547847</td>\n",
       "      <td>-5.036724</td>\n",
       "      <td>-3.482842</td>\n",
       "      <td>-4.028538</td>\n",
       "      <td>-6.004186</td>\n",
       "      <td>-7.831297</td>\n",
       "      <td>-4.690516</td>\n",
       "    </tr>\n",
       "    <tr>\n",
       "      <th>4</th>\n",
       "      <td>127105</td>\n",
       "      <td>SA_Control</td>\n",
       "      <td>80.69541</td>\n",
       "      <td>2.0</td>\n",
       "      <td>-4.915307</td>\n",
       "      <td>-4.253528</td>\n",
       "      <td>-4.358633</td>\n",
       "      <td>-5.077860</td>\n",
       "      <td>-4.276687</td>\n",
       "      <td>-4.318121</td>\n",
       "      <td>...</td>\n",
       "      <td>-5.109961</td>\n",
       "      <td>-5.684171</td>\n",
       "      <td>-5.320151</td>\n",
       "      <td>-5.582867</td>\n",
       "      <td>-6.150030</td>\n",
       "      <td>-4.585814</td>\n",
       "      <td>-5.216128</td>\n",
       "      <td>-5.562051</td>\n",
       "      <td>-5.251369</td>\n",
       "      <td>-6.189279</td>\n",
       "    </tr>\n",
       "  </tbody>\n",
       "</table>\n",
       "<p>5 rows × 63 columns</p>\n",
       "</div>"
      ],
      "text/plain": [
       "   SUBJECT        CLASS       AGE  SEX  AVG_PSD_SLOPE        A1        A2  \\\n",
       "0   127101   SA_Control  80.84873  2.0      -5.804659 -6.207339 -6.006881   \n",
       "1   127102  MCI_Control  71.89870  1.0      -5.854608 -6.475066 -6.151471   \n",
       "2   127103  MCI_Control  69.43463  2.0      -2.606542 -2.343221 -2.556968   \n",
       "3   127104   SA_Control  83.61396  2.0      -5.387849 -4.666144 -3.645240   \n",
       "4   127105   SA_Control  80.69541  2.0      -4.915307 -4.253528 -4.358633   \n",
       "\n",
       "         A3        A4        A5    ...           B26       B27       B28  \\\n",
       "0 -5.004732 -6.249184 -7.848450    ...     -4.748383 -5.950079 -6.606615   \n",
       "1 -6.517301 -6.380120 -5.964319    ...     -4.621796 -5.606016 -6.762557   \n",
       "2 -2.007683 -0.922110 -2.570165    ...     -0.981276 -2.358701 -3.011193   \n",
       "3 -4.136069 -3.626828 -4.693491    ...     -5.393366 -4.729700 -4.507910   \n",
       "4 -5.077860 -4.276687 -4.318121    ...     -5.109961 -5.684171 -5.320151   \n",
       "\n",
       "        B29       B30   FRONTAL  LTEMPORAL   CENTRAL  RTEMPORAL  OCCIPITAL  \n",
       "0 -5.917265 -4.766720 -6.458774  -6.633731 -7.051571  -6.169163  -5.433811  \n",
       "1 -5.917265 -4.285510 -6.458774  -6.737865 -6.479462  -6.818404  -5.433811  \n",
       "2 -2.159953 -1.578591 -0.696107  -4.134891 -4.065552  -3.002314   0.712028  \n",
       "3 -4.547847 -5.036724 -3.482842  -4.028538 -6.004186  -7.831297  -4.690516  \n",
       "4 -5.582867 -6.150030 -4.585814  -5.216128 -5.562051  -5.251369  -6.189279  \n",
       "\n",
       "[5 rows x 63 columns]"
      ]
     },
     "execution_count": 59,
     "metadata": {},
     "output_type": "execute_result"
    }
   ],
   "source": [
    "df = pd.read_csv('../data/pipeline-20s-eyesc/ya-oa-slope-matrix.csv', index_col=0)\n",
    "\n",
    "young_adults = df[df['CLASS'].isin(['DANE'])]\n",
    "older_adults = df[df['CLASS'].isin(['MCI', 'MCI_Control', 'SA_Control'])]\n",
    "\n",
    "df.head()"
   ]
  },
  {
   "cell_type": "code",
   "execution_count": 62,
   "metadata": {
    "collapsed": false
   },
   "outputs": [
    {
     "name": "stdout",
     "output_type": "stream",
     "text": [
      "AVG_PSD_SLOPE: 0.7414846569599606, 0.4608836748734345\n",
      "A1: 0.1597351065778298, 0.8735222920683353\n",
      "A2: 0.5733694255752531, 0.5682784939413211\n",
      "A3: 0.19524745398812463, 0.8457749519932944\n",
      "A4: 0.428307799179612, 0.6696863001756269\n",
      "A5: 1.0723646192714853, 0.28695389033669966\n",
      "A6: 0.030451560548216402, 0.9757850251391449\n",
      "A7: -0.004357650813196908, 0.9965344612082685\n",
      "A8: -0.11635403295829762, 0.9076980248092712\n",
      "A10: -0.08537153344066568, 0.9322398560084846\n",
      "A11: 0.12013258975933491, 0.9046931333035328\n",
      "A12: 1.4365842026360234, 0.15506078587523878\n",
      "A13: 1.444000418066717, 0.1529934505017356\n",
      "A14: 1.8041819280311795, 0.07517716064319838\n",
      "A15: 1.4683597692894466, 0.1462549099716641\n",
      "\tA16: 2.3751018523063494, 0.020305071769785715\n",
      "A17: 1.0457511217044273, 0.2990136479417533\n",
      "A18: 0.0861746013011796, 0.931556142711104\n",
      "A21: -0.7039526715623664, 0.4837198043405707\n",
      "A22: 1.3743016165134165, 0.1733543406170976\n",
      "\tA23: 2.2589637660363335, 0.02726175910519117\n",
      "A24: 1.7386073221090155, 0.08657945144054528\n",
      "\tA25: 2.220600455231054, 0.02969629549658544\n",
      "A26: 0.7362521243340744, 0.4639088366369022\n",
      "A27: -1.590525884794112, 0.11621813363050672\n",
      "A29: 0.0687381636120719, 0.9454168767799858\n",
      "A30: 0.5812164116203881, 0.5630749127836512\n",
      "A31: -1.1163836020143958, 0.26866491104602885\n",
      "B1: 1.1374814981719197, 0.25915738791750115\n",
      "B2: 0.003587595504681289, 0.9971472709061248\n",
      "B3: 1.005531518862958, 0.3177616139872025\n",
      "B4: 0.47703518667713946, 0.634716768643579\n",
      "B5: 0.3244088113954676, 0.7465834048045172\n",
      "B6: -0.5488207173585494, 0.5847455031324662\n",
      "B8: -0.06974450195115721, 0.9445770607602797\n",
      "B9: -0.2418184750141025, 0.8096251770045\n",
      "\tB10: 2.10404359158583, 0.03886318424334639\n",
      "B11: 0.6918467670476027, 0.4912242055887752\n",
      "\tB12: 2.966194311346114, 0.004004641372494614\n",
      "B13: 0.5086263234669299, 0.6125672936470379\n",
      "B14: -0.7193480164294477, 0.47411664772893336\n",
      "B17: -0.5980060218950841, 0.5516254073931126\n",
      "B18: 0.5149799115964976, 0.6083400191291083\n",
      "B19: 1.9161267151593735, 0.05908400021607705\n",
      "B20: 1.069068312579433, 0.28858625611287503\n",
      "B21: 1.066079241220302, 0.2896932368373382\n",
      "B22: 1.8690210987714755, 0.06552246795981355\n",
      "B23: -1.3668757557903173, 0.1759540178032591\n",
      "B24: -0.7504814396111236, 0.4554672924411898\n",
      "B26: -1.92792661099475, 0.057987593603847094\n",
      "B27: -0.9753448668914781, 0.33285408347686407\n",
      "\tB28: 2.662542108777425, 0.009556903426900971\n",
      "B29: 0.708461822443143, 0.4811812536631752\n",
      "B30: -1.8065231186760666, 0.07513170921876325\n",
      "FRONTAL: 1.6886287699954816, 0.0957989123063521\n",
      "LTEMPORAL: -0.21346963680229397, 0.8315615298613459\n",
      "\tCENTRAL: 2.086804395755397, 0.04027262045933854\n",
      "RTEMPORAL: 0.10528715449191885, 0.9164383610732298\n",
      "OCCIPITAL: -1.3148863937428181, 0.19265014289726237\n"
     ]
    }
   ],
   "source": [
    "for ch in young_adults.loc[:, 'AVG_PSD_SLOPE':'OCCIPITAL']:\n",
    "    result = stats.ttest_ind(young_adults[ch], older_adults[ch], equal_var=False)\n",
    "    if result[1] < 0.05:\n",
    "        print(\"\\t{}: {}, {}\".format(ch, result[0], result[1]))\n",
    "    else:\n",
    "        print(\"{}: {}, {}\".format(ch, result[0], result[1]))"
   ]
  },
  {
   "cell_type": "code",
   "execution_count": 32,
   "metadata": {
    "collapsed": false
   },
   "outputs": [
    {
     "data": {
      "text/plain": [
       "SpearmanrResult(correlation=-0.15881020732067122, pvalue=0.30907017231797501)"
      ]
     },
     "execution_count": 32,
     "metadata": {},
     "output_type": "execute_result"
    }
   ],
   "source": [
    "scipy.stats.spearmanr(young_adults['Age'], young_adults['occipital'])"
   ]
  },
  {
   "cell_type": "code",
   "execution_count": 33,
   "metadata": {
    "collapsed": false
   },
   "outputs": [
    {
     "data": {
      "text/plain": [
       "SpearmanrResult(correlation=0.12321118961593842, pvalue=0.2292296370992653)"
      ]
     },
     "execution_count": 33,
     "metadata": {},
     "output_type": "execute_result"
    }
   ],
   "source": [
    "scipy.stats.spearmanr(df['Age'], df['occipital'])"
   ]
  },
  {
   "cell_type": "code",
   "execution_count": 37,
   "metadata": {
    "collapsed": false
   },
   "outputs": [
    {
     "data": {
      "text/plain": [
       "array([[ 1.        ,  0.16308472],\n",
       "       [ 0.16308472,  1.        ]])"
      ]
     },
     "execution_count": 37,
     "metadata": {},
     "output_type": "execute_result"
    }
   ],
   "source": [
    "np.corrcoef(df['Age'], df['occipital'])"
   ]
  },
  {
   "cell_type": "code",
   "execution_count": 38,
   "metadata": {
    "collapsed": false
   },
   "outputs": [
    {
     "data": {
      "text/plain": [
       "array([[ 1.        , -0.13916293],\n",
       "       [-0.13916293,  1.        ]])"
      ]
     },
     "execution_count": 38,
     "metadata": {},
     "output_type": "execute_result"
    }
   ],
   "source": [
    "np.corrcoef(young_adults['Age'], young_adults['occipital'])"
   ]
  },
  {
   "cell_type": "code",
   "execution_count": 67,
   "metadata": {
    "collapsed": false
   },
   "outputs": [
    {
     "name": "stdout",
     "output_type": "stream",
     "text": [
      "(-0.10284327183705144, 0.51165701802149144)\n",
      "SpearmanrResult(correlation=-0.13699936339680222, pvalue=0.3810117813962407)\n"
     ]
    }
   ],
   "source": [
    "print(scipy.stats.pearsonr(young_adults['AGE'], young_adults['OCCIPITAL']))\n",
    "print(scipy.stats.spearmanr(young_adults['AGE'], young_adults['OCCIPITAL']))"
   ]
  },
  {
   "cell_type": "code",
   "execution_count": null,
   "metadata": {
    "collapsed": true
   },
   "outputs": [],
   "source": []
  },
  {
   "cell_type": "code",
   "execution_count": 41,
   "metadata": {
    "collapsed": false
   },
   "outputs": [
    {
     "name": "stdout",
     "output_type": "stream",
     "text": [
      "-0.0998750417957\n",
      "-0.182872041616\n",
      "-0.0144972447208\n",
      "-0.273780429099\n",
      "-0.111759363584\n",
      "0.0315386769857\n",
      "0.0172933268974\n",
      "0.0341389225194\n",
      "0.0694867889992\n",
      "-0.0770388662262\n",
      "0.0267530326301\n",
      "-0.0151808161241\n",
      "-0.11354235693\n",
      "-0.154426130005\n",
      "-0.104604168421\n",
      "0.0322621026869\n",
      "0.0654108093851\n",
      "0.109315709529\n",
      "-0.0756056478209\n",
      "-0.0785660023486\n",
      "-0.0666115873323\n",
      "-0.180708045645\n",
      "-0.066958919118\n",
      "0.0271956641917\n",
      "-0.0100934441236\n",
      "-0.0694731849478\n",
      "-0.186197627426\n",
      "-0.137127150019\n",
      "-0.173801957736\n",
      "-0.184977066416\n",
      "-0.132097390453\n",
      "-0.115262591974\n",
      "-0.020552669428\n",
      "-0.0773353487585\n",
      "-0.170305395245\n",
      "-0.120416604279\n",
      "-0.130521510602\n",
      "-0.315883874025\n",
      "-0.11288142858\n",
      "0.0748955011145\n",
      "-0.0184846759403\n",
      "-0.202698802203\n",
      "-0.351049544494\n",
      "-0.184051347032\n",
      "-0.18490351632\n",
      "-0.143036364873\n",
      "0.00266851108463\n",
      "0.121696744429\n",
      "0.0809361840218\n",
      "-0.00921018419458\n",
      "-0.249882574283\n",
      "-0.0817300431036\n",
      "-0.144192187485\n",
      "-0.181320925494\n",
      "-0.0243068603526\n",
      "-0.224021447481\n",
      "-0.0469484487723\n",
      "-0.13916293287\n"
     ]
    }
   ],
   "source": [
    "for ch in young_adults.loc[:, 'A1':'occipital']:\n",
    "    result = np.corrcoef(young_adults['Age'], young_adults[ch])[1,0]\n",
    "    print(result)"
   ]
  },
  {
   "cell_type": "code",
   "execution_count": 49,
   "metadata": {
    "collapsed": false
   },
   "outputs": [
    {
     "data": {
      "image/png": "[encoded data removed]",
      "text/plain": [
       "<matplotlib.figure.Figure at 0x116dcf518>"
      ]
     },
     "metadata": {},
     "output_type": "display_data"
    }
   ],
   "source": [
    "a, b, c = plt.hist(df['frontal'])"
   ]
  },
  {
   "cell_type": "code",
   "execution_count": null,
   "metadata": {
    "collapsed": true
   },
   "outputs": [],
   "source": []
  }
 ],
 "metadata": {
  "anaconda-cloud": {},
  "kernelspec": {
   "display_name": "Python [default]",
   "language": "python",
   "name": "python3"
  },
  "language_info": {
   "codemirror_mode": {
    "name": "ipython",
    "version": 3
   },
   "file_extension": ".py",
   "mimetype": "text/x-python",
   "name": "python",
   "nbconvert_exporter": "python",
   "pygments_lexer": "ipython3",
   "version": "3.5.2"
  }
 },
 "nbformat": 4,
 "nbformat_minor": 0
}

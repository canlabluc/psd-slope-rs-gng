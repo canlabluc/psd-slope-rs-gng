{
 "cells": [
  {
   "cell_type": "markdown",
   "metadata": {},
   "source": [
    "# feature selection on channel spectral slopes & age"
   ]
  },
  {
   "cell_type": "code",
   "execution_count": 103,
   "metadata": {
    "collapsed": false
   },
   "outputs": [],
   "source": [
    "%matplotlib inline\n",
    "import numpy as np\n",
    "import scipy as sp\n",
    "import pandas as pd\n",
    "import seaborn as sns\n",
    "import matplotlib.pyplot as plt\n",
    "\n",
    "from scipy.stats import ttest_ind\n",
    "from sklearn import linear_model, datasets\n",
    "from sklearn import metrics, cross_validation\n",
    "from sklearn.grid_search import GridSearchCV"
   ]
  },
  {
   "cell_type": "code",
   "execution_count": 94,
   "metadata": {
    "collapsed": true
   },
   "outputs": [],
   "source": [
    "def prettyprint(coefs, names=None, sort=False, n_coefs=20):\n",
    "    \"\"\" Nicely prints linear model coefficients. \"\"\"\n",
    "    if names is None:\n",
    "        names = [\"X%s\" % x for x in range(len(coefs))]\n",
    "    lst = zip(coefs, names)\n",
    "    if sort:\n",
    "        lst = sorted(lst, key = lambda x:-np.abs(x[0]))\n",
    "    return \"\\t+\\t\".join(\"%s * %s\" % (round(coef, 3), name) for coef, name in lst[0:n_coefs])\n",
    "\n",
    "def getXy(df):\n",
    "    cols = list(df.columns.values)\n",
    "    cols.remove('SUBJECT')\n",
    "    cols.remove('CLASS')\n",
    "    cols.remove('AGE')\n",
    "    cols.remove('SEX')\n",
    "    X = df[cols]\n",
    "    y = df['AGE']\n",
    "    return X, y"
   ]
  },
  {
   "cell_type": "code",
   "execution_count": 23,
   "metadata": {
    "collapsed": false
   },
   "outputs": [
    {
     "data": {
      "text/html": [
       "<div>\n",
       "<table border=\"1\" class=\"dataframe\">\n",
       "  <thead>\n",
       "    <tr style=\"text-align: right;\">\n",
       "      <th></th>\n",
       "      <th>SUBJECT</th>\n",
       "      <th>CLASS</th>\n",
       "      <th>AGE</th>\n",
       "      <th>SEX</th>\n",
       "      <th>AVG_PSD_SLOPE</th>\n",
       "      <th>A1</th>\n",
       "      <th>A2</th>\n",
       "      <th>A3</th>\n",
       "      <th>A4</th>\n",
       "      <th>A5</th>\n",
       "      <th>...</th>\n",
       "      <th>B26</th>\n",
       "      <th>B27</th>\n",
       "      <th>B28</th>\n",
       "      <th>B29</th>\n",
       "      <th>B30</th>\n",
       "      <th>FRONTAL</th>\n",
       "      <th>LTEMPORAL</th>\n",
       "      <th>CENTRAL</th>\n",
       "      <th>RTEMPORAL</th>\n",
       "      <th>OCCIPITAL</th>\n",
       "    </tr>\n",
       "  </thead>\n",
       "  <tbody>\n",
       "    <tr>\n",
       "      <th>0</th>\n",
       "      <td>127101</td>\n",
       "      <td>SA_Control</td>\n",
       "      <td>80.84873</td>\n",
       "      <td>2.0</td>\n",
       "      <td>-5.804659</td>\n",
       "      <td>-6.207339</td>\n",
       "      <td>-6.006881</td>\n",
       "      <td>-5.004732</td>\n",
       "      <td>-6.249184</td>\n",
       "      <td>-7.848450</td>\n",
       "      <td>...</td>\n",
       "      <td>-4.748383</td>\n",
       "      <td>-5.950079</td>\n",
       "      <td>-6.606615</td>\n",
       "      <td>-5.917265</td>\n",
       "      <td>-4.766720</td>\n",
       "      <td>-6.458774</td>\n",
       "      <td>-6.633731</td>\n",
       "      <td>-7.051571</td>\n",
       "      <td>-6.169163</td>\n",
       "      <td>-5.433811</td>\n",
       "    </tr>\n",
       "    <tr>\n",
       "      <th>1</th>\n",
       "      <td>127102</td>\n",
       "      <td>MCI_Control</td>\n",
       "      <td>71.89870</td>\n",
       "      <td>1.0</td>\n",
       "      <td>-5.854608</td>\n",
       "      <td>-6.475066</td>\n",
       "      <td>-6.151471</td>\n",
       "      <td>-6.517301</td>\n",
       "      <td>-6.380120</td>\n",
       "      <td>-5.964319</td>\n",
       "      <td>...</td>\n",
       "      <td>-4.621796</td>\n",
       "      <td>-5.606016</td>\n",
       "      <td>-6.762557</td>\n",
       "      <td>-5.917265</td>\n",
       "      <td>-4.285510</td>\n",
       "      <td>-6.458774</td>\n",
       "      <td>-6.737865</td>\n",
       "      <td>-6.479462</td>\n",
       "      <td>-6.818404</td>\n",
       "      <td>-5.433811</td>\n",
       "    </tr>\n",
       "    <tr>\n",
       "      <th>2</th>\n",
       "      <td>127103</td>\n",
       "      <td>MCI_Control</td>\n",
       "      <td>69.43463</td>\n",
       "      <td>2.0</td>\n",
       "      <td>-2.606542</td>\n",
       "      <td>-2.343221</td>\n",
       "      <td>-2.556968</td>\n",
       "      <td>-2.007683</td>\n",
       "      <td>-0.922110</td>\n",
       "      <td>-2.570165</td>\n",
       "      <td>...</td>\n",
       "      <td>-0.981276</td>\n",
       "      <td>-2.358701</td>\n",
       "      <td>-3.011193</td>\n",
       "      <td>-2.159953</td>\n",
       "      <td>-1.578591</td>\n",
       "      <td>-0.696107</td>\n",
       "      <td>-4.134891</td>\n",
       "      <td>-4.065552</td>\n",
       "      <td>-3.002314</td>\n",
       "      <td>0.712028</td>\n",
       "    </tr>\n",
       "    <tr>\n",
       "      <th>3</th>\n",
       "      <td>127104</td>\n",
       "      <td>SA_Control</td>\n",
       "      <td>83.61396</td>\n",
       "      <td>2.0</td>\n",
       "      <td>-5.387849</td>\n",
       "      <td>-4.666144</td>\n",
       "      <td>-3.645240</td>\n",
       "      <td>-4.136069</td>\n",
       "      <td>-3.626828</td>\n",
       "      <td>-4.693491</td>\n",
       "      <td>...</td>\n",
       "      <td>-5.393366</td>\n",
       "      <td>-4.729700</td>\n",
       "      <td>-4.507910</td>\n",
       "      <td>-4.547847</td>\n",
       "      <td>-5.036724</td>\n",
       "      <td>-3.482842</td>\n",
       "      <td>-4.028538</td>\n",
       "      <td>-6.004186</td>\n",
       "      <td>-7.831297</td>\n",
       "      <td>-4.690516</td>\n",
       "    </tr>\n",
       "    <tr>\n",
       "      <th>4</th>\n",
       "      <td>127105</td>\n",
       "      <td>SA_Control</td>\n",
       "      <td>80.69541</td>\n",
       "      <td>2.0</td>\n",
       "      <td>-4.915307</td>\n",
       "      <td>-4.253528</td>\n",
       "      <td>-4.358633</td>\n",
       "      <td>-5.077860</td>\n",
       "      <td>-4.276687</td>\n",
       "      <td>-4.318121</td>\n",
       "      <td>...</td>\n",
       "      <td>-5.109961</td>\n",
       "      <td>-5.684171</td>\n",
       "      <td>-5.320151</td>\n",
       "      <td>-5.582867</td>\n",
       "      <td>-6.150030</td>\n",
       "      <td>-4.585814</td>\n",
       "      <td>-5.216128</td>\n",
       "      <td>-5.562051</td>\n",
       "      <td>-5.251369</td>\n",
       "      <td>-6.189279</td>\n",
       "    </tr>\n",
       "  </tbody>\n",
       "</table>\n",
       "<p>5 rows × 63 columns</p>\n",
       "</div>"
      ],
      "text/plain": [
       "   SUBJECT        CLASS       AGE  SEX  AVG_PSD_SLOPE        A1        A2  \\\n",
       "0   127101   SA_Control  80.84873  2.0      -5.804659 -6.207339 -6.006881   \n",
       "1   127102  MCI_Control  71.89870  1.0      -5.854608 -6.475066 -6.151471   \n",
       "2   127103  MCI_Control  69.43463  2.0      -2.606542 -2.343221 -2.556968   \n",
       "3   127104   SA_Control  83.61396  2.0      -5.387849 -4.666144 -3.645240   \n",
       "4   127105   SA_Control  80.69541  2.0      -4.915307 -4.253528 -4.358633   \n",
       "\n",
       "         A3        A4        A5    ...           B26       B27       B28  \\\n",
       "0 -5.004732 -6.249184 -7.848450    ...     -4.748383 -5.950079 -6.606615   \n",
       "1 -6.517301 -6.380120 -5.964319    ...     -4.621796 -5.606016 -6.762557   \n",
       "2 -2.007683 -0.922110 -2.570165    ...     -0.981276 -2.358701 -3.011193   \n",
       "3 -4.136069 -3.626828 -4.693491    ...     -5.393366 -4.729700 -4.507910   \n",
       "4 -5.077860 -4.276687 -4.318121    ...     -5.109961 -5.684171 -5.320151   \n",
       "\n",
       "        B29       B30   FRONTAL  LTEMPORAL   CENTRAL  RTEMPORAL  OCCIPITAL  \n",
       "0 -5.917265 -4.766720 -6.458774  -6.633731 -7.051571  -6.169163  -5.433811  \n",
       "1 -5.917265 -4.285510 -6.458774  -6.737865 -6.479462  -6.818404  -5.433811  \n",
       "2 -2.159953 -1.578591 -0.696107  -4.134891 -4.065552  -3.002314   0.712028  \n",
       "3 -4.547847 -5.036724 -3.482842  -4.028538 -6.004186  -7.831297  -4.690516  \n",
       "4 -5.582867 -6.150030 -4.585814  -5.216128 -5.562051  -5.251369  -6.189279  \n",
       "\n",
       "[5 rows x 63 columns]"
      ]
     },
     "execution_count": 23,
     "metadata": {},
     "output_type": "execute_result"
    }
   ],
   "source": [
    "df = pd.read_csv('../data/pipeline-20s-eyesc/ya-oa-slope-matrix.csv', index_col=0)\n",
    "older_adults = df[df['CLASS'].isin(['MCI', 'MCI_Control', 'SA_Control'])]\n",
    "young_adults = df[df['CLASS'].isin(['DANE'])]\n",
    "data         = df[df['CLASS'].isin(['DANE', 'MCI_Control', 'SA_Control'])]\n",
    "df.head()"
   ]
  },
  {
   "cell_type": "markdown",
   "metadata": {},
   "source": [
    "###### Now we perform feature selection using LASSO"
   ]
  },
  {
   "cell_type": "code",
   "execution_count": 64,
   "metadata": {
    "collapsed": true
   },
   "outputs": [],
   "source": [
    "X, y  = getXy(older_adults)\n",
    "score = 'mean_squared_error'\n",
    "tuned_params_lasso = [{'alpha': np.linspace(-1, 1, 100),\n",
    "                       'normalize': [True, False]}]"
   ]
  },
  {
   "cell_type": "code",
   "execution_count": 65,
   "metadata": {
    "collapsed": false
   },
   "outputs": [
    {
     "name": "stdout",
     "output_type": "stream",
     "text": [
      "0.815 * B1\n",
      "0.775 * B1\n",
      "0.755 * B1\n",
      "0.77 * B1\n",
      "0.715 * B1\n",
      "0.73 * B1\n",
      "0.725 * B1\n",
      "0.745 * B1\n",
      "0.7 * B1\n",
      "0.71 * B1\n",
      "0.715 * B1\n",
      "0.645 * A24\n",
      "0.6 * A24\n",
      "0.62 * A24\n",
      "0.605 * A24\n",
      "0.57 * A24\n",
      "0.635 * A24\n",
      "0.55 * A24\n",
      "0.44 * A24\n",
      "0.58 * A24\n",
      "0.505 * A24\n",
      "0.47 * A24\n",
      "0.45 * A24\n",
      "0.5 * A24\n",
      "0.38 * A24\n",
      "0.37 * A24\n",
      "0.455 * A24\n",
      "0.45 * A24\n",
      "0.385 * A24\n",
      "0.405 * A24\n",
      "0.385 * A24\n",
      "0.455 * A24\n",
      "0.435 * A24\n",
      "0.395 * A24\n",
      "0.345 * A24\n",
      "0.345 * A24\n",
      "0.405 * A24\n",
      "0.28 * A24\n",
      "0.335 * A24\n",
      "0.38 * A24\n",
      "0.32 * A24\n",
      "0.28 * A24\n",
      "0.285 * A24\n",
      "0.305 * A24\n",
      "0.28 * A24\n",
      "0.285 * A24\n",
      "0.21 * A24\n",
      "0.26 * A24\n",
      "0.19 * A24\n",
      "0.21 * A24\n",
      "0.225 * A24\n",
      "0.185 * A24\n",
      "0.185 * A24\n",
      "0.125 * A24\n",
      "0.175 * A24\n",
      "0.165 * A24\n",
      "0.135 * A24\n",
      "0.085 * A24\n",
      "0.12 * A24\n",
      "0.12 * A24\n",
      "0.065 * A24\n",
      "0.065 * A24\n",
      "0.055 * A24\n",
      "0.035 * A24\n",
      "0.035 * A24\n",
      "0.035 * A24\n",
      "0.025 * A24\n",
      "0.015 * A24\n",
      "0.02 * A24\n",
      "0.02 * A24\n",
      "0.015 * A24\n",
      "0.005 * A24\n",
      "0.005 * A12\n",
      "0.01 * A24\n",
      "0.005 * A24\n",
      "0.005 * A24\n",
      "0.0 * AVG_PSD_SLOPE\n",
      "0.0 * AVG_PSD_SLOPE\n",
      "0.0 * AVG_PSD_SLOPE\n",
      "0.0 * AVG_PSD_SLOPE\n",
      "0.0 * AVG_PSD_SLOPE\n",
      "0.0 * AVG_PSD_SLOPE\n",
      "0.0 * AVG_PSD_SLOPE\n",
      "0.0 * AVG_PSD_SLOPE\n",
      "0.0 * AVG_PSD_SLOPE\n",
      "0.0 * AVG_PSD_SLOPE\n",
      "0.0 * AVG_PSD_SLOPE\n",
      "0.0 * AVG_PSD_SLOPE\n",
      "0.0 * AVG_PSD_SLOPE\n",
      "0.0 * AVG_PSD_SLOPE\n",
      "0.0 * AVG_PSD_SLOPE\n",
      "0.0 * AVG_PSD_SLOPE\n",
      "0.0 * AVG_PSD_SLOPE\n",
      "0.0 * AVG_PSD_SLOPE\n",
      "0.0 * AVG_PSD_SLOPE\n",
      "0.0 * AVG_PSD_SLOPE\n",
      "0.0 * AVG_PSD_SLOPE\n",
      "0.0 * AVG_PSD_SLOPE\n",
      "0.0 * AVG_PSD_SLOPE\n",
      "0.0 * AVG_PSD_SLOPE\n"
     ]
    }
   ],
   "source": [
    "lrange = np.linspace(0, 1, 100)\n",
    "for i in lrange:\n",
    "    rlasso = RandomizedLasso(alpha=i).fit(X, y)\n",
    "    print(prettyprint(rlasso.scores_, cols, sort=True, n_coefs=1))"
   ]
  },
  {
   "cell_type": "code",
   "execution_count": 68,
   "metadata": {
    "collapsed": false
   },
   "outputs": [
    {
     "data": {
      "text/plain": [
       "<matplotlib.collections.PathCollection at 0x117fa93c8>"
      ]
     },
     "execution_count": 68,
     "metadata": {},
     "output_type": "execute_result"
    },
    {
     "data": {
      "image/png": "[encoded data removed]",
      "text/plain": [
       "<matplotlib.figure.Figure at 0x117f459e8>"
      ]
     },
     "metadata": {},
     "output_type": "display_data"
    }
   ],
   "source": [
    "plt.scatter(np.abs(older_adults['A24']), older_adults['AGE'])"
   ]
  },
  {
   "cell_type": "code",
   "execution_count": 69,
   "metadata": {
    "collapsed": false
   },
   "outputs": [
    {
     "data": {
      "text/plain": [
       "<matplotlib.collections.PathCollection at 0x1190e1898>"
      ]
     },
     "execution_count": 69,
     "metadata": {},
     "output_type": "execute_result"
    },
    {
     "data": {
      "image/png": "[encoded data removed]",
      "text/plain": [
       "<matplotlib.figure.Figure at 0x117f70438>"
      ]
     },
     "metadata": {},
     "output_type": "display_data"
    }
   ],
   "source": [
    "plt.scatter(np.abs(older_adults['B1']), older_adults['AGE'])"
   ]
  },
  {
   "cell_type": "code",
   "execution_count": 70,
   "metadata": {
    "collapsed": true
   },
   "outputs": [],
   "source": [
    "from scipy.stats import linregress"
   ]
  },
  {
   "cell_type": "code",
   "execution_count": 80,
   "metadata": {
    "collapsed": false
   },
   "outputs": [
    {
     "name": "stdout",
     "output_type": "stream",
     "text": [
      "LinregressResult(slope=-0.161449387783728, intercept=7.701175064646451, rvalue=-0.48528651777837989, pvalue=0.0023312781940471199, stderr=0.049169075882900405)\n"
     ]
    }
   ],
   "source": [
    "line = linregress(older_adults['AGE'], older_adults['A24'])\n",
    "print(line)"
   ]
  },
  {
   "cell_type": "code",
   "execution_count": 81,
   "metadata": {
    "collapsed": false
   },
   "outputs": [
    {
     "data": {
      "text/plain": [
       "[<matplotlib.lines.Line2D at 0x1192bf240>]"
      ]
     },
     "execution_count": 81,
     "metadata": {},
     "output_type": "execute_result"
    },
    {
     "data": {
      "image/png": "[encoded data removed]",
      "text/plain": [
       "<matplotlib.figure.Figure at 0x1192c8208>"
      ]
     },
     "metadata": {},
     "output_type": "display_data"
    }
   ],
   "source": [
    "plt.figure(figsize=(16,10))\n",
    "plt.scatter(older_adults['AGE'], older_adults['A24'])\n",
    "plt.plot(older_adults['AGE'], older_adults['AGE'] * line.slope + line.intercept)"
   ]
  },
  {
   "cell_type": "code",
   "execution_count": 95,
   "metadata": {
    "collapsed": false
   },
   "outputs": [
    {
     "name": "stdout",
     "output_type": "stream",
     "text": [
      "0.745 * A22\t+\t0.6 * A5\t+\t0.6 * A23\n",
      "0.725 * A22\t+\t0.67 * B9\t+\t0.625 * A21\n",
      "0.7 * A22\t+\t0.69 * B9\t+\t0.545 * A23\n",
      "0.825 * A22\t+\t0.605 * B9\t+\t0.545 * A16\n",
      "0.855 * A22\t+\t0.64 * B9\t+\t0.56 * A18\n",
      "0.765 * A22\t+\t0.565 * A18\t+\t0.555 * B9\n",
      "0.8 * A22\t+\t0.525 * B9\t+\t0.51 * A18\n",
      "0.805 * A22\t+\t0.535 * A18\t+\t0.49 * B9\n",
      "0.8 * A22\t+\t0.505 * A18\t+\t0.475 * B9\n",
      "0.795 * A22\t+\t0.47 * A18\t+\t0.455 * B9\n",
      "0.8 * A22\t+\t0.385 * A18\t+\t0.385 * B9\n",
      "0.795 * A22\t+\t0.45 * A18\t+\t0.405 * A10\n",
      "0.76 * A22\t+\t0.425 * A18\t+\t0.38 * B9\n",
      "0.74 * A22\t+\t0.375 * A18\t+\t0.345 * A16\n",
      "0.725 * A22\t+\t0.37 * A10\t+\t0.365 * A24\n",
      "0.71 * A22\t+\t0.4 * A18\t+\t0.355 * A10\n",
      "0.695 * A22\t+\t0.345 * A18\t+\t0.315 * A24\n",
      "0.64 * A22\t+\t0.36 * A18\t+\t0.335 * A16\n",
      "0.695 * A22\t+\t0.365 * A24\t+\t0.3 * A18\n",
      "0.675 * A22\t+\t0.32 * A18\t+\t0.3 * A24\n",
      "0.65 * A22\t+\t0.275 * A24\t+\t0.265 * A16\n",
      "0.545 * A22\t+\t0.39 * A24\t+\t0.305 * A16\n",
      "0.61 * A22\t+\t0.305 * A16\t+\t0.255 * A18\n",
      "0.59 * A22\t+\t0.3 * A24\t+\t0.275 * A16\n",
      "0.575 * A22\t+\t0.325 * A24\t+\t0.235 * A10\n",
      "0.525 * A22\t+\t0.32 * A24\t+\t0.225 * A18\n",
      "0.51 * A22\t+\t0.35 * A24\t+\t0.23 * A16\n",
      "0.51 * A22\t+\t0.26 * A24\t+\t0.225 * A16\n",
      "0.475 * A22\t+\t0.295 * A24\t+\t0.25 * A16\n",
      "0.46 * A22\t+\t0.295 * A24\t+\t0.235 * A16\n",
      "0.42 * A22\t+\t0.285 * A24\t+\t0.2 * A16\n",
      "0.41 * A22\t+\t0.25 * A24\t+\t0.225 * A16\n",
      "0.43 * A22\t+\t0.19 * A24\t+\t0.155 * A16\n",
      "0.435 * A22\t+\t0.29 * A24\t+\t0.205 * A16\n",
      "0.53 * A22\t+\t0.245 * A24\t+\t0.14 * A16\n",
      "0.385 * A22\t+\t0.305 * A24\t+\t0.185 * A16\n",
      "0.42 * A22\t+\t0.225 * A16\t+\t0.165 * A24\n",
      "0.385 * A22\t+\t0.255 * A24\t+\t0.16 * A16\n",
      "0.355 * A22\t+\t0.22 * A24\t+\t0.16 * A16\n",
      "0.4 * A22\t+\t0.225 * A24\t+\t0.135 * A16\n",
      "0.37 * A22\t+\t0.265 * A24\t+\t0.195 * A16\n",
      "0.415 * A22\t+\t0.205 * A16\t+\t0.15 * A24\n",
      "0.36 * A22\t+\t0.185 * A24\t+\t0.135 * A16\n",
      "0.375 * A22\t+\t0.205 * A24\t+\t0.11 * A16\n",
      "0.39 * A22\t+\t0.175 * A24\t+\t0.145 * A16\n",
      "0.34 * A22\t+\t0.19 * A24\t+\t0.15 * A16\n",
      "0.37 * A22\t+\t0.14 * A16\t+\t0.14 * A24\n",
      "0.365 * A22\t+\t0.16 * A24\t+\t0.12 * A16\n",
      "0.29 * A22\t+\t0.13 * A24\t+\t0.115 * A16\n",
      "0.325 * A22\t+\t0.09 * A24\t+\t0.05 * A16\n",
      "0.37 * A22\t+\t0.15 * A24\t+\t0.085 * A16\n",
      "0.295 * A22\t+\t0.115 * A24\t+\t0.07 * A16\n",
      "0.32 * A22\t+\t0.11 * A24\t+\t0.095 * A16\n",
      "0.225 * A22\t+\t0.095 * A24\t+\t0.05 * A16\n",
      "0.27 * A22\t+\t0.065 * A24\t+\t0.03 * A16\n",
      "0.33 * A22\t+\t0.065 * A24\t+\t0.03 * A16\n",
      "0.29 * A22\t+\t0.08 * A24\t+\t0.055 * A16\n",
      "0.29 * A22\t+\t0.12 * A24\t+\t0.06 * A16\n",
      "0.3 * A22\t+\t0.11 * A24\t+\t0.045 * A16\n",
      "0.255 * A22\t+\t0.055 * A24\t+\t0.04 * A26\n",
      "0.24 * A22\t+\t0.07 * A16\t+\t0.035 * A24\n",
      "0.225 * A22\t+\t0.05 * A24\t+\t0.035 * A16\n",
      "0.175 * A22\t+\t0.04 * A16\t+\t0.035 * A24\n",
      "0.19 * A22\t+\t0.055 * A24\t+\t0.045 * A16\n",
      "0.245 * A22\t+\t0.035 * A24\t+\t0.025 * A16\n",
      "0.215 * A22\t+\t0.025 * A16\t+\t0.025 * A24\n",
      "0.145 * A22\t+\t0.02 * A24\t+\t0.015 * A26\n",
      "0.135 * A22\t+\t0.045 * A24\t+\t0.03 * A16\n",
      "0.19 * A22\t+\t0.035 * A24\t+\t0.02 * A16\n",
      "0.115 * A22\t+\t0.045 * A24\t+\t0.025 * A16\n",
      "0.1 * A22\t+\t0.035 * A24\t+\t0.01 * A16\n",
      "0.11 * A22\t+\t0.015 * A24\t+\t0.01 * A16\n",
      "0.095 * A22\t+\t0.015 * A16\t+\t0.01 * A26\n",
      "0.1 * A22\t+\t0.025 * A24\t+\t0.005 * A16\n",
      "0.055 * A22\t+\t0.015 * A24\t+\t0.005 * A16\n",
      "0.05 * A22\t+\t0.01 * A24\t+\t0.005 * A23\n",
      "0.04 * A22\t+\t0.01 * A24\t+\t0.0 * AVG_PSD_SLOPE\n",
      "0.04 * A22\t+\t0.01 * A24\t+\t0.005 * A12\n",
      "0.05 * A22\t+\t0.005 * A16\t+\t0.005 * A24\n",
      "0.01 * A22\t+\t0.005 * A16\t+\t0.005 * A17\n",
      "0.035 * A22\t+\t0.005 * A24\t+\t0.0 * AVG_PSD_SLOPE\n",
      "0.02 * A22\t+\t0.0 * AVG_PSD_SLOPE\t+\t0.0 * A1\n",
      "0.03 * A22\t+\t0.005 * A24\t+\t0.0 * AVG_PSD_SLOPE\n",
      "0.015 * A22\t+\t0.0 * AVG_PSD_SLOPE\t+\t0.0 * A1\n",
      "0.005 * A22\t+\t0.0 * AVG_PSD_SLOPE\t+\t0.0 * A1\n",
      "0.01 * A22\t+\t0.005 * A16\t+\t0.0 * AVG_PSD_SLOPE\n",
      "0.01 * A22\t+\t0.0 * AVG_PSD_SLOPE\t+\t0.0 * A1\n",
      "0.025 * A22\t+\t0.0 * AVG_PSD_SLOPE\t+\t0.0 * A1\n",
      "0.005 * A22\t+\t0.0 * AVG_PSD_SLOPE\t+\t0.0 * A1\n",
      "0.005 * A22\t+\t0.0 * AVG_PSD_SLOPE\t+\t0.0 * A1\n",
      "0.0 * AVG_PSD_SLOPE\t+\t0.0 * A1\t+\t0.0 * A2\n",
      "0.0 * AVG_PSD_SLOPE\t+\t0.0 * A1\t+\t0.0 * A2\n",
      "0.005 * A24\t+\t0.0 * AVG_PSD_SLOPE\t+\t0.0 * A1\n",
      "0.01 * A22\t+\t0.0 * AVG_PSD_SLOPE\t+\t0.0 * A1\n",
      "0.0 * AVG_PSD_SLOPE\t+\t0.0 * A1\t+\t0.0 * A2\n",
      "0.005 * A22\t+\t0.0 * AVG_PSD_SLOPE\t+\t0.0 * A1\n",
      "0.005 * A16\t+\t0.005 * A22\t+\t0.0 * AVG_PSD_SLOPE\n",
      "0.0 * AVG_PSD_SLOPE\t+\t0.0 * A1\t+\t0.0 * A2\n",
      "0.005 * A22\t+\t0.0 * AVG_PSD_SLOPE\t+\t0.0 * A1\n",
      "0.005 * A22\t+\t0.0 * AVG_PSD_SLOPE\t+\t0.0 * A1\n"
     ]
    }
   ],
   "source": [
    "controls = df[df['CLASS'].isin(['MCI_Control', 'SA_Control'])]\n",
    "X, y = getXy(controls)\n",
    "lrange = np.linspace(0, 1, 100)\n",
    "for i in lrange:\n",
    "    rlasso = RandomizedLasso(alpha=i).fit(X, y)\n",
    "    print(prettyprint(rlasso.scores_, cols, sort=True, n_coefs=3))"
   ]
  },
  {
   "cell_type": "code",
   "execution_count": 83,
   "metadata": {
    "collapsed": false
   },
   "outputs": [
    {
     "name": "stdout",
     "output_type": "stream",
     "text": [
      "LinregressResult(slope=-0.15186368104790335, intercept=7.4862955043555122, rvalue=-0.53360493157172229, pvalue=0.003452590963044665, stderr=0.047204253824894966)\n"
     ]
    }
   ],
   "source": [
    "line = linregress(controls['AGE'], controls['A22'])\n",
    "print(line)"
   ]
  },
  {
   "cell_type": "code",
   "execution_count": 89,
   "metadata": {
    "collapsed": false
   },
   "outputs": [
    {
     "data": {
      "text/plain": [
       "[<matplotlib.lines.Line2D at 0x119be96d8>]"
      ]
     },
     "execution_count": 89,
     "metadata": {},
     "output_type": "execute_result"
    },
    {
     "data": {
      "image/png": "[encoded data removed]",
      "text/plain": [
       "<matplotlib.figure.Figure at 0x119116828>"
      ]
     },
     "metadata": {},
     "output_type": "display_data"
    }
   ],
   "source": [
    "plt.figure(figsize=(16,10))\n",
    "plt.scatter(controls['AGE'], controls['A22'])\n",
    "plt.plot(controls['AGE'], controls['AGE'] * line.slope + line.intercept)"
   ]
  },
  {
   "cell_type": "markdown",
   "metadata": {},
   "source": [
    "# dane, all controls"
   ]
  },
  {
   "cell_type": "code",
   "execution_count": 96,
   "metadata": {
    "collapsed": false
   },
   "outputs": [
    {
     "name": "stdout",
     "output_type": "stream",
     "text": [
      "0.985 * B9\t+\t0.965 * B12\t+\t0.96 * B1\n",
      "1.0 * B9\t+\t0.975 * B1\t+\t0.95 * A27\n",
      "0.995 * B9\t+\t0.95 * B1\t+\t0.935 * B12\n",
      "0.995 * B9\t+\t0.965 * B28\t+\t0.945 * B1\n",
      "0.995 * B9\t+\t0.99 * B28\t+\t0.955 * B1\n",
      "0.985 * B28\t+\t0.98 * B9\t+\t0.925 * B12\n",
      "0.98 * B9\t+\t0.97 * B28\t+\t0.915 * B1\n",
      "0.975 * B28\t+\t0.945 * B9\t+\t0.935 * B1\n",
      "0.955 * B28\t+\t0.91 * B9\t+\t0.89 * B12\n",
      "0.965 * B28\t+\t0.94 * B9\t+\t0.88 * B1\n",
      "0.95 * B28\t+\t0.9 * B9\t+\t0.885 * B12\n",
      "0.93 * B28\t+\t0.895 * B12\t+\t0.835 * B1\n",
      "0.9 * B28\t+\t0.855 * B9\t+\t0.845 * B12\n",
      "0.87 * B28\t+\t0.855 * B12\t+\t0.765 * B9\n",
      "0.89 * B28\t+\t0.815 * B12\t+\t0.745 * B1\n",
      "0.83 * B28\t+\t0.8 * B12\t+\t0.7 * B9\n",
      "0.82 * B28\t+\t0.785 * B12\t+\t0.665 * B6\n",
      "0.865 * B28\t+\t0.825 * B12\t+\t0.625 * B6\n",
      "0.83 * B28\t+\t0.77 * B12\t+\t0.605 * B6\n",
      "0.785 * B28\t+\t0.725 * B12\t+\t0.595 * B6\n",
      "0.8 * B12\t+\t0.77 * B28\t+\t0.6 * B6\n",
      "0.735 * B28\t+\t0.73 * B12\t+\t0.52 * B6\n",
      "0.715 * B12\t+\t0.7 * B28\t+\t0.53 * B6\n",
      "0.71 * B12\t+\t0.63 * B28\t+\t0.495 * B6\n",
      "0.76 * B12\t+\t0.66 * B28\t+\t0.505 * B6\n",
      "0.65 * B28\t+\t0.645 * B12\t+\t0.47 * B6\n",
      "0.675 * B12\t+\t0.585 * B28\t+\t0.48 * A31\n",
      "0.64 * B12\t+\t0.635 * B28\t+\t0.45 * A31\n",
      "0.585 * B12\t+\t0.505 * B28\t+\t0.45 * CENTRAL\n",
      "0.595 * B12\t+\t0.59 * B28\t+\t0.445 * A31\n",
      "0.6 * B12\t+\t0.55 * B28\t+\t0.415 * CENTRAL\n",
      "0.59 * B28\t+\t0.57 * B12\t+\t0.445 * CENTRAL\n",
      "0.545 * B12\t+\t0.54 * B28\t+\t0.44 * A16\n",
      "0.57 * B12\t+\t0.49 * B28\t+\t0.425 * A16\n",
      "0.59 * B12\t+\t0.47 * B28\t+\t0.42 * CENTRAL\n",
      "0.59 * B12\t+\t0.48 * B28\t+\t0.425 * A16\n",
      "0.535 * B12\t+\t0.495 * B28\t+\t0.415 * CENTRAL\n",
      "0.52 * B12\t+\t0.485 * B28\t+\t0.37 * A31\n",
      "0.565 * B12\t+\t0.48 * B28\t+\t0.44 * CENTRAL\n",
      "0.515 * B12\t+\t0.46 * B28\t+\t0.4 * CENTRAL\n",
      "0.49 * B12\t+\t0.445 * B28\t+\t0.42 * CENTRAL\n",
      "0.535 * B12\t+\t0.51 * B28\t+\t0.375 * CENTRAL\n",
      "0.58 * B12\t+\t0.41 * B28\t+\t0.405 * CENTRAL\n",
      "0.52 * B12\t+\t0.51 * B28\t+\t0.4 * CENTRAL\n",
      "0.43 * B12\t+\t0.425 * CENTRAL\t+\t0.42 * B28\n",
      "0.495 * B12\t+\t0.455 * B28\t+\t0.375 * CENTRAL\n",
      "0.49 * B12\t+\t0.47 * B28\t+\t0.405 * CENTRAL\n",
      "0.435 * B12\t+\t0.42 * CENTRAL\t+\t0.415 * B28\n",
      "0.47 * B28\t+\t0.415 * B12\t+\t0.37 * CENTRAL\n",
      "0.43 * B12\t+\t0.405 * B28\t+\t0.39 * CENTRAL\n",
      "0.4 * CENTRAL\t+\t0.395 * B12\t+\t0.385 * B28\n",
      "0.455 * B28\t+\t0.45 * B12\t+\t0.38 * CENTRAL\n",
      "0.475 * B12\t+\t0.425 * CENTRAL\t+\t0.41 * B28\n",
      "0.515 * B12\t+\t0.395 * B28\t+\t0.385 * CENTRAL\n",
      "0.49 * B12\t+\t0.44 * B28\t+\t0.375 * CENTRAL\n",
      "0.46 * B12\t+\t0.42 * CENTRAL\t+\t0.415 * B28\n",
      "0.45 * B12\t+\t0.385 * B28\t+\t0.36 * CENTRAL\n",
      "0.42 * B12\t+\t0.39 * CENTRAL\t+\t0.37 * B28\n",
      "0.44 * B28\t+\t0.415 * CENTRAL\t+\t0.405 * B12\n",
      "0.44 * B12\t+\t0.43 * B28\t+\t0.385 * CENTRAL\n",
      "0.415 * B12\t+\t0.41 * B28\t+\t0.35 * CENTRAL\n",
      "0.445 * B12\t+\t0.405 * CENTRAL\t+\t0.39 * B28\n",
      "0.4 * B12\t+\t0.365 * B28\t+\t0.335 * CENTRAL\n",
      "0.445 * B12\t+\t0.42 * CENTRAL\t+\t0.4 * B28\n",
      "0.45 * B12\t+\t0.36 * CENTRAL\t+\t0.355 * B28\n",
      "0.46 * B12\t+\t0.385 * B28\t+\t0.375 * CENTRAL\n",
      "0.435 * B12\t+\t0.41 * CENTRAL\t+\t0.32 * B28\n",
      "0.405 * B12\t+\t0.4 * B28\t+\t0.38 * CENTRAL\n",
      "0.405 * B12\t+\t0.355 * B28\t+\t0.3 * CENTRAL\n",
      "0.41 * B12\t+\t0.36 * B28\t+\t0.3 * CENTRAL\n",
      "0.41 * B12\t+\t0.37 * B28\t+\t0.345 * CENTRAL\n",
      "0.42 * B12\t+\t0.4 * CENTRAL\t+\t0.335 * B28\n",
      "0.42 * B12\t+\t0.365 * B28\t+\t0.345 * CENTRAL\n",
      "0.405 * B12\t+\t0.345 * CENTRAL\t+\t0.31 * B28\n",
      "0.355 * B12\t+\t0.325 * CENTRAL\t+\t0.3 * B28\n",
      "0.42 * B12\t+\t0.315 * CENTRAL\t+\t0.305 * B28\n",
      "0.415 * B12\t+\t0.36 * CENTRAL\t+\t0.345 * B28\n",
      "0.36 * B12\t+\t0.325 * CENTRAL\t+\t0.32 * B28\n",
      "0.41 * B12\t+\t0.355 * CENTRAL\t+\t0.285 * B28\n",
      "0.355 * B12\t+\t0.35 * CENTRAL\t+\t0.325 * B28\n",
      "0.42 * B12\t+\t0.33 * CENTRAL\t+\t0.28 * B28\n",
      "0.385 * B12\t+\t0.35 * CENTRAL\t+\t0.285 * B28\n",
      "0.365 * B12\t+\t0.33 * CENTRAL\t+\t0.255 * B28\n",
      "0.345 * B12\t+\t0.29 * CENTRAL\t+\t0.265 * B28\n",
      "0.325 * B12\t+\t0.305 * B28\t+\t0.275 * CENTRAL\n",
      "0.385 * B12\t+\t0.25 * CENTRAL\t+\t0.245 * B28\n",
      "0.315 * B12\t+\t0.265 * B28\t+\t0.245 * CENTRAL\n",
      "0.345 * B12\t+\t0.27 * CENTRAL\t+\t0.235 * B28\n",
      "0.28 * B28\t+\t0.265 * B12\t+\t0.245 * CENTRAL\n",
      "0.34 * B12\t+\t0.25 * CENTRAL\t+\t0.245 * B28\n",
      "0.38 * B12\t+\t0.265 * CENTRAL\t+\t0.245 * B28\n",
      "0.31 * B12\t+\t0.275 * CENTRAL\t+\t0.195 * B28\n",
      "0.3 * CENTRAL\t+\t0.28 * B12\t+\t0.195 * B28\n",
      "0.365 * B12\t+\t0.305 * CENTRAL\t+\t0.245 * B28\n",
      "0.29 * CENTRAL\t+\t0.23 * B12\t+\t0.16 * B28\n",
      "0.285 * B12\t+\t0.255 * CENTRAL\t+\t0.195 * B28\n",
      "0.26 * B12\t+\t0.185 * CENTRAL\t+\t0.17 * B28\n",
      "0.28 * B12\t+\t0.265 * CENTRAL\t+\t0.225 * B28\n",
      "0.305 * B12\t+\t0.28 * CENTRAL\t+\t0.18 * B28\n",
      "0.275 * B12\t+\t0.24 * CENTRAL\t+\t0.15 * B28\n"
     ]
    }
   ],
   "source": [
    "X, y = getXy(data)\n",
    "lrange = np.linspace(0, 1, 100)\n",
    "for i in lrange:\n",
    "    rlasso = RandomizedLasso(alpha=i).fit(X, y)\n",
    "    print(prettyprint(rlasso.scores_, cols, sort=True, n_coefs=3))"
   ]
  },
  {
   "cell_type": "code",
   "execution_count": 98,
   "metadata": {
    "collapsed": false
   },
   "outputs": [
    {
     "name": "stdout",
     "output_type": "stream",
     "text": [
      "LinregressResult(slope=-0.034293784918641719, intercept=-2.4614383033607994, rvalue=-0.38173246832057367, pvalue=0.0010206151016519274, stderr=0.0099961318382063898)\n"
     ]
    }
   ],
   "source": [
    "line = linregress(data['AGE'], data['B12'])\n",
    "print(line)"
   ]
  },
  {
   "cell_type": "code",
   "execution_count": 119,
   "metadata": {
    "collapsed": false
   },
   "outputs": [
    {
     "data": {
      "text/plain": [
       "[<matplotlib.lines.Line2D at 0x11ab886d8>]"
      ]
     },
     "execution_count": 119,
     "metadata": {},
     "output_type": "execute_result"
    },
    {
     "data": {
      "image/png": "[encoded data removed]",
      "text/plain": [
       "<matplotlib.figure.Figure at 0x11aeff1d0>"
      ]
     },
     "metadata": {},
     "output_type": "display_data"
    }
   ],
   "source": [
    "plt.figure(figsize=(16,10))\n",
    "plt.scatter(df['AGE'], df['B12'])\n",
    "plt.plot(data['AGE'], data['AGE'] * line.slope + line.intercept)"
   ]
  },
  {
   "cell_type": "code",
   "execution_count": 105,
   "metadata": {
    "collapsed": false
   },
   "outputs": [
    {
     "data": {
      "text/plain": [
       "Ttest_indResult(statistic=2.966194311346114, pvalue=0.0040046413724946139)"
      ]
     },
     "execution_count": 105,
     "metadata": {},
     "output_type": "execute_result"
    }
   ],
   "source": [
    "ttest_ind(young_adults['B12'], older_adults['B12'], equal_var=False)"
   ]
  },
  {
   "cell_type": "code",
   "execution_count": 113,
   "metadata": {
    "collapsed": false
   },
   "outputs": [
    {
     "data": {
      "text/plain": [
       "<matplotlib.legend.Legend at 0x11b8f44a8>"
      ]
     },
     "execution_count": 113,
     "metadata": {},
     "output_type": "execute_result"
    },
    {
     "data": {
      "image/png": "[encoded data removed]",
      "text/plain": [
       "<matplotlib.figure.Figure at 0x11b8fec50>"
      ]
     },
     "metadata": {},
     "output_type": "display_data"
    }
   ],
   "source": [
    "plt.figure(figsize=(16,10))\n",
    "a, b, c = plt.hist([young_adults['B12'], older_adults['B12']], label=['YA', 'OA']); plt.legend()"
   ]
  },
  {
   "cell_type": "code",
   "execution_count": 110,
   "metadata": {
    "collapsed": false
   },
   "outputs": [
    {
     "data": {
      "text/plain": [
       "(43, 63)"
      ]
     },
     "execution_count": 110,
     "metadata": {},
     "output_type": "execute_result"
    }
   ],
   "source": [
    "young_adults.shape"
   ]
  },
  {
   "cell_type": "code",
   "execution_count": 111,
   "metadata": {
    "collapsed": false
   },
   "outputs": [
    {
     "data": {
      "text/plain": [
       "(37, 63)"
      ]
     },
     "execution_count": 111,
     "metadata": {},
     "output_type": "execute_result"
    }
   ],
   "source": [
    "older_adults.shape"
   ]
  },
  {
   "cell_type": "code",
   "execution_count": 114,
   "metadata": {
    "collapsed": false
   },
   "outputs": [
    {
     "data": {
      "text/html": [
       "<div>\n",
       "<table border=\"1\" class=\"dataframe\">\n",
       "  <thead>\n",
       "    <tr style=\"text-align: right;\">\n",
       "      <th></th>\n",
       "      <th>SUBJECT</th>\n",
       "      <th>CLASS</th>\n",
       "      <th>AGE</th>\n",
       "      <th>SEX</th>\n",
       "      <th>AVG_PSD_SLOPE</th>\n",
       "      <th>A1</th>\n",
       "      <th>A2</th>\n",
       "      <th>A3</th>\n",
       "      <th>A4</th>\n",
       "      <th>A5</th>\n",
       "      <th>...</th>\n",
       "      <th>B26</th>\n",
       "      <th>B27</th>\n",
       "      <th>B28</th>\n",
       "      <th>B29</th>\n",
       "      <th>B30</th>\n",
       "      <th>FRONTAL</th>\n",
       "      <th>LTEMPORAL</th>\n",
       "      <th>CENTRAL</th>\n",
       "      <th>RTEMPORAL</th>\n",
       "      <th>OCCIPITAL</th>\n",
       "    </tr>\n",
       "  </thead>\n",
       "  <tbody>\n",
       "    <tr>\n",
       "      <th>0</th>\n",
       "      <td>127101</td>\n",
       "      <td>SA_Control</td>\n",
       "      <td>80.84873</td>\n",
       "      <td>2.0</td>\n",
       "      <td>-5.804659</td>\n",
       "      <td>-6.207339</td>\n",
       "      <td>-6.006881</td>\n",
       "      <td>-5.004732</td>\n",
       "      <td>-6.249184</td>\n",
       "      <td>-7.848450</td>\n",
       "      <td>...</td>\n",
       "      <td>-4.748383</td>\n",
       "      <td>-5.950079</td>\n",
       "      <td>-6.606615</td>\n",
       "      <td>-5.917265</td>\n",
       "      <td>-4.766720</td>\n",
       "      <td>-6.458774</td>\n",
       "      <td>-6.633731</td>\n",
       "      <td>-7.051571</td>\n",
       "      <td>-6.169163</td>\n",
       "      <td>-5.433811</td>\n",
       "    </tr>\n",
       "    <tr>\n",
       "      <th>1</th>\n",
       "      <td>127102</td>\n",
       "      <td>MCI_Control</td>\n",
       "      <td>71.89870</td>\n",
       "      <td>1.0</td>\n",
       "      <td>-5.854608</td>\n",
       "      <td>-6.475066</td>\n",
       "      <td>-6.151471</td>\n",
       "      <td>-6.517301</td>\n",
       "      <td>-6.380120</td>\n",
       "      <td>-5.964319</td>\n",
       "      <td>...</td>\n",
       "      <td>-4.621796</td>\n",
       "      <td>-5.606016</td>\n",
       "      <td>-6.762557</td>\n",
       "      <td>-5.917265</td>\n",
       "      <td>-4.285510</td>\n",
       "      <td>-6.458774</td>\n",
       "      <td>-6.737865</td>\n",
       "      <td>-6.479462</td>\n",
       "      <td>-6.818404</td>\n",
       "      <td>-5.433811</td>\n",
       "    </tr>\n",
       "    <tr>\n",
       "      <th>2</th>\n",
       "      <td>127103</td>\n",
       "      <td>MCI_Control</td>\n",
       "      <td>69.43463</td>\n",
       "      <td>2.0</td>\n",
       "      <td>-2.606542</td>\n",
       "      <td>-2.343221</td>\n",
       "      <td>-2.556968</td>\n",
       "      <td>-2.007683</td>\n",
       "      <td>-0.922110</td>\n",
       "      <td>-2.570165</td>\n",
       "      <td>...</td>\n",
       "      <td>-0.981276</td>\n",
       "      <td>-2.358701</td>\n",
       "      <td>-3.011193</td>\n",
       "      <td>-2.159953</td>\n",
       "      <td>-1.578591</td>\n",
       "      <td>-0.696107</td>\n",
       "      <td>-4.134891</td>\n",
       "      <td>-4.065552</td>\n",
       "      <td>-3.002314</td>\n",
       "      <td>0.712028</td>\n",
       "    </tr>\n",
       "    <tr>\n",
       "      <th>3</th>\n",
       "      <td>127104</td>\n",
       "      <td>SA_Control</td>\n",
       "      <td>83.61396</td>\n",
       "      <td>2.0</td>\n",
       "      <td>-5.387849</td>\n",
       "      <td>-4.666144</td>\n",
       "      <td>-3.645240</td>\n",
       "      <td>-4.136069</td>\n",
       "      <td>-3.626828</td>\n",
       "      <td>-4.693491</td>\n",
       "      <td>...</td>\n",
       "      <td>-5.393366</td>\n",
       "      <td>-4.729700</td>\n",
       "      <td>-4.507910</td>\n",
       "      <td>-4.547847</td>\n",
       "      <td>-5.036724</td>\n",
       "      <td>-3.482842</td>\n",
       "      <td>-4.028538</td>\n",
       "      <td>-6.004186</td>\n",
       "      <td>-7.831297</td>\n",
       "      <td>-4.690516</td>\n",
       "    </tr>\n",
       "    <tr>\n",
       "      <th>4</th>\n",
       "      <td>127105</td>\n",
       "      <td>SA_Control</td>\n",
       "      <td>80.69541</td>\n",
       "      <td>2.0</td>\n",
       "      <td>-4.915307</td>\n",
       "      <td>-4.253528</td>\n",
       "      <td>-4.358633</td>\n",
       "      <td>-5.077860</td>\n",
       "      <td>-4.276687</td>\n",
       "      <td>-4.318121</td>\n",
       "      <td>...</td>\n",
       "      <td>-5.109961</td>\n",
       "      <td>-5.684171</td>\n",
       "      <td>-5.320151</td>\n",
       "      <td>-5.582867</td>\n",
       "      <td>-6.150030</td>\n",
       "      <td>-4.585814</td>\n",
       "      <td>-5.216128</td>\n",
       "      <td>-5.562051</td>\n",
       "      <td>-5.251369</td>\n",
       "      <td>-6.189279</td>\n",
       "    </tr>\n",
       "  </tbody>\n",
       "</table>\n",
       "<p>5 rows × 63 columns</p>\n",
       "</div>"
      ],
      "text/plain": [
       "   SUBJECT        CLASS       AGE  SEX  AVG_PSD_SLOPE        A1        A2  \\\n",
       "0   127101   SA_Control  80.84873  2.0      -5.804659 -6.207339 -6.006881   \n",
       "1   127102  MCI_Control  71.89870  1.0      -5.854608 -6.475066 -6.151471   \n",
       "2   127103  MCI_Control  69.43463  2.0      -2.606542 -2.343221 -2.556968   \n",
       "3   127104   SA_Control  83.61396  2.0      -5.387849 -4.666144 -3.645240   \n",
       "4   127105   SA_Control  80.69541  2.0      -4.915307 -4.253528 -4.358633   \n",
       "\n",
       "         A3        A4        A5    ...           B26       B27       B28  \\\n",
       "0 -5.004732 -6.249184 -7.848450    ...     -4.748383 -5.950079 -6.606615   \n",
       "1 -6.517301 -6.380120 -5.964319    ...     -4.621796 -5.606016 -6.762557   \n",
       "2 -2.007683 -0.922110 -2.570165    ...     -0.981276 -2.358701 -3.011193   \n",
       "3 -4.136069 -3.626828 -4.693491    ...     -5.393366 -4.729700 -4.507910   \n",
       "4 -5.077860 -4.276687 -4.318121    ...     -5.109961 -5.684171 -5.320151   \n",
       "\n",
       "        B29       B30   FRONTAL  LTEMPORAL   CENTRAL  RTEMPORAL  OCCIPITAL  \n",
       "0 -5.917265 -4.766720 -6.458774  -6.633731 -7.051571  -6.169163  -5.433811  \n",
       "1 -5.917265 -4.285510 -6.458774  -6.737865 -6.479462  -6.818404  -5.433811  \n",
       "2 -2.159953 -1.578591 -0.696107  -4.134891 -4.065552  -3.002314   0.712028  \n",
       "3 -4.547847 -5.036724 -3.482842  -4.028538 -6.004186  -7.831297  -4.690516  \n",
       "4 -5.582867 -6.150030 -4.585814  -5.216128 -5.562051  -5.251369  -6.189279  \n",
       "\n",
       "[5 rows x 63 columns]"
      ]
     },
     "execution_count": 114,
     "metadata": {},
     "output_type": "execute_result"
    }
   ],
   "source": [
    "df.head()"
   ]
  },
  {
   "cell_type": "code",
   "execution_count": 115,
   "metadata": {
    "collapsed": false
   },
   "outputs": [
    {
     "data": {
      "text/plain": [
       "<matplotlib.collections.PathCollection at 0x11bdf4cf8>"
      ]
     },
     "execution_count": 115,
     "metadata": {},
     "output_type": "execute_result"
    },
    {
     "data": {
      "image/png": "[encoded data removed]",
      "text/plain": [
       "<matplotlib.figure.Figure at 0x11bdb3400>"
      ]
     },
     "metadata": {},
     "output_type": "display_data"
    }
   ],
   "source": [
    "plt.figure(figsize=(16,10))\n",
    "plt.scatter(data['AGE'], data['A22'])"
   ]
  },
  {
   "cell_type": "code",
   "execution_count": null,
   "metadata": {
    "collapsed": true
   },
   "outputs": [],
   "source": []
  }
 ],
 "metadata": {
  "anaconda-cloud": {},
  "kernelspec": {
   "display_name": "Python [default]",
   "language": "python",
   "name": "python3"
  },
  "language_info": {
   "codemirror_mode": {
    "name": "ipython",
    "version": 3
   },
   "file_extension": ".py",
   "mimetype": "text/x-python",
   "name": "python",
   "nbconvert_exporter": "python",
   "pygments_lexer": "ipython3",
   "version": "3.5.2"
  }
 },
 "nbformat": 4,
 "nbformat_minor": 0
}

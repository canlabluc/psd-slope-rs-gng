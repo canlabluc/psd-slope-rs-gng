{
 "cells": [
  {
   "cell_type": "markdown",
   "metadata": {},
   "source": [
    "# estimating the psd using Voytek (2015) methods\n",
    "\n",
    "This notebook demonstrates how to compute the PSD for a full recording of resting-state eyes closed and eyes open EEG using 2-second segments with 50% overlap."
   ]
  },
  {
   "cell_type": "code",
   "execution_count": 40,
   "metadata": {
    "collapsed": false
   },
   "outputs": [],
   "source": [
    "%matplotlib inline\n",
    "import os\n",
    "import glob\n",
    "import seaborn\n",
    "import numpy as np\n",
    "import scipy as sp\n",
    "import pandas as pd\n",
    "import scipy.ioth=\n",
    "import numpy.fft\n",
    "import scipy.signal\n",
    "import matplotlib as mpl\n",
    "import matplotlib.pyplot as plt\n",
    "from scipy.stats import linregress\n",
    "mpl.rcParams['figure.figsize'] = (16, 10)"
   ]
  },
  {
   "cell_type": "code",
   "execution_count": 2,
   "metadata": {
    "collapsed": false
   },
   "outputs": [],
   "source": [
    "data = sp.io.loadmat('../data/pipeline-full/oaExclFiltCARClust-mat/120127163.mat')\n",
    "events = []\n",
    "for event in np.squeeze(data['evts']):\n",
    "     events.append([event[0][0], event[1][0][0], event[2][0][0]])\n",
    "srate = data['srate'][0][0]\n",
    "data  = np.squeeze(data['data'])\n",
    "\n",
    "def import_subjects(import_path):\n",
    "    subj = {}\n",
    "    matfiles = []\n",
    "    for root, dirs, files in os.walk(import_path):\n",
    "        matfiles += glob.glob(os.path.join(root, '*.mat'))\n",
    "    for i in range(len(matfiles)):\n",
    "        datafile = sp.io.loadmat(matfiles[i])\n",
    "        subj[i] = {}\n",
    "        subj[i]['name'] = str(np.squeeze(datafile['name']))\n",
    "        subj[i]['data'] = np.squeeze(datafile['data'])\n",
    "    return subj"
   ]
  },
  {
   "cell_type": "code",
   "execution_count": 28,
   "metadata": {
    "collapsed": false
   },
   "outputs": [
    {
     "name": "stdout",
     "output_type": "stream",
     "text": [
      "[61346, 2181]\n",
      "[63886, 4336]\n",
      "[71011, 2514]\n",
      "[74211, 1868]\n",
      "[89880, 2037]\n",
      "[92767, 2566]\n",
      "[97828, 2743]\n",
      "[102830, 1737]\n",
      "[140797, 1770]\n",
      "[143142, 3559]\n",
      "[149568, 2990]\n",
      "[153382, 2011]\n",
      "[208861, 2880]\n",
      "[218011, 1861]\n",
      "Total length, points:   35053\n",
      "Total length, seconds:  68.462890625\n"
     ]
    }
   ],
   "source": [
    "def split_segs(x, nperseg=1024, noverlap=512):\n",
    "    segs = []\n",
    "    nsegs = (len(x)//noverlap) - 1\n",
    "    for i in range(nsegs):\n",
    "        segs.append(x[i*noverlap : i*noverlap + nperseg])\n",
    "    return segs\n",
    "\n",
    "def get_segs(data, seg_ranges, srate=512, nperseg=1024, noverlap=512):\n",
    "    \"\"\" \n",
    "    Given a time series and a list of valid ranges from which to\n",
    "    extract data, return segments of data.\n",
    "    \"\"\"\n",
    "    segs = []\n",
    "    for seg in seg_ranges:\n",
    "        if seg[1] >= nperseg:\n",
    "            found_segs = split_segs(data[seg[0] : seg[0] + seg[1]])\n",
    "            for s in found_segs:\n",
    "                segs.append(s)\n",
    "    return segs\n",
    "\n",
    "c_segs = []\n",
    "for i in range(len(events)):\n",
    "    if events[i][0] == 'C1':\n",
    "        c_segs.append([events[i][1], events[i+1][1] - events[i][1]])\n",
    "\n",
    "total_length = 0\n",
    "for seg in c_segs:\n",
    "    total_length += seg[1]\n",
    "    print(seg)\n",
    "print('Total length, points:  ', total_length)\n",
    "print('Total length, seconds: ', total_length/512)"
   ]
  },
  {
   "cell_type": "markdown",
   "metadata": {},
   "source": [
    "First, let's extract as many 2-second segments from the recording as we can."
   ]
  },
  {
   "cell_type": "code",
   "execution_count": 29,
   "metadata": {
    "collapsed": false
   },
   "outputs": [],
   "source": [
    "segs = get_segs(data[0], c_segs)"
   ]
  },
  {
   "cell_type": "code",
   "execution_count": 32,
   "metadata": {
    "collapsed": false
   },
   "outputs": [],
   "source": [
    "hamming = []\n",
    "for s in segs:\n",
    "    hamming.append(s * sp.signal.hamming(len(s)))"
   ]
  },
  {
   "cell_type": "code",
   "execution_count": 34,
   "metadata": {
    "collapsed": false
   },
   "outputs": [],
   "source": [
    "dft = []\n",
    "for s in hamming:\n",
    "    dft.append( sp.signal.welch(s, fs=512, nperseg=1024, noverlap=0, window='hamming') )"
   ]
  },
  {
   "cell_type": "code",
   "execution_count": 36,
   "metadata": {
    "collapsed": false
   },
   "outputs": [],
   "source": [
    "final = np.mean([seg[1] for seg in dft], axis=0)"
   ]
  },
  {
   "cell_type": "code",
   "execution_count": 41,
   "metadata": {
    "collapsed": false
   },
   "outputs": [
    {
     "data": {
      "text/plain": [
       "(0, 60)"
      ]
     },
     "execution_count": 41,
     "metadata": {},
     "output_type": "execute_result"
    },
    {
     "data": {
      "image/png": "[encoded data removed]",
      "text/plain": [
       "<matplotlib.figure.Figure at 0x11d93a160>"
      ]
     },
     "metadata": {},
     "output_type": "display_data"
    }
   ],
   "source": [
    "plt.plot(dft[0][0], np.log10(final)); plt.xlim([0, 60])"
   ]
  },
  {
   "cell_type": "code",
   "execution_count": null,
   "metadata": {
    "collapsed": true
   },
   "outputs": [],
   "source": []
  }
 ],
 "metadata": {
  "kernelspec": {
   "display_name": "Python 3",
   "language": "python",
   "name": "python3"
  },
  "language_info": {
   "codemirror_mode": {
    "name": "ipython",
    "version": 3
   },
   "file_extension": ".py",
   "mimetype": "text/x-python",
   "name": "python",
   "nbconvert_exporter": "python",
   "pygments_lexer": "ipython3",
   "version": "3.5.1"
  }
 },
 "nbformat": 4,
 "nbformat_minor": 0
}

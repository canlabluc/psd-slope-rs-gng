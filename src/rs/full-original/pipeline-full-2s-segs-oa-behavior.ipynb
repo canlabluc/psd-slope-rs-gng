{
 "cells": [
  {
   "cell_type": "markdown",
   "metadata": {},
   "source": [
    "# pipeline-full-2s-segs-oa-behavior\n",
    "\n",
    "This notebook covers the pipeline for the neural noise analysis on full recordings, done only on older adults. A matrix that contains both their behavioral measures and slopes is constructed and exported. The notebook is structured as follows:\n",
    "\n",
    "1. Import all subjects\n",
    "2. For each subject, extract all segments that are marked for analysis. \n",
    "3. For each segment extracted, extract as many 2-second segments with 50% overlap as we can.\n",
    "4. Use these segments to compute the PSD through Welch's method.\n",
    "5. Calculate the slope of each channel, and find the mean slope for each subject. \n",
    "6. Import the behavior table and add all slope results. Export to a CSV."
   ]
  },
  {
   "cell_type": "code",
   "execution_count": 1,
   "metadata": {
    "collapsed": false
   },
   "outputs": [],
   "source": [
    "%matplotlib inline\n",
    "import os\n",
    "import glob\n",
    "import seaborn\n",
    "import numpy as np\n",
    "import scipy as sp\n",
    "import pandas as pd\n",
    "import scipy.io\n",
    "import numpy.fft\n",
    "import scipy.signal\n",
    "import matplotlib as mpl\n",
    "import matplotlib.pyplot as plt\n",
    "from scipy.stats import linregress\n",
    "from sklearn import linear_model\n",
    "mpl.rcParams['figure.figsize'] = (16, 10)"
   ]
  },
  {
   "cell_type": "code",
   "execution_count": 5,
   "metadata": {
    "collapsed": false
   },
   "outputs": [],
   "source": [
    "def get_filelist(import_path):\n",
    "    matfiles = []\n",
    "    for root, dirs, files in os.walk(import_path):\n",
    "        matfiles += glob.glob(os.path.join(root, '*.mat'))\n",
    "    return matfiles\n",
    "\n",
    "def import_subject(subj, i, import_path):\n",
    "    subj[i] = {}\n",
    "    datafile = sp.io.loadmat(import_path)\n",
    "    subj[i]['name'] = str(np.squeeze(datafile['name']))\n",
    "    subj[i]['srate'] = int(np.squeeze(datafile['srate']))\n",
    "    subj[i]['events'] = []\n",
    "    for event in np.squeeze(datafile['evts']):\n",
    "        subj[i]['events'].append([event[0][0], event[1][0][0], event[2][0][0]])\n",
    "    subj[i]['data'] = np.squeeze(datafile['data'])\n",
    "    subj[i]['nbchan'] = len(subj[i]['data'])\n",
    "    return subj\n",
    "\n",
    "def _print_window_info(events, port_code):\n",
    "    evts = [[events[i][1], events[i+1][1]] for i in range(len(events)) if events[i][0] == port_code]\n",
    "    total_wins = 0\n",
    "    total_secs = 0\n",
    "    for e in evts:\n",
    "        if (e[1]-e[0]) >= 1024:\n",
    "            pts  = e[1]-e[0]\n",
    "            secs = (e[1]-e[0])//512\n",
    "            nwin = (e[1]-e[0])//512-1\n",
    "            total_wins += nwin\n",
    "            total_secs += secs\n",
    "            print('Event {}:\\t{} points, {} seconds, {} windows'.format(e, pts, secs, nwin))\n",
    "    print('Total windows able to be extracted: ', total_wins)\n",
    "\n",
    "def get_windows(data, events, port_code, nperwindow=512*2, noverlap=512):\n",
    "    windows = []\n",
    "    # The following line restructures events of type port_code into the \n",
    "    # following format:\n",
    "    #              [latency, end_of_event]\n",
    "    evts = [[events[i][1], events[i+1][1]] for i in range(len(events)) if events[i][0] == port_code]\n",
    "    for event in evts:\n",
    "        if event[1]-event[0] >= nperwindow:\n",
    "            nwindows = (event[1] - event[0])//noverlap - 1\n",
    "            for i in range(nwindows):\n",
    "                windows.append(data[event[0] + noverlap*i : event[0] + noverlap*i + nperwindow])\n",
    "    return windows\n",
    "\n",
    "def welch(windows, srate):\n",
    "    \"\"\"\n",
    "    Takes a list of data segments (each size 1xN), computes each segment's PSD,\n",
    "    and averages them to get a final PSD.\n",
    "    \"\"\"\n",
    "    psds = [sp.signal.welch(window, srate, nperseg=len(window), window='hamming')[1] for window in windows]\n",
    "    return np.mean(psds, axis=0)\n",
    "\n",
    "def linreg_slope(f, psd, lofreq, hifreq):\n",
    "    \"\"\"\n",
    "    Fits line to the PSD, using regular linear regression.\n",
    "    Returns slope and fit line.\n",
    "    \"\"\"\n",
    "    model = linear_model.LinearRegression()\n",
    "    model.fit(f[2*2:24*2], np.log10(psd[2*2:24*2]))\n",
    "    fit_line = model.predict(f)\n",
    "    return model.coef_[0] * (10**2), fit_line\n",
    "\n",
    "def ransac_slope(f, psd, lofreq, hifreq):\n",
    "    \"\"\"\n",
    "    Robustly fits line to the PSD, using the RANSAC algorithm. \n",
    "    Returns slope and fit line.\n",
    "    \"\"\"\n",
    "    model_ransac = linear_model.RANSACRegressor(linear_model.LinearRegression())\n",
    "    model_ransac.fit(f[lofreq*2:hifreq*2], np.log10(psd[lofreq*2:hifreq*2]))\n",
    "    fit_line = model_ransac.predict(f)\n",
    "    return model_ransac.estimator_.coef_[0] * (10**2), fit_line\n",
    "\n",
    "def remove_freq_buffer(data, lofreq, hifreq):\n",
    "    \"\"\"\n",
    "    Removes a frequency buffer from a PSD or frequency vector.\n",
    "    \"\"\"\n",
    "    data = np.delete(data, range(lofreq*2, hifreq*2))\n",
    "    return data.reshape(len(data), 1)\n",
    "\n",
    "def compute_subject_psds(import_path):\n",
    "    \"\"\"\n",
    "    Import all subjects and compute per-channel as well as average PSDs.\n",
    "    \"\"\"\n",
    "    matfiles = get_filelist(import_path)\n",
    "    \n",
    "    # Temporary -- I believe these aren't included in the samples-features matrix\n",
    "    if import_path == '../data/pipeline-full/oaExclFiltCARClust-mat/':\n",
    "        matfiles.remove('../data/pipeline-full/oaExclFiltCARClust-mat/120127132.mat')\n",
    "        matfiles.remove('../data/pipeline-full/oaExclFiltCARClust-mat/120127133.mat')\n",
    "        matfiles.remove('../data/pipeline-full/oaExclFiltCARClust-mat/120127134.mat')\n",
    "        matfiles.remove('../data/pipeline-full/oaExclFiltCARClust-mat/120127140.mat')\n",
    "        matfiles.remove('../data/pipeline-full/oaExclFiltCARClust-mat/120127154.mat')\n",
    "        matfiles.remove('../data/pipeline-full/oaExclFiltCARClust-mat/120127159.mat')\n",
    "        matfiles.remove('../data/pipeline-full/oaExclFiltCARClust-mat/120127160.mat')\n",
    "        matfiles.remove('../data/pipeline-full/oaExclFiltCARClust-mat/120127167.mat')\n",
    "\n",
    "    subj = {}\n",
    "    subj['nbsubj'] = len(matfiles)\n",
    "    subj['f'] = np.linspace(0, 256, 513)\n",
    "    subj['f'] = subj['f'].reshape(len(subj['f']), 1)\n",
    "    subj['f_rm_alpha'] = remove_freq_buffer(subj['f'], 7, 14)\n",
    "    for i in range(len(matfiles)):\n",
    "        subj = import_subject(subj, i, matfiles[i])\n",
    "        for ch in range(subj[i]['nbchan']):\n",
    "            subj[i][ch] = {}\n",
    "            eyesC_windows = get_windows(subj[i]['data'][ch], subj[i]['events'], 'C1')\n",
    "            eyesO_windows = get_windows(subj[i]['data'][ch], subj[i]['events'], 'O1')\n",
    "            subj[i][ch]['eyesC_psd'] = welch(eyesC_windows, 512)\n",
    "            subj[i][ch]['eyesO_psd'] = welch(eyesO_windows, 512)\n",
    "            subj[i][ch]['eyesC_psd_rm_alpha'] = remove_freq_buffer(subj[i][ch]['eyesC_psd'], 7, 14)\n",
    "            subj[i][ch]['eyesO_psd_rm_alpha'] = remove_freq_buffer(subj[i][ch]['eyesO_psd'], 7, 14)\n",
    "        subj[i]['data'] = np.nan # No longer needed, so clear it from memory\n",
    "        subj[i]['eyesC_psd'] = np.mean([subj[i][ch]['eyesC_psd'] for ch in range(subj[i]['nbchan'])], axis=0)\n",
    "        subj[i]['eyesO_psd'] = np.mean([subj[i][ch]['eyesO_psd'] for ch in range(subj[i]['nbchan'])], axis=0)\n",
    "        subj[i]['eyesC_psd_rm_alpha'] = remove_freq_buffer(subj[i]['eyesC_psd'], 7, 14)\n",
    "        subj[i]['eyesO_psd_rm_alpha'] = remove_freq_buffer(subj[i]['eyesO_psd'], 7, 14)\n",
    "        print(\"Processed: \", subj[i]['name'])\n",
    "    subj['eyesC_psd'] = np.mean([subj[i]['eyesC_psd'] for i in range(subj['nbsubj'])], axis=0)\n",
    "    subj['eyesO_psd'] = np.mean([subj[i]['eyesO_psd'] for i in range(subj['nbsubj'])], axis=0)\n",
    "    return subj\n",
    "\n",
    "def fit_slopes(subj, regr_func, lofreq, hifreq):\n",
    "    # Fitting on the grand average PSD of all subjects\n",
    "    eyesC_slope_and_fitline = regr_func(subj['f'], subj['eyesC_psd'], lofreq, hifreq)\n",
    "    eyesO_slope_and_fitline = regr_func(subj['f'], subj['eyesO_psd'], lofreq, hifreq)\n",
    "    subj['eyesC_slope'], subj['eyesC_fitline'] = eyesC_slope_and_fitline\n",
    "    subj['eyesO_slope'], subj['eyesO_fitline'] = eyesO_slope_and_fitline\n",
    "    for i in range(subj['nbsubj']):\n",
    "        # Per-subject PSD average fitting\n",
    "        eyesC_slope_and_fitline = regr_func(subj['f'], subj[i]['eyesC_psd'], lofreq, hifreq)\n",
    "        eyesO_slope_and_fitline = regr_func(subj['f'], subj[i]['eyesO_psd'], lofreq, hifreq)\n",
    "        subj[i]['eyesC_slope'], subj[i]['eyesC_fitline'] = eyesC_slope_and_fitline\n",
    "        subj[i]['eyesO_slope'], subj[i]['eyesO_fitline'] = eyesO_slope_and_fitline\n",
    "        for ch in range(subj[i]['nbchan']):\n",
    "            # Per-channel PSD fitting\n",
    "            eyesC_slope_and_fitline = regr_func(subj['f'], subj[i][ch]['eyesC_psd_rm_alpha'], lofreq, hifreq)\n",
    "            eyesO_slope_and_fitline = regr_func(subj['f'], subj[i][ch]['eyesO_psd_rm_alpha'], lofreq, hifreq)\n",
    "            subj[i][ch]['eyesC_slope'], subj[i][ch]['eyesC_fitline'] = eyesC_slope_and_fitline\n",
    "            subj[i][ch]['eyesO_slope'], subj[i][ch]['eyesO_fitline'] = eyesO_slope_and_fitline\n",
    "    return subj"
   ]
  },
  {
   "cell_type": "markdown",
   "metadata": {},
   "source": [
    "Now we import each subject, compute their PSD for both eyes closed and eyes open segments, fit a line to the slope, and find the average psd and slope.\n",
    "\n",
    "# Importing subjects and computing the PSD"
   ]
  },
  {
   "cell_type": "code",
   "execution_count": 3,
   "metadata": {
    "collapsed": false
   },
   "outputs": [
    {
     "name": "stdout",
     "output_type": "stream",
     "text": [
      "Processed:  120127101\n",
      "Processed:  120127102\n",
      "Processed:  120127103\n",
      "Processed:  120127104\n",
      "Processed:  120127105\n",
      "Processed:  120127106\n",
      "Processed:  120127107\n",
      "Processed:  120127108\n",
      "Processed:  120127109\n",
      "Processed:  120127110\n",
      "Processed:  120127111\n",
      "Processed:  120127112\n",
      "Processed:  120127113\n",
      "Processed:  120127114\n",
      "Processed:  120127115\n",
      "Processed:  120127116\n",
      "Processed:  120127117\n",
      "Processed:  120127118\n",
      "Processed:  120127119\n",
      "Processed:  120127120\n",
      "Processed:  120127121\n",
      "Processed:  120127122\n",
      "Processed:  120127123\n",
      "Processed:  120127124\n",
      "Processed:  120127125\n",
      "Processed:  120127128\n",
      "Processed:  120127130\n",
      "Processed:  120127131\n",
      "Processed:  120127135\n",
      "Processed:  120127137\n",
      "Processed:  120127138\n",
      "Processed:  120127139\n",
      "Processed:  120127142\n",
      "Processed:  120127144\n",
      "Processed:  120127145\n",
      "Processed:  120127146\n",
      "Processed:  120127147\n",
      "Processed:  120127148\n",
      "Processed:  120127149\n",
      "Processed:  120127151\n",
      "Processed:  120127153\n",
      "Processed:  120127155\n",
      "Processed:  120127156\n",
      "Processed:  120127157\n",
      "Processed:  120127158\n",
      "Processed:  120127161\n",
      "Processed:  120127162\n",
      "Processed:  120127163\n",
      "Processed:  120127164\n",
      "Processed:  120127165\n",
      "Processed:  120127166\n",
      "Processed:  120127168\n",
      "Processed:  120127169\n",
      "Processed:  120127170\n",
      "Processed:  1121181181\n",
      "Processed:  1121181183\n",
      "Processed:  1121181218\n",
      "Processed:  1121181262\n",
      "Processed:  1121181286\n",
      "Processed:  112118131\n",
      "Processed:  1121181334\n",
      "Processed:  112118135\n",
      "Processed:  1121181393\n",
      "Processed:  1121181418\n",
      "Processed:  1121181424\n",
      "Processed:  1121181428\n",
      "Processed:  1121181510\n",
      "Processed:  1121181517\n",
      "Processed:  1121181575\n",
      "Processed:  112118167\n",
      "Processed:  112118204\n",
      "Processed:  112118257\n",
      "Processed:  112118266\n",
      "Processed:  112118334\n",
      "Processed:  112118373\n",
      "Processed:  112118416\n",
      "Processed:  112118463\n",
      "Processed:  112118468\n",
      "Processed:  112118475\n",
      "Processed:  112118479\n",
      "Processed:  112118521\n",
      "Processed:  112118526\n",
      "Processed:  112118576\n",
      "Processed:  112118578\n",
      "Processed:  112118587\n",
      "Processed:  112118642\n",
      "Processed:  112118723\n",
      "Processed:  112118761\n",
      "Processed:  112118762\n",
      "Processed:  112118785\n"
     ]
    }
   ],
   "source": [
    "subjoa = compute_subject_psds('../data/pipeline-full/oaExclFiltCARClust-mat/')\n",
    "np.save('../data/pipeline-full/subjoa-no-fitting.npy', subjoa); subjoa = []\n",
    "subjya = compute_subject_psds('../data/pipeline-full/yaExclFiltCARClust-mat/')\n",
    "np.save('../data/pipeline-full/subjya-no-fitting.npy', subjya); subjya = []"
   ]
  },
  {
   "cell_type": "markdown",
   "metadata": {},
   "source": [
    "# Fit to PSD slopes and save results"
   ]
  },
  {
   "cell_type": "code",
   "execution_count": 6,
   "metadata": {
    "collapsed": false
   },
   "outputs": [],
   "source": [
    "subjoa = np.load('../data/pipeline-full/subjoa-no-fitting.npy').item()\n",
    "subjya = np.load('../data/pipeline-full/subjya-no-fitting.npy').item()\n",
    "subjoa = fit_slopes(subjoa, linreg_slope, 2, 24)\n",
    "subjya = fit_slopes(subjya, linreg_slope, 2, 24)"
   ]
  },
  {
   "cell_type": "code",
   "execution_count": 17,
   "metadata": {
    "collapsed": false
   },
   "outputs": [],
   "source": [
    "for i in range(subjoa['nbsubj']):\n",
    "    for ch in range(subjoa[i]['nbchan']):\n",
    "        subjoa[i][ch]['eyesC_slope'] = subjoa[i][ch]['eyesC_slope'][0]\n",
    "        subjoa[i][ch]['eyesO_slope'] = subjoa[i][ch]['eyesO_slope'][0]\n",
    "for i in range(subjya['nbsubj']):\n",
    "    for ch in range(subjya[i]['nbchan']):\n",
    "        subjya[i][ch]['eyesC_slope'] = subjya[i][ch]['eyesC_slope'][0]\n",
    "        subjya[i][ch]['eyesO_slope'] = subjya[i][ch]['eyesO_slope'][0]  "
   ]
  },
  {
   "cell_type": "code",
   "execution_count": 18,
   "metadata": {
    "collapsed": true
   },
   "outputs": [],
   "source": [
    "np.save('../data/pipeline-full/subjoa-2-24fit.npy', subjoa)\n",
    "np.save('../data/pipeline-full/subjya-2-24fit.npy', subjya)"
   ]
  },
  {
   "cell_type": "markdown",
   "metadata": {
    "collapsed": false
   },
   "source": [
    "# Stats\n",
    "\n",
    "First, let's construct a samples-features matrix so we can send it to Bob and perform statistics on results.\n",
    "\n",
    "Average of:\n",
    "- A29, A30, A31, B23, B24, B26"
   ]
  },
  {
   "cell_type": "code",
   "execution_count": 9,
   "metadata": {
    "collapsed": false
   },
   "outputs": [],
   "source": [
    "older = [\"120127142\",\"120127146\",\"120127130\",\"120127103\",\"120127123\",\"120127131\",\"120127121\",\"120127102\",\"120127166\",\"120127164\",\"120127165\",\"120127170\",\"120127112\",\"120127116\",\"120127161\",\"120127158\",\"120127168\",\"120127162\",\"120127149\",\"120127169\"]\n",
    "younger = [\"112118351\",\"112118463\",\"112118526\",\"112118578\",\"112118642\",\"1121181183\",\"1121181262\",\"1121181494\",\"112118475\",\"112118553\",\"112118761\",\"112118785\",\"112118468\",\"112118470\",\"1121181424\",\"112118131\",\"112118257\",\"112118373\",\"112118416\",\"112118479\",\"1121181181\",\"1121181393\",\"1121181510\",\"112118508\",\"112118723\",\"1121181517\"]"
   ]
  },
  {
   "cell_type": "code",
   "execution_count": 20,
   "metadata": {
    "collapsed": false
   },
   "outputs": [
    {
     "data": {
      "text/html": [
       "<div>\n",
       "<table border=\"1\" class=\"dataframe\">\n",
       "  <thead>\n",
       "    <tr style=\"text-align: right;\">\n",
       "      <th></th>\n",
       "      <th>SUBJECT</th>\n",
       "      <th>CLASS</th>\n",
       "      <th>AGE</th>\n",
       "      <th>SEX</th>\n",
       "      <th>RAVLT_DEL</th>\n",
       "      <th>EDUCATION</th>\n",
       "      <th>SEX_NUMBERIC</th>\n",
       "      <th>ANIMALS</th>\n",
       "      <th>BNT_30</th>\n",
       "      <th>LM_1</th>\n",
       "      <th>...</th>\n",
       "      <th>B26</th>\n",
       "      <th>B27</th>\n",
       "      <th>B28</th>\n",
       "      <th>B29</th>\n",
       "      <th>B30</th>\n",
       "      <th>FRONTAL</th>\n",
       "      <th>LTEMPORAL</th>\n",
       "      <th>CENTRAL</th>\n",
       "      <th>RTEMPORAL</th>\n",
       "      <th>OCCIPITAL</th>\n",
       "    </tr>\n",
       "  </thead>\n",
       "  <tbody>\n",
       "    <tr>\n",
       "      <th>0</th>\n",
       "      <td>127101</td>\n",
       "      <td>SA_Control</td>\n",
       "      <td>80.84873</td>\n",
       "      <td>2</td>\n",
       "      <td>3</td>\n",
       "      <td>15</td>\n",
       "      <td>2</td>\n",
       "      <td>18</td>\n",
       "      <td>27</td>\n",
       "      <td>10</td>\n",
       "      <td>...</td>\n",
       "      <td>-4.748383</td>\n",
       "      <td>-5.950079</td>\n",
       "      <td>-6.606615</td>\n",
       "      <td>-5.917265</td>\n",
       "      <td>-4.766720</td>\n",
       "      <td>-6.458774</td>\n",
       "      <td>-6.633731</td>\n",
       "      <td>-7.051571</td>\n",
       "      <td>-6.169163</td>\n",
       "      <td>-5.433811</td>\n",
       "    </tr>\n",
       "    <tr>\n",
       "      <th>1</th>\n",
       "      <td>127102</td>\n",
       "      <td>MCI_Control</td>\n",
       "      <td>71.89870</td>\n",
       "      <td>1</td>\n",
       "      <td>8</td>\n",
       "      <td>16</td>\n",
       "      <td>1</td>\n",
       "      <td>22</td>\n",
       "      <td>30</td>\n",
       "      <td>15</td>\n",
       "      <td>...</td>\n",
       "      <td>-4.621796</td>\n",
       "      <td>-5.606016</td>\n",
       "      <td>-6.762557</td>\n",
       "      <td>-5.917265</td>\n",
       "      <td>-4.285510</td>\n",
       "      <td>-6.458774</td>\n",
       "      <td>-6.737865</td>\n",
       "      <td>-6.479462</td>\n",
       "      <td>-6.818404</td>\n",
       "      <td>-5.433811</td>\n",
       "    </tr>\n",
       "    <tr>\n",
       "      <th>2</th>\n",
       "      <td>127103</td>\n",
       "      <td>MCI_Control</td>\n",
       "      <td>69.43463</td>\n",
       "      <td>2</td>\n",
       "      <td>11</td>\n",
       "      <td>14</td>\n",
       "      <td>2</td>\n",
       "      <td>29</td>\n",
       "      <td>29</td>\n",
       "      <td>7</td>\n",
       "      <td>...</td>\n",
       "      <td>-0.981276</td>\n",
       "      <td>-2.358701</td>\n",
       "      <td>-3.011193</td>\n",
       "      <td>-2.159953</td>\n",
       "      <td>-1.578591</td>\n",
       "      <td>-0.696107</td>\n",
       "      <td>-4.134891</td>\n",
       "      <td>-4.065552</td>\n",
       "      <td>-3.002314</td>\n",
       "      <td>0.712028</td>\n",
       "    </tr>\n",
       "    <tr>\n",
       "      <th>3</th>\n",
       "      <td>127104</td>\n",
       "      <td>SA_Control</td>\n",
       "      <td>83.61396</td>\n",
       "      <td>2</td>\n",
       "      <td>8</td>\n",
       "      <td>14</td>\n",
       "      <td>2</td>\n",
       "      <td>22</td>\n",
       "      <td>27</td>\n",
       "      <td>16</td>\n",
       "      <td>...</td>\n",
       "      <td>-5.393366</td>\n",
       "      <td>-4.729700</td>\n",
       "      <td>-4.507910</td>\n",
       "      <td>-4.547847</td>\n",
       "      <td>-5.036724</td>\n",
       "      <td>-3.482842</td>\n",
       "      <td>-4.028538</td>\n",
       "      <td>-6.004186</td>\n",
       "      <td>-7.831297</td>\n",
       "      <td>-4.690516</td>\n",
       "    </tr>\n",
       "    <tr>\n",
       "      <th>4</th>\n",
       "      <td>127105</td>\n",
       "      <td>SA_Control</td>\n",
       "      <td>80.69541</td>\n",
       "      <td>2</td>\n",
       "      <td>7</td>\n",
       "      <td>18</td>\n",
       "      <td>2</td>\n",
       "      <td>17</td>\n",
       "      <td>28</td>\n",
       "      <td>20</td>\n",
       "      <td>...</td>\n",
       "      <td>-5.109961</td>\n",
       "      <td>-5.684171</td>\n",
       "      <td>-5.320151</td>\n",
       "      <td>-5.582867</td>\n",
       "      <td>-6.150030</td>\n",
       "      <td>-4.585814</td>\n",
       "      <td>-5.216128</td>\n",
       "      <td>-5.562051</td>\n",
       "      <td>-5.251369</td>\n",
       "      <td>-6.189279</td>\n",
       "    </tr>\n",
       "  </tbody>\n",
       "</table>\n",
       "<p>5 rows × 98 columns</p>\n",
       "</div>"
      ],
      "text/plain": [
       "   SUBJECT        CLASS       AGE  SEX  RAVLT_DEL  EDUCATION  SEX_NUMBERIC  \\\n",
       "0   127101   SA_Control  80.84873    2          3         15             2   \n",
       "1   127102  MCI_Control  71.89870    1          8         16             1   \n",
       "2   127103  MCI_Control  69.43463    2         11         14             2   \n",
       "3   127104   SA_Control  83.61396    2          8         14             2   \n",
       "4   127105   SA_Control  80.69541    2          7         18             2   \n",
       "\n",
       "   ANIMALS  BNT_30  LM_1    ...           B26       B27       B28       B29  \\\n",
       "0       18      27    10    ...     -4.748383 -5.950079 -6.606615 -5.917265   \n",
       "1       22      30    15    ...     -4.621796 -5.606016 -6.762557 -5.917265   \n",
       "2       29      29     7    ...     -0.981276 -2.358701 -3.011193 -2.159953   \n",
       "3       22      27    16    ...     -5.393366 -4.729700 -4.507910 -4.547847   \n",
       "4       17      28    20    ...     -5.109961 -5.684171 -5.320151 -5.582867   \n",
       "\n",
       "        B30   FRONTAL  LTEMPORAL   CENTRAL  RTEMPORAL  OCCIPITAL  \n",
       "0 -4.766720 -6.458774  -6.633731 -7.051571  -6.169163  -5.433811  \n",
       "1 -4.285510 -6.458774  -6.737865 -6.479462  -6.818404  -5.433811  \n",
       "2 -1.578591 -0.696107  -4.134891 -4.065552  -3.002314   0.712028  \n",
       "3 -5.036724 -3.482842  -4.028538 -6.004186  -7.831297  -4.690516  \n",
       "4 -6.150030 -4.585814  -5.216128 -5.562051  -5.251369  -6.189279  \n",
       "\n",
       "[5 rows x 98 columns]"
      ]
     },
     "execution_count": 20,
     "metadata": {},
     "output_type": "execute_result"
    }
   ],
   "source": [
    "df = pd.read_csv('../data/oa-behavior-and-slopes-20s-eyesc.csv')\n",
    "df.head()"
   ]
  },
  {
   "cell_type": "code",
   "execution_count": 22,
   "metadata": {
    "collapsed": false
   },
   "outputs": [],
   "source": [
    "channels = [\"A1\",\"A2\",\"A3\",\"A4\",\"A5\",\"A6\",\"A7\",\"A8\",\"A10\",\"A11\",\"A12\",\"A13\",\"A14\",\"A15\",\"A16\",\"A17\",\"A18\",\"A21\",\"A22\",\"A23\",\"A24\",\"A25\",\"A26\",\"A27\",\"A29\",\"A30\",\"A31\",\"B1\",\"B2\",\"B3\",\"B4\",\"B5\",\"B6\",\"B8\",\"B9\",\"B10\",\"B11\",\"B12\",\"B13\",\"B14\",\"B17\",\"B18\",\"B19\",\"B20\",\"B21\",\"B22\",\"B23\",\"B24\",\"B26\",\"B27\",\"B28\",\"B29\",\"B30\",\"FRONTAL\",\"LTEMPORAL\",\"CENTRAL\",\"RTEMPORAL\",\"OCCIPITAL\"]\n",
    "df['AVG_PSD_EYESC'] = [subjoa['eyesC_slope'] for i in range(subjoa['nbsubj'])]\n",
    "df['AVG_PSD_EYESO'] = [subjoa['eyesO_slope'] for i in range(subjoa['nbsubj'])]\n",
    "for ch in range(len(channels)):\n",
    "    df[channels[ch] + '_EYESC'] = [subjoa[i][ch]['eyesC_slope'] for i in range(subjoa['nbsubj'])]\n",
    "    df[channels[ch] + '_EYESO'] = [subjoa[i][ch]['eyesO_slope'] for i in range(subjoa['nbsubj'])]"
   ]
  },
  {
   "cell_type": "code",
   "execution_count": 28,
   "metadata": {
    "collapsed": false
   },
   "outputs": [],
   "source": [
    "# Now append '_20S_EYESC' to all of the first slope measures\n",
    "cols_20s = {'AVG_PSD_SLOPE': 'AVG_PSD_SLOPE_20S_EYESC', 'A1': 'A1_20S_EYESC', 'A2': 'A2_20S_EYESC', 'A3': 'A3_20S_EYESC', 'A4': 'A4_20S_EYESC', 'A5': 'A5_20S_EYESC', 'A6': 'A6_20S_EYESC', 'A7': 'A7_20S_EYESC', 'A8': 'A8_20S_EYESC', 'A10': 'A10_20S_EYESC', 'A11': 'A11_20S_EYESC', 'A12': 'A12_20S_EYESC', 'A13': 'A13_20S_EYESC', 'A14': 'A14_20S_EYESC', 'A15': 'A15_20S_EYESC', 'A16': 'A16_20S_EYESC', 'A17': 'A17_20S_EYESC', 'A18': 'A18_20S_EYESC', 'A21': 'A21_20S_EYESC', 'A22': 'A22_20S_EYESC', 'A23': 'A23_20S_EYESC', 'A24': 'A24_20S_EYESC', 'A25': 'A25_20S_EYESC', 'A26': 'A26_20S_EYESC', 'A27': 'A27_20S_EYESC', 'A29': 'A29_20S_EYESC', 'A30': 'A30_20S_EYESC', 'A31': 'A31_20S_EYESC', 'B1': 'B1_20S_EYESC', 'B2': 'B2_20S_EYESC', 'B3': 'B3_20S_EYESC', 'B4': 'B4_20S_EYESC', 'B5': 'B5_20S_EYESC', 'B6': 'B6_20S_EYESC', 'B8': 'B8_20S_EYESC', 'B9': 'B9_20S_EYESC', 'B10': 'B10_20S_EYESC', 'B11': 'B11_20S_EYESC', 'B12': 'B12_20S_EYESC', 'B13': 'B13_20S_EYESC', 'B14': 'B14_20S_EYESC', 'B17': 'B17_20S_EYESC', 'B18': 'B18_20S_EYESC', 'B19': 'B19_20S_EYESC', 'B20': 'B20_20S_EYESC', 'B21': 'B21_20S_EYESC', 'B22': 'B22_20S_EYESC', 'B23': 'B23_20S_EYESC', 'B24': 'B24_20S_EYESC', 'B26': 'B26_20S_EYESC', 'B27': 'B27_20S_EYESC', 'B28': 'B28_20S_EYESC', 'B29': 'B29_20S_EYESC', 'B30': 'B30_20S_EYESC', 'FRONTAL': 'FRONTAL_20S_EYESC', 'LTEMPORAL': 'LTEMPORAL_20S_EYESC', 'CENTRAL': 'CENTRAL_20S_EYESC', 'RTEMPORAL': 'RTEMPORAL_20S_EYESC', 'OCCIPITAL': 'OCCIPITAL_20S_EYESC'}\n",
    "df.rename(columns=cols_20s, inplace=True)"
   ]
  },
  {
   "cell_type": "code",
   "execution_count": 30,
   "metadata": {
    "collapsed": false
   },
   "outputs": [
    {
     "name": "stdout",
     "output_type": "stream",
     "text": [
      "['SUBJECT', 'CLASS', 'AGE', 'SEX', 'RAVLT_DEL', 'EDUCATION', 'SEX_NUMBERIC', 'ANIMALS', 'BNT_30', 'LM_1', 'LM_2', 'MMSE', 'TMT_A', 'TMT_B', 'DSPAN_B', 'DSPAN_F', 'DSYMBOL', 'LEARNER', 'RB1_ACC', 'RB1_RT', 'RB1_ACC_F', 'RB1_F_RT', 'RB1_N_ACC', 'RB1_N_RT', 'RB2_ACC', 'RB2_RT', 'RB2_ACC_F', 'RB2_F_RT', 'RB2_N_ACC', 'RB2_N_RT', 'RB_CHECK_F_ACC', 'RB_CHECK_N_ACC', 'RB_CHECK_TOTAL_ACC', 'GNG_GO_HR', 'GNG_GO_MISS', 'GNG_NOGO_CR', 'GNG_NOGO_FA', 'GNG_GO_RT', 'GNG_NOGOINCORR_RT', 'AVG_PSD_SLOPE_20S_EYESC', 'A1_20S_EYESC', 'A2_20S_EYESC', 'A3_20S_EYESC', 'A4_20S_EYESC', 'A5_20S_EYESC', 'A6_20S_EYESC', 'A7_20S_EYESC', 'A8_20S_EYESC', 'A10_20S_EYESC', 'A11_20S_EYESC', 'A12_20S_EYESC', 'A13_20S_EYESC', 'A14_20S_EYESC', 'A15_20S_EYESC', 'A16_20S_EYESC', 'A17_20S_EYESC', 'A18_20S_EYESC', 'A21_20S_EYESC', 'A22_20S_EYESC', 'A23_20S_EYESC', 'A24_20S_EYESC', 'A25_20S_EYESC', 'A26_20S_EYESC', 'A27_20S_EYESC', 'A29_20S_EYESC', 'A30_20S_EYESC', 'A31_20S_EYESC', 'B1_20S_EYESC', 'B2_20S_EYESC', 'B3_20S_EYESC', 'B4_20S_EYESC', 'B5_20S_EYESC', 'B6_20S_EYESC', 'B8_20S_EYESC', 'B9_20S_EYESC', 'B10_20S_EYESC', 'B11_20S_EYESC', 'B12_20S_EYESC', 'B13_20S_EYESC', 'B14_20S_EYESC', 'B17_20S_EYESC', 'B18_20S_EYESC', 'B19_20S_EYESC', 'B20_20S_EYESC', 'B21_20S_EYESC', 'B22_20S_EYESC', 'B23_20S_EYESC', 'B24_20S_EYESC', 'B26_20S_EYESC', 'B27_20S_EYESC', 'B28_20S_EYESC', 'B29_20S_EYESC', 'B30_20S_EYESC', 'FRONTAL_20S_EYESC', 'LTEMPORAL_20S_EYESC', 'CENTRAL_20S_EYESC', 'RTEMPORAL_20S_EYESC', 'OCCIPITAL_20S_EYESC', 'AVG_PSD_EYESC', 'AVG_PSD_EYESO', 'A1_EYESC', 'A1_EYESO', 'A2_EYESC', 'A2_EYESO', 'A3_EYESC', 'A3_EYESO', 'A4_EYESC', 'A4_EYESO', 'A5_EYESC', 'A5_EYESO', 'A6_EYESC', 'A6_EYESO', 'A7_EYESC', 'A7_EYESO', 'A8_EYESC', 'A8_EYESO', 'A10_EYESC', 'A10_EYESO', 'A11_EYESC', 'A11_EYESO', 'A12_EYESC', 'A12_EYESO', 'A13_EYESC', 'A13_EYESO', 'A14_EYESC', 'A14_EYESO', 'A15_EYESC', 'A15_EYESO', 'A16_EYESC', 'A16_EYESO', 'A17_EYESC', 'A17_EYESO', 'A18_EYESC', 'A18_EYESO', 'A21_EYESC', 'A21_EYESO', 'A22_EYESC', 'A22_EYESO', 'A23_EYESC', 'A23_EYESO', 'A24_EYESC', 'A24_EYESO', 'A25_EYESC', 'A25_EYESO', 'A26_EYESC', 'A26_EYESO', 'A27_EYESC', 'A27_EYESO', 'A29_EYESC', 'A29_EYESO', 'A30_EYESC', 'A30_EYESO', 'A31_EYESC', 'A31_EYESO', 'B1_EYESC', 'B1_EYESO', 'B2_EYESC', 'B2_EYESO', 'B3_EYESC', 'B3_EYESO', 'B4_EYESC', 'B4_EYESO', 'B5_EYESC', 'B5_EYESO', 'B6_EYESC', 'B6_EYESO', 'B8_EYESC', 'B8_EYESO', 'B9_EYESC', 'B9_EYESO', 'B10_EYESC', 'B10_EYESO', 'B11_EYESC', 'B11_EYESO', 'B12_EYESC', 'B12_EYESO', 'B13_EYESC', 'B13_EYESO', 'B14_EYESC', 'B14_EYESO', 'B17_EYESC', 'B17_EYESO', 'B18_EYESC', 'B18_EYESO', 'B19_EYESC', 'B19_EYESO', 'B20_EYESC', 'B20_EYESO', 'B21_EYESC', 'B21_EYESO', 'B22_EYESC', 'B22_EYESO', 'B23_EYESC', 'B23_EYESO', 'B24_EYESC', 'B24_EYESO', 'B26_EYESC', 'B26_EYESO', 'B27_EYESC', 'B27_EYESO', 'B28_EYESC', 'B28_EYESO', 'B29_EYESC', 'B29_EYESO', 'B30_EYESC', 'B30_EYESO', 'FRONTAL_EYESC', 'FRONTAL_EYESO', 'LTEMPORAL_EYESC', 'LTEMPORAL_EYESO', 'CENTRAL_EYESC', 'CENTRAL_EYESO', 'RTEMPORAL_EYESC', 'RTEMPORAL_EYESO', 'OCCIPITAL_EYESC', 'OCCIPITAL_EYESO']\n"
     ]
    }
   ],
   "source": [
    "# Todo: Add columns that says how many segments were able to be extracted from the recording\n",
    "print(list(df.columns))"
   ]
  },
  {
   "cell_type": "code",
   "execution_count": 31,
   "metadata": {
    "collapsed": false
   },
   "outputs": [],
   "source": [
    "df.to_csv('../data/pipeline-full/oa-behavior-slope-eyesc-eyeso-full.csv', index_col=0)"
   ]
  },
  {
   "cell_type": "code",
   "execution_count": 41,
   "metadata": {
    "collapsed": false
   },
   "outputs": [],
   "source": [
    "df.drop(df.columns[39:98], axis=1, inplace=True)"
   ]
  },
  {
   "cell_type": "code",
   "execution_count": 43,
   "metadata": {
    "collapsed": false
   },
   "outputs": [
    {
     "name": "stdout",
     "output_type": "stream",
     "text": [
      "['SUBJECT', 'CLASS', 'AGE', 'SEX', 'RAVLT_DEL', 'EDUCATION', 'SEX_NUMBERIC', 'ANIMALS', 'BNT_30', 'LM_1', 'LM_2', 'MMSE', 'TMT_A', 'TMT_B', 'DSPAN_B', 'DSPAN_F', 'DSYMBOL', 'LEARNER', 'RB1_ACC', 'RB1_RT', 'RB1_ACC_F', 'RB1_F_RT', 'RB1_N_ACC', 'RB1_N_RT', 'RB2_ACC', 'RB2_RT', 'RB2_ACC_F', 'RB2_F_RT', 'RB2_N_ACC', 'RB2_N_RT', 'RB_CHECK_F_ACC', 'RB_CHECK_N_ACC', 'RB_CHECK_TOTAL_ACC', 'GNG_GO_HR', 'GNG_GO_MISS', 'GNG_NOGO_CR', 'GNG_NOGO_FA', 'GNG_GO_RT', 'GNG_NOGOINCORR_RT', 'AVG_PSD_EYESC', 'AVG_PSD_EYESO', 'A1_EYESC', 'A1_EYESO', 'A2_EYESC', 'A2_EYESO', 'A3_EYESC', 'A3_EYESO', 'A4_EYESC', 'A4_EYESO', 'A5_EYESC', 'A5_EYESO', 'A6_EYESC', 'A6_EYESO', 'A7_EYESC', 'A7_EYESO', 'A8_EYESC', 'A8_EYESO', 'A10_EYESC', 'A10_EYESO', 'A11_EYESC', 'A11_EYESO', 'A12_EYESC', 'A12_EYESO', 'A13_EYESC', 'A13_EYESO', 'A14_EYESC', 'A14_EYESO', 'A15_EYESC', 'A15_EYESO', 'A16_EYESC', 'A16_EYESO', 'A17_EYESC', 'A17_EYESO', 'A18_EYESC', 'A18_EYESO', 'A21_EYESC', 'A21_EYESO', 'A22_EYESC', 'A22_EYESO', 'A23_EYESC', 'A23_EYESO', 'A24_EYESC', 'A24_EYESO', 'A25_EYESC', 'A25_EYESO', 'A26_EYESC', 'A26_EYESO', 'A27_EYESC', 'A27_EYESO', 'A29_EYESC', 'A29_EYESO', 'A30_EYESC', 'A30_EYESO', 'A31_EYESC', 'A31_EYESO', 'B1_EYESC', 'B1_EYESO', 'B2_EYESC', 'B2_EYESO', 'B3_EYESC', 'B3_EYESO', 'B4_EYESC', 'B4_EYESO', 'B5_EYESC', 'B5_EYESO', 'B6_EYESC', 'B6_EYESO', 'B8_EYESC', 'B8_EYESO', 'B9_EYESC', 'B9_EYESO', 'B10_EYESC', 'B10_EYESO', 'B11_EYESC', 'B11_EYESO', 'B12_EYESC', 'B12_EYESO', 'B13_EYESC', 'B13_EYESO', 'B14_EYESC', 'B14_EYESO', 'B17_EYESC', 'B17_EYESO', 'B18_EYESC', 'B18_EYESO', 'B19_EYESC', 'B19_EYESO', 'B20_EYESC', 'B20_EYESO', 'B21_EYESC', 'B21_EYESO', 'B22_EYESC', 'B22_EYESO', 'B23_EYESC', 'B23_EYESO', 'B24_EYESC', 'B24_EYESO', 'B26_EYESC', 'B26_EYESO', 'B27_EYESC', 'B27_EYESO', 'B28_EYESC', 'B28_EYESO', 'B29_EYESC', 'B29_EYESO', 'B30_EYESC', 'B30_EYESO', 'FRONTAL_EYESC', 'FRONTAL_EYESO', 'LTEMPORAL_EYESC', 'LTEMPORAL_EYESO', 'CENTRAL_EYESC', 'CENTRAL_EYESO', 'RTEMPORAL_EYESC', 'RTEMPORAL_EYESO', 'OCCIPITAL_EYESC', 'OCCIPITAL_EYESO']\n"
     ]
    }
   ],
   "source": [
    "print(list(df.columns))"
   ]
  },
  {
   "cell_type": "code",
   "execution_count": 44,
   "metadata": {
    "collapsed": true
   },
   "outputs": [],
   "source": [
    "df.to_csv('../data/pipeline-full/oa-behavior-slope-eyesc-eyeso-full.csv', index_col=0)"
   ]
  },
  {
   "cell_type": "code",
   "execution_count": null,
   "metadata": {
    "collapsed": true
   },
   "outputs": [],
   "source": []
  }
 ],
 "metadata": {
  "kernelspec": {
   "display_name": "Python 3",
   "language": "python",
   "name": "python3"
  },
  "language_info": {
   "codemirror_mode": {
    "name": "ipython",
    "version": 3
   },
   "file_extension": ".py",
   "mimetype": "text/x-python",
   "name": "python",
   "nbconvert_exporter": "python",
   "pygments_lexer": "ipython3",
   "version": "3.5.1"
  }
 },
 "nbformat": 4,
 "nbformat_minor": 0
}

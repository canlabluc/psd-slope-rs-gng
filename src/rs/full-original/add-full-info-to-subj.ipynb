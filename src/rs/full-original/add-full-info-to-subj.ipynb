{
 "cells": [
  {
   "cell_type": "markdown",
   "metadata": {},
   "source": [
    "# add-full-info-to-subj\n",
    "\n",
    "Just adding all information from the ya-oa.csv matrix to subjoa and subjya data structures. This is to ensure that we get the slopes, etc completely correct and don't mismatch. Make sure to construct the slopes matrix again after this is done to make sure we got it right the first time."
   ]
  },
  {
   "cell_type": "code",
   "execution_count": 1,
   "metadata": {
    "collapsed": true
   },
   "outputs": [],
   "source": [
    "%matplotlib inline\n",
    "import os\n",
    "import glob\n",
    "import seaborn\n",
    "import numpy as np\n",
    "import scipy as sp\n",
    "import pandas as pd\n",
    "import scipy.io\n",
    "import numpy.fft\n",
    "import scipy.signal\n",
    "import matplotlib as mpl\n",
    "import matplotlib.pyplot as plt\n",
    "from scipy.stats import linregress\n",
    "from sklearn import linear_model\n",
    "mpl.rcParams['figure.figsize'] = (16, 10)"
   ]
  },
  {
   "cell_type": "code",
   "execution_count": 2,
   "metadata": {
    "collapsed": false
   },
   "outputs": [],
   "source": [
    "subjoa = np.load('../data/pipeline-full/subjoa-no-fitting.npy').item()\n",
    "subjya = np.load('../data/pipeline-full/subjya-no-fitting.npy').item()"
   ]
  },
  {
   "cell_type": "code",
   "execution_count": 3,
   "metadata": {
    "collapsed": false
   },
   "outputs": [
    {
     "data": {
      "text/html": [
       "<div>\n",
       "<table border=\"1\" class=\"dataframe\">\n",
       "  <thead>\n",
       "    <tr style=\"text-align: right;\">\n",
       "      <th></th>\n",
       "      <th>SUBJECT</th>\n",
       "      <th>CLASS</th>\n",
       "      <th>AGE</th>\n",
       "      <th>SEX</th>\n",
       "    </tr>\n",
       "  </thead>\n",
       "  <tbody>\n",
       "    <tr>\n",
       "      <th>0</th>\n",
       "      <td>120127101</td>\n",
       "      <td>SA_Control</td>\n",
       "      <td>80.84873</td>\n",
       "      <td>2.0</td>\n",
       "    </tr>\n",
       "    <tr>\n",
       "      <th>1</th>\n",
       "      <td>120127102</td>\n",
       "      <td>MCI_Control</td>\n",
       "      <td>71.89870</td>\n",
       "      <td>1.0</td>\n",
       "    </tr>\n",
       "    <tr>\n",
       "      <th>2</th>\n",
       "      <td>120127103</td>\n",
       "      <td>MCI_Control</td>\n",
       "      <td>69.43463</td>\n",
       "      <td>2.0</td>\n",
       "    </tr>\n",
       "    <tr>\n",
       "      <th>3</th>\n",
       "      <td>120127104</td>\n",
       "      <td>SA_Control</td>\n",
       "      <td>83.61396</td>\n",
       "      <td>2.0</td>\n",
       "    </tr>\n",
       "    <tr>\n",
       "      <th>4</th>\n",
       "      <td>120127105</td>\n",
       "      <td>SA_Control</td>\n",
       "      <td>80.69541</td>\n",
       "      <td>2.0</td>\n",
       "    </tr>\n",
       "  </tbody>\n",
       "</table>\n",
       "</div>"
      ],
      "text/plain": [
       "     SUBJECT        CLASS       AGE  SEX\n",
       "0  120127101   SA_Control  80.84873  2.0\n",
       "1  120127102  MCI_Control  71.89870  1.0\n",
       "2  120127103  MCI_Control  69.43463  2.0\n",
       "3  120127104   SA_Control  83.61396  2.0\n",
       "4  120127105   SA_Control  80.69541  2.0"
      ]
     },
     "execution_count": 3,
     "metadata": {},
     "output_type": "execute_result"
    }
   ],
   "source": [
    "df = pd.read_csv('../data/ya-oa.csv')\n",
    "df.SUBJECT = df.SUBJECT.astype(str)\n",
    "df.head()"
   ]
  },
  {
   "cell_type": "code",
   "execution_count": 4,
   "metadata": {
    "collapsed": true
   },
   "outputs": [],
   "source": [
    "for i in range(subjoa['nbsubj']):\n",
    "    subjoa[i]['age']   = df[df.SUBJECT == subjoa[i]['name']].AGE.values[0]\n",
    "    subjoa[i]['class'] = df[df.SUBJECT == subjoa[i]['name']].CLASS.values[0]\n",
    "    subjoa[i]['sex']   = df[df.SUBJECT == subjoa[i]['name']].SEX.values[0]\n",
    "for i in range(subjya['nbsubj']):\n",
    "    subjya[i]['age']   = df[df.SUBJECT == subjya[i]['name']].AGE.values[0]\n",
    "    subjya[i]['class'] = df[df.SUBJECT == subjya[i]['name']].CLASS.values[0]\n",
    "    subjya[i]['sex']   = df[df.SUBJECT == subjya[i]['name']].SEX.values[0]"
   ]
  },
  {
   "cell_type": "code",
   "execution_count": 5,
   "metadata": {
    "collapsed": true
   },
   "outputs": [],
   "source": [
    "for i in range(subjoa['nbsubj']):\n",
    "    if 'sex' not in subjoa[i].keys():sub\n",
    "        print(subjoa[i]['name'])"
   ]
  },
  {
   "cell_type": "code",
   "execution_count": 6,
   "metadata": {
    "collapsed": true
   },
   "outputs": [],
   "source": [
    "for i in range(subjya['nbsubj']):\n",
    "    if 'sex' not in subjya[i].keys():\n",
    "        print(subjya[i]['name'])"
   ]
  },
  {
   "cell_type": "markdown",
   "metadata": {},
   "source": [
    "Okay, good. Since we have all of our information in our datastructures now, let's just construct the matrix from subjoa and subjya. "
   ]
  },
  {
   "cell_type": "code",
   "execution_count": 7,
   "metadata": {
    "collapsed": true
   },
   "outputs": [],
   "source": [
    "oa_names = [subjoa[i]['name'] for i in range(subjoa['nbsubj'])]\n",
    "oa_class = [subjoa[i]['class'] for i in range(subjoa['nbsubj'])]\n",
    "oa_sex   = [subjoa[i]['sex'] for i in range(subjoa['nbsubj'])]\n",
    "oa_age   = [subjoa[i]['age'] for i in range(subjoa['nbsubj'])]\n",
    "\n",
    "ya_names = [subjya[i]['name'] for i in range(subjya['nbsubj'])]\n",
    "ya_class = [subjya[i]['class'] for i in range(subjya['nbsubj'])]\n",
    "ya_sex   = [subjya[i]['sex'] for i in range(subjya['nbsubj'])]\n",
    "ya_age   = [subjya[i]['age'] for i in range(subjya['nbsubj'])]\n",
    "\n",
    "df.SUBJECT = np.concatenate([oa_names, ya_names], axis=0)\n",
    "df.CLASS   = np.concatenate([oa_class, ya_class], axis=0)\n",
    "df.AGE     = np.concatenate([oa_age, ya_age], axis=0)\n",
    "df.SEX     = np.concatenate([oa_sex, ya_sex], axis=0)"
   ]
  },
  {
   "cell_type": "code",
   "execution_count": 13,
   "metadata": {
    "collapsed": false
   },
   "outputs": [
    {
     "data": {
      "text/plain": [
       "dict_keys([0, 1, 2, 3, 4, 5, 6, 7, 8, 9, 10, 11, 12, 13, 14, 15, 16, 17, 18, 19, 20, 21, 22, 23, 24, 25, 26, 27, 28, 29, 30, 31, 32, 33, 34, 35, 36, 37, 38, 39, 40, 41, 42, 43, 44, 45, 46, 47, 48, 49, 50, 51, 52, 53, 54, 55, 56, 57, 'nbchan', 'srate', 'age', 'eyesC_psd_rm_alpha', 'events', 'name', 'class', 'eyesO_psd', 'eyesO_psd_rm_alpha', 'eyesC_psd', 'data', 'sex'])"
      ]
     },
     "execution_count": 13,
     "metadata": {},
     "output_type": "execute_result"
    }
   ],
   "source": [
    "subjya[0].keys()"
   ]
  },
  {
   "cell_type": "code",
   "execution_count": 16,
   "metadata": {
    "collapsed": false
   },
   "outputs": [
    {
     "data": {
      "text/plain": [
       "'DANE'"
      ]
     },
     "execution_count": 16,
     "metadata": {},
     "output_type": "execute_result"
    }
   ],
   "source": [
    "subjya[0]['class']"
   ]
  },
  {
   "cell_type": "code",
   "execution_count": null,
   "metadata": {
    "collapsed": true
   },
   "outputs": [],
   "source": []
  },
  {
   "cell_type": "code",
   "execution_count": null,
   "metadata": {
    "collapsed": true
   },
   "outputs": [],
   "source": []
  },
  {
   "cell_type": "code",
   "execution_count": null,
   "metadata": {
    "collapsed": true
   },
   "outputs": [],
   "source": []
  },
  {
   "cell_type": "code",
   "execution_count": null,
   "metadata": {
    "collapsed": true
   },
   "outputs": [],
   "source": []
  },
  {
   "cell_type": "code",
   "execution_count": null,
   "metadata": {
    "collapsed": true
   },
   "outputs": [],
   "source": []
  },
  {
   "cell_type": "code",
   "execution_count": null,
   "metadata": {
    "collapsed": true
   },
   "outputs": [],
   "source": []
  },
  {
   "cell_type": "code",
   "execution_count": null,
   "metadata": {
    "collapsed": true
   },
   "outputs": [],
   "source": []
  },
  {
   "cell_type": "code",
   "execution_count": null,
   "metadata": {
    "collapsed": true
   },
   "outputs": [],
   "source": []
  },
  {
   "cell_type": "code",
   "execution_count": null,
   "metadata": {
    "collapsed": true
   },
   "outputs": [],
   "source": []
  },
  {
   "cell_type": "code",
   "execution_count": 20,
   "metadata": {
    "collapsed": false
   },
   "outputs": [],
   "source": [
    "np.save('../data/pipeline-full/subjoa-no-fitting.npy', subjoa)\n",
    "np.save('../data/pipeline-full/subjya-no-fitting.npy', subjya)"
   ]
  },
  {
   "cell_type": "code",
   "execution_count": 21,
   "metadata": {
    "collapsed": false
   },
   "outputs": [],
   "source": [
    "df.to_csv('../data/pipeline-full/ya-oa.csv', index=False)"
   ]
  },
  {
   "cell_type": "code",
   "execution_count": null,
   "metadata": {
    "collapsed": true
   },
   "outputs": [],
   "source": []
  }
 ],
 "metadata": {
  "kernelspec": {
   "display_name": "Python 3",
   "language": "python",
   "name": "python3"
  },
  "language_info": {
   "codemirror_mode": {
    "name": "ipython",
    "version": 3
   },
   "file_extension": ".py",
   "mimetype": "text/x-python",
   "name": "python",
   "nbconvert_exporter": "python",
   "pygments_lexer": "ipython3",
   "version": "3.5.1"
  }
 },
 "nbformat": 4,
 "nbformat_minor": 0
}

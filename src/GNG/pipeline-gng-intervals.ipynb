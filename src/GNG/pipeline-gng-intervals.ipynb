{
 "cells": [
  {
   "cell_type": "markdown",
   "metadata": {},
   "source": [
    "# pipeline - gonogo data, 150-300ms and 300-600ms post-stimulus"
   ]
  },
  {
   "cell_type": "code",
   "execution_count": 1,
   "metadata": {
    "collapsed": true
   },
   "outputs": [],
   "source": [
    "%matplotlib inline\n",
    "import os\n",
    "import glob\n",
    "import datetime\n",
    "import seaborn as sns\n",
    "import numpy as np\n",
    "import scipy as sp\n",
    "import pandas as pd\n",
    "import scipy.io\n",
    "import numpy.fft\n",
    "import scipy.signal\n",
    "import matplotlib as mpl\n",
    "import matplotlib.pyplot as plt\n",
    "from scipy.stats import linregress\n",
    "from sklearn import linear_model\n",
    "mpl.rcParams['figure.figsize'] = (16, 10)"
   ]
  },
  {
   "cell_type": "markdown",
   "metadata": {},
   "source": [
    "## Subject importing & PSD slope calculations"
   ]
  },
  {
   "cell_type": "code",
   "execution_count": 4,
   "metadata": {
    "collapsed": true
   },
   "outputs": [],
   "source": [
    "def get_filelist(import_path):\n",
    "    matfiles = []\n",
    "    for root, dirs, files in os.walk(import_path):\n",
    "        matfiles += glob.glob(os.path.join(root, '*.mat'))\n",
    "    return matfiles\n",
    "\n",
    "def import_subject(subj, i, import_path):\n",
    "    \"\"\" \n",
    "    Imports a single subject and adds them to the subj\n",
    "    data structure. Additionally, merges \n",
    "    \"\"\"\n",
    "    subj[i] = {}\n",
    "    datafile = sp.io.loadmat(import_path)\n",
    "    subj[i]['name'] = str(np.squeeze(datafile['name']))\n",
    "    subj[i]['srate'] = int(np.squeeze(datafile['srate']))\n",
    "    subj[i]['events'] = []\n",
    "    for event in np.squeeze(datafile['evts']):\n",
    "        subj[i]['events'].append([event[0][0], event[1][0][0], event[2][0][0]])\n",
    "    subj[i]['data'] = np.squeeze(datafile['data'])\n",
    "    subj[i]['nbchan'] = len(subj[i]['data'])\n",
    "    return subj\n",
    "\n",
    "def _print_window_info(events, port_code):\n",
    "    evts = [[events[i][1], events[i+1][1]] for i in range(len(events)) if events[i][0] == port_code]\n",
    "    total_wins = 0\n",
    "    total_secs = 0\n",
    "    for e in evts:\n",
    "        if (e[1] - e[0]) >= 1024:\n",
    "            pts  = e[1] - e[0]\n",
    "            secs = (e[1] - e[0])//512\n",
    "            nwin = (e[1] - e[0])//512 - 1\n",
    "            total_wins += nwin\n",
    "            total_secs += secs\n",
    "            print('Event {}:\\t{} points, {} seconds, {} windows'.format(e, pts, secs, nwin))\n",
    "    print('Total windows able to be extracted: ', total_wins)\n",
    "\n",
    "def get_windows(data, events, port_code, nperwindow=512*2, noverlap=512):\n",
    "    windows = []\n",
    "    # The following line restructures events of type port_code into the \n",
    "    # following format:\n",
    "    #         [start_time, end_time]\n",
    "    evts = [[events[i][1], events[i+1][1]] for i in range(len(events)) if events[i][0] == port_code]\n",
    "    for event in evts:\n",
    "        if event[1]-event[0] >= nperwindow:\n",
    "            nwindows = (event[1] - event[0])//noverlap - 1\n",
    "            for i in range(nwindows):\n",
    "                windows.append(data[event[0] + noverlap*i : event[0] + noverlap*i + nperwindow])\n",
    "    return windows\n",
    "\n",
    "def welch(windows, srate):\n",
    "    \"\"\"\n",
    "    Takes a list of data segments (each size 1xN), computes each segment's PSD,\n",
    "    and averages them to get a final PSD.\n",
    "    \"\"\"\n",
    "    psds = [sp.signal.welch(window, srate, nperseg=len(window), window='hamming')[1] for window in windows]\n",
    "    return np.mean(psds, axis=0)\n",
    "\n",
    "def remove_freq_buffer(data, lofreq, hifreq):\n",
    "    \"\"\"\n",
    "    Removes a frequency buffer from a PSD or frequency vector.\n",
    "    \"\"\"\n",
    "    data = np.delete(data, range(lofreq*2, hifreq*2))\n",
    "    return data.reshape(len(data), 1)\n",
    "\n",
    "def compute_subject_psds(import_path, import_path_csv):\n",
    "    \"\"\" Returns subj data structure with calculated PSDs and subject information.\n",
    "    Arguments:\n",
    "        import_path:     String, path to .mat files\n",
    "        import_path_csv: String, path to .csv containing subject class, sex, and\n",
    "                         age information. \n",
    "    \"\"\"\n",
    "    matfiles = get_filelist(import_path)\n",
    "    df = pd.read_csv(import_path_csv)\n",
    "    df.SUBJECT = df.SUBJECT.astype(str)\n",
    "\n",
    "    subj = {}\n",
    "    subj['nbsubj'] = len(matfiles)\n",
    "    subj['f'] = np.linspace(0, 256, 513)\n",
    "    subj['f'] = subj['f'].reshape(len(subj['f']), 1)\n",
    "    subj['f_rm_alpha'] = remove_freq_buffer(subj['f'], 7, 14)\n",
    "    for i in range(len(matfiles)):\n",
    "        \n",
    "        subj = import_subject(subj, i, matfiles[i])\n",
    "        subj[i]['age']   = df[df.SUBJECT == subj[i]['name']].AGE.values[0]\n",
    "        subj[i]['class'] = df[df.SUBJECT == subj[i]['name']].CLASS.values[0]\n",
    "        subj[i]['sex']   = df[df.SUBJECT == subj[i]['name']].SEX.values[0]\n",
    "\n",
    "        for ch in range(subj[i]['nbchan']):\n",
    "            subj[i][ch] = {}\n",
    "            windows = get_windows(subj[i]['data'][ch], subj[i]['events'], 'C1')\n",
    "            subj[i][ch]['psd'] = welch(windows, 512)\n",
    "            subj[i][ch]['psd_rm_alpha'] = remove_freq_buffer(subj[i][ch]['psd'], 7, 14)\n",
    "        subj[i]['nwindows'] = len(windows)\n",
    "        subj[i]['data'] = np.nan # No longer needed, so clear it from memory\n",
    "        subj[i]['psd'] = np.mean([subj[i][ch]['psd'] for ch in range(subj[i]['nbchan'])], axis=0)\n",
    "        subj[i]['psd_rm_alpha'] = remove_freq_buffer(subj[i]['psd'], 7, 14)\n",
    "        print(\"Processed: \", subj[i]['name'])\n",
    "    subj['psd'] = np.mean([subj[i]['psd'] for i in range(subj['nbsubj'])], axis=0)\n",
    "    return subj"
   ]
  },
  {
   "cell_type": "code",
   "execution_count": null,
   "metadata": {
    "collapsed": true
   },
   "outputs": [],
   "source": []
  }
 ],
 "metadata": {
  "anaconda-cloud": {},
  "kernelspec": {
   "display_name": "Python [default]",
   "language": "python",
   "name": "python3"
  },
  "language_info": {
   "codemirror_mode": {
    "name": "ipython",
    "version": 3
   },
   "file_extension": ".py",
   "mimetype": "text/x-python",
   "name": "python",
   "nbconvert_exporter": "python",
   "pygments_lexer": "ipython3",
   "version": "3.5.2"
  }
 },
 "nbformat": 4,
 "nbformat_minor": 1
}

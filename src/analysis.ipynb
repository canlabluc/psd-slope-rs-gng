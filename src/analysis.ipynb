{
 "cells": [
  {
   "cell_type": "markdown",
   "metadata": {},
   "source": [
    "# analysis pipeline for psd-slope\n",
    "\n",
    "This notebook covers the whole analysis for the psd-slope project.\n",
    "\n",
    "##### Jorge Yanar 2016\n",
    "This notebook does the following:\n",
    "1. Imports every .mat file in the specified directory\n",
    "2. For each file, we run through channels and compute the PSD of each channel\n",
    "3. Compute the average PSD for each subject\n",
    "4. Use the RANSAC algorithm to fit a line to each PSD, using the PSD from 1 - 24 Hz but blocking out alpha, from 7 - 14 Hz."
   ]
  },
  {
   "cell_type": "markdown",
   "metadata": {},
   "source": [
    "#### Imports"
   ]
  },
  {
   "cell_type": "code",
   "execution_count": 21,
   "metadata": {
    "collapsed": true
   },
   "outputs": [],
   "source": [
    "%matplotlib inline\n",
    "import os\n",
    "import glob\n",
    "import numpy as np\n",
    "import scipy as sp\n",
    "import seaborn as sb\n",
    "import matplotlib.pyplot as plt\n",
    "from scipy import signal\n",
    "from scipy import io\n",
    "from sklearn import linear_model, datasets"
   ]
  },
  {
   "cell_type": "markdown",
   "metadata": {},
   "source": [
    "#### Data importing"
   ]
  },
  {
   "cell_type": "code",
   "execution_count": 22,
   "metadata": {
    "collapsed": false
   },
   "outputs": [],
   "source": [
    "subj = {} # Dictionary that holds all subjects\n",
    "matfiles = []\n",
    "for root, dirs, files in os.walk('../data/extClfiltCAR-mat/'):\n",
    "    matfiles += glob.glob(os.path.join(root, '*.mat'))\n",
    "\n",
    "for i in range(len(matfiles)):\n",
    "    datafile = sp.io.loadmat(matfiles[i])\n",
    "    \n",
    "    subj[i] = {}\n",
    "    subj[i]['name']  = np.squeeze(datafile['name'])\n",
    "    subj[i]['srate'] = np.squeeze(datafile['srate'])\n",
    "    subj[i]['data']  = np.squeeze(datafile['data'])    "
   ]
  },
  {
   "cell_type": "markdown",
   "metadata": {},
   "source": [
    "#### Compute PSD"
   ]
  },
  {
   "cell_type": "code",
   "execution_count": 43,
   "metadata": {
    "collapsed": false
   },
   "outputs": [],
   "source": [
    "def compute_slope(f, psd):\n",
    "    \"\"\"\n",
    "    Computes PSD and fits line to it, calculating the slope.\n",
    "    \n",
    "    Output:\n",
    "        slope\n",
    "    \"\"\"\n",
    "    model_ransac = linear_model.RANSACRegressor(linear_model.LinearRegression())\n",
    "    model_ransac.fit(f[:50*2], np.log10(psd[:50*2]))\n",
    "    fit_line = model_ransac.predict(f)\n",
    "    return model_ransac.estimator_.coef_[0][0]"
   ]
  },
  {
   "cell_type": "markdown",
   "metadata": {},
   "source": [
    "Now to compute the slope of every channel for each subject:"
   ]
  },
  {
   "cell_type": "code",
   "execution_count": 46,
   "metadata": {
    "collapsed": true
   },
   "outputs": [],
   "source": [
    "srate = 512\n",
    "for i in subj:\n",
    "    for ch in range(len(subj[i]['data'])):\n",
    "        subj[i][ch] = {}\n",
    "        \n",
    "        f, psd = sp.signal.welch(subj[i]['data'][ch], srate, nperseg=srate*2, noverlap=srate, window='hamming')\n",
    "        f   = f.reshape((len(f), 1))\n",
    "        psd = psd.reshape((len(psd), 1))\n",
    "        \n",
    "        subj[i][ch]['f'] = f\n",
    "        subj[i][ch]['psd'] = psd\n",
    "        subj[i][ch]['slope'] = compute_slope(f, psd)"
   ]
  },
  {
   "cell_type": "markdown",
   "metadata": {},
   "source": [
    "And find the average slope for each subject."
   ]
  },
  {
   "cell_type": "code",
   "execution_count": 47,
   "metadata": {
    "collapsed": false
   },
   "outputs": [],
   "source": [
    "for i in subj:\n",
    "    slopes = []\n",
    "    for ch in range(len(subj[i]['data'])):\n",
    "        slopes.append(subj[i][ch]['slope'])\n",
    "    subj[i]['slope'] = np.mean(slopes)"
   ]
  },
  {
   "cell_type": "code",
   "execution_count": 59,
   "metadata": {
    "collapsed": false
   },
   "outputs": [
    {
     "name": "stdout",
     "output_type": "stream",
     "text": [
      "120127101: -0.0514\n",
      "120127102: -0.0515\n",
      "120127103: -0.0261\n",
      "120127104: -0.0491\n",
      "120127105: -0.0390\n",
      "120127106: -0.0224\n",
      "120127107: -0.0299\n",
      "120127108: -0.0360\n",
      "120127109: -0.0287\n",
      "120127110: -0.0260\n",
      "120127111: -0.0367\n",
      "120127112: -0.0487\n",
      "120127113: -0.0401\n",
      "120127114: -0.0313\n",
      "120127115: -0.0324\n",
      "120127116: -0.0391\n",
      "120127117: -0.0246\n",
      "120127118: -0.0472\n",
      "120127119: -0.0205\n",
      "120127120: -0.0335\n",
      "120127121: -0.0044\n",
      "120127122: -0.0356\n",
      "120127123: -0.0439\n",
      "120127124: -0.0302\n",
      "120127125: -0.0512\n",
      "120127128: -0.0512\n",
      "120127130: -0.0210\n",
      "120127131: -0.0366\n",
      "120127132: -0.0389\n",
      "120127133: -0.0445\n",
      "120127134: -0.0382\n",
      "120127135: -0.0455\n",
      "120127137: -0.0397\n",
      "120127138: -0.0013\n",
      "120127139: -0.0354\n",
      "120127140: -0.0397\n",
      "120127142: -0.0432\n",
      "120127144: -0.0162\n",
      "120127145: -0.0290\n",
      "120127146: -0.0499\n",
      "120127147: -0.0245\n",
      "120127148: -0.0385\n",
      "120127149: -0.0472\n",
      "120127151: -0.0103\n",
      "120127153: -0.0230\n",
      "120127154: -0.0238\n",
      "120127155: -0.0189\n",
      "120127156: -0.0389\n",
      "120127157: -0.0480\n",
      "120127158: -0.0475\n",
      "120127159: -0.0365\n",
      "120127160: -0.0381\n",
      "120127161: -0.0630\n",
      "120127162: -0.0231\n",
      "120127163: -0.0420\n",
      "120127164: -0.0439\n",
      "120127165: -0.0257\n",
      "120127166: -0.0459\n",
      "120127167: -0.0556\n",
      "120127168: -0.0369\n",
      "120127169: -0.0327\n",
      "120127170: -0.0076\n"
     ]
    }
   ],
   "source": [
    "for i in subj:\n",
    "    print(\"{}: {:.4f}\".format(subj[i]['name'], subj[i]['slope']))"
   ]
  },
  {
   "cell_type": "markdown",
   "metadata": {},
   "source": [
    "#### Export results to CSV"
   ]
  },
  {
   "cell_type": "code",
   "execution_count": null,
   "metadata": {
    "collapsed": true
   },
   "outputs": [],
   "source": []
  }
 ],
 "metadata": {
  "kernelspec": {
   "display_name": "Python 3",
   "language": "python",
   "name": "python3"
  },
  "language_info": {
   "codemirror_mode": {
    "name": "ipython",
    "version": 3
   },
   "file_extension": ".py",
   "mimetype": "text/x-python",
   "name": "python",
   "nbconvert_exporter": "python",
   "pygments_lexer": "ipython3",
   "version": "3.5.1"
  }
 },
 "nbformat": 4,
 "nbformat_minor": 0
}

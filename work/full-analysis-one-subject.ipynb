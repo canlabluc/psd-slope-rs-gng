{
 "cells": [
  {
   "cell_type": "markdown",
   "metadata": {},
   "source": [
    "## this notebook covers the whole pipeline, using a single participant"
   ]
  },
  {
   "cell_type": "code",
   "execution_count": 25,
   "metadata": {
    "collapsed": true
   },
   "outputs": [],
   "source": [
    "%matplotlib inline\n",
    "import os\n",
    "import glob\n",
    "import numpy as np\n",
    "import scipy as sp\n",
    "import seaborn as sb\n",
    "import matplotlib.pyplot as plt\n",
    "from scipy import signal\n",
    "from scipy import io\n",
    "from sklearn import linear_model, datasets"
   ]
  },
  {
   "cell_type": "code",
   "execution_count": 2,
   "metadata": {
    "collapsed": true
   },
   "outputs": [],
   "source": [
    "data = sp.io.loadmat('/Users/jorge/Dropbox/research/_psd-slope/data/extClfiltCAR-mat/120127163.mat')\n",
    "\n",
    "name  = np.squeeze(data['name'])\n",
    "srate = np.squeeze(data['srate'])\n",
    "data  = np.squeeze(data['data'])"
   ]
  },
  {
   "cell_type": "code",
   "execution_count": 64,
   "metadata": {
    "collapsed": false
   },
   "outputs": [
    {
     "name": "stdout",
     "output_type": "stream",
     "text": [
      "Subject name:  120127163\n",
      "Sampling rate: 512 Hz\n",
      "Length of rec: 1060.0 sec\n",
      "Data shape:    (53, 10240)\n",
      "A single second of recording: \n"
     ]
    },
    {
     "data": {
      "text/plain": [
       "[<matplotlib.lines.Line2D at 0x12aba37b8>]"
      ]
     },
     "execution_count": 64,
     "metadata": {},
     "output_type": "execute_result"
    },
    {
     "data": {
      "image/png": "[encoded data removed]",
      "text/plain": [
       "<matplotlib.figure.Figure at 0x12ab122e8>"
      ]
     },
     "metadata": {},
     "output_type": "display_data"
    }
   ],
   "source": [
    "print(\"Subject name:  {}\".format(name))\n",
    "print(\"Sampling rate: {} Hz\".format(srate))\n",
    "print(\"Length of rec: {} sec\".format(data.size / srate))\n",
    "print(\"Data shape:    {}\".format(data.shape))\n",
    "print(\"A single second of recording: \")\n",
    "plt.plot(data[0][512:1024])"
   ]
  },
  {
   "cell_type": "code",
   "execution_count": 65,
   "metadata": {
    "collapsed": false
   },
   "outputs": [],
   "source": [
    "subj = {}\n",
    "for i in range(len(data)):\n",
    "    subj[i] = {}\n",
    "    \n",
    "    subj[i]['f'], subj[i]['psd'] = sp.signal.welch(data[i], srate, nperseg=srate*2, noverlap=srate, window='hamming')\n",
    "    \n",
    "    subj[i]['f']   = subj[i]['f'].reshape((len(subj[i]['f']), 1))\n",
    "    subj[i]['psd'] = subj[i]['psd'].reshape((len(subj[i]['psd']), 1))\n",
    "    \n",
    "    model_ransac = linear_model.RANSACRegressor(linear_model.LinearRegression())\n",
    "    model_ransac.fit(subj[i]['f'][:50*2], np.log10(subj[i]['psd'])[:50*2])\n",
    "    \n",
    "    fit_line = model_ransac.predict(f)\n",
    "    \n",
    "    subj[i]['slope'] = model_ransac.estimator_.coef_[0][0]\n",
    "    \n",
    "#     plt.figure()\n",
    "#     plt.xlim([1, 50])\n",
    "#     plt.title(model_ransac.estimator_.coef_[0][0])\n",
    "#     plt.plot(subj[i]['f'], np.log10(subj[i]['psd']))\n",
    "#     plt.plot(subj[i]['f'], fit_line)"
   ]
  },
  {
   "cell_type": "code",
   "execution_count": 73,
   "metadata": {
    "collapsed": false
   },
   "outputs": [
    {
     "data": {
      "text/plain": [
       "-0.042196167519444022"
      ]
     },
     "execution_count": 73,
     "metadata": {},
     "output_type": "execute_result"
    }
   ],
   "source": [
    "slopes = []\n",
    "for chan in subj:\n",
    "    slopes.append(subj[chan]['slope'])\n",
    "np.mean(slopes)"
   ]
  },
  {
   "cell_type": "code",
   "execution_count": null,
   "metadata": {
    "collapsed": true
   },
   "outputs": [],
   "source": []
  }
 ],
 "metadata": {
  "kernelspec": {
   "display_name": "Python 3",
   "language": "python",
   "name": "python3"
  },
  "language_info": {
   "codemirror_mode": {
    "name": "ipython",
    "version": 3
   },
   "file_extension": ".py",
   "mimetype": "text/x-python",
   "name": "python",
   "nbconvert_exporter": "python",
   "pygments_lexer": "ipython3",
   "version": "3.5.1"
  }
 },
 "nbformat": 4,
 "nbformat_minor": 0
}

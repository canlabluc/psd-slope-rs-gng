{
 "cells": [
  {
   "cell_type": "code",
   "execution_count": 38,
   "metadata": {
    "collapsed": true
   },
   "outputs": [],
   "source": [
    "%matplotlib inline\n",
    "import pandas as pd\n",
    "import numpy as np\n",
    "import matplotlib.pylab as plt\n",
    "from sklearn.cross_validation import train_test_split\n",
    "from sklearn.linear_model import LassoCV, LassoLarsCV, RandomizedLasso"
   ]
  },
  {
   "cell_type": "code",
   "execution_count": 24,
   "metadata": {
    "collapsed": true
   },
   "outputs": [],
   "source": [
    "# Nicely prints coefficients of linear models [0].\n",
    "# [0]: http://blog.datadive.net/selecting-good-features-part-ii-linear-models-and-regularization/\n",
    "def prettyprint(coefs, names=None, sort=False, n_coefs=20):\n",
    "    if names is None:\n",
    "        names = [\"X%s\" % x for x in range(len(coefs))]\n",
    "    lst = zip(coefs, names)\n",
    "    if sort:\n",
    "        lst = sorted(lst, key = lambda x:-np.abs(x[0]))\n",
    "    return \" + \\n\".join(\"%s * %s\" % (round(coef, 3), name) for coef, name in lst)"
   ]
  },
  {
   "cell_type": "code",
   "execution_count": 28,
   "metadata": {
    "collapsed": true
   },
   "outputs": [],
   "source": [
    "data = pd.read_csv('../data/pipeline-20s-eyesc/ya-oa-slope-matrix.csv', index_col=0)\n",
    "data = data[data['Class'].isin(['DANE'])]"
   ]
  },
  {
   "cell_type": "code",
   "execution_count": 29,
   "metadata": {
    "collapsed": false
   },
   "outputs": [],
   "source": [
    "data.columns = map(str.upper, data.columns)\n",
    "data['SEX'] = data['SEX'].map({1:1, 2:0})"
   ]
  },
  {
   "cell_type": "code",
   "execution_count": 30,
   "metadata": {
    "collapsed": false
   },
   "outputs": [
    {
     "data": {
      "text/html": [
       "<div>\n",
       "<table border=\"1\" class=\"dataframe\">\n",
       "  <thead>\n",
       "    <tr style=\"text-align: right;\">\n",
       "      <th></th>\n",
       "      <th>SUBJECT</th>\n",
       "      <th>CLASS</th>\n",
       "      <th>AGE</th>\n",
       "      <th>SEX</th>\n",
       "      <th>AVG_PSD_SLOPE</th>\n",
       "      <th>A1_FPZ</th>\n",
       "      <th>A2_FP1</th>\n",
       "      <th>A3_FP3</th>\n",
       "      <th>A4_AF1</th>\n",
       "      <th>A5_AFZ</th>\n",
       "      <th>...</th>\n",
       "      <th>B20 RM G</th>\n",
       "      <th>B21_CPZ</th>\n",
       "      <th>B22 CPZ</th>\n",
       "      <th>B23 CPZ</th>\n",
       "      <th>B24 CPZ</th>\n",
       "      <th>B26 CPZ</th>\n",
       "      <th>B27 CPZ</th>\n",
       "      <th>B28_PZ</th>\n",
       "      <th>B29 PZ</th>\n",
       "      <th>B30 PZ</th>\n",
       "    </tr>\n",
       "  </thead>\n",
       "  <tbody>\n",
       "    <tr>\n",
       "      <th>54</th>\n",
       "      <td>118113</td>\n",
       "      <td>DANE</td>\n",
       "      <td>34.0</td>\n",
       "      <td>1.0</td>\n",
       "      <td>-4.332764</td>\n",
       "      <td>-4.539363</td>\n",
       "      <td>-3.753968</td>\n",
       "      <td>-3.875059</td>\n",
       "      <td>-3.873274</td>\n",
       "      <td>-5.132950</td>\n",
       "      <td>...</td>\n",
       "      <td>-4.854609</td>\n",
       "      <td>-4.329577</td>\n",
       "      <td>-4.388035</td>\n",
       "      <td>-3.273514</td>\n",
       "      <td>-4.747564</td>\n",
       "      <td>-4.018532</td>\n",
       "      <td>-6.892418</td>\n",
       "      <td>-4.706539</td>\n",
       "      <td>-4.454610</td>\n",
       "      <td>-8.221649</td>\n",
       "    </tr>\n",
       "    <tr>\n",
       "      <th>56</th>\n",
       "      <td>118135</td>\n",
       "      <td>DANE</td>\n",
       "      <td>52.0</td>\n",
       "      <td>0.0</td>\n",
       "      <td>-4.794060</td>\n",
       "      <td>-7.053615</td>\n",
       "      <td>-3.988085</td>\n",
       "      <td>-3.563032</td>\n",
       "      <td>-4.203308</td>\n",
       "      <td>-4.880165</td>\n",
       "      <td>...</td>\n",
       "      <td>-4.397648</td>\n",
       "      <td>-5.664258</td>\n",
       "      <td>-5.829092</td>\n",
       "      <td>-5.804309</td>\n",
       "      <td>-5.220573</td>\n",
       "      <td>-4.798523</td>\n",
       "      <td>-5.133021</td>\n",
       "      <td>-5.579092</td>\n",
       "      <td>-4.660642</td>\n",
       "      <td>-4.653032</td>\n",
       "    </tr>\n",
       "    <tr>\n",
       "      <th>57</th>\n",
       "      <td>118167</td>\n",
       "      <td>DANE</td>\n",
       "      <td>44.0</td>\n",
       "      <td>1.0</td>\n",
       "      <td>-3.329300</td>\n",
       "      <td>-3.512170</td>\n",
       "      <td>-2.626096</td>\n",
       "      <td>-0.547056</td>\n",
       "      <td>-4.112965</td>\n",
       "      <td>-4.135109</td>\n",
       "      <td>...</td>\n",
       "      <td>-5.463794</td>\n",
       "      <td>-4.782593</td>\n",
       "      <td>-4.830888</td>\n",
       "      <td>-4.404508</td>\n",
       "      <td>-4.443655</td>\n",
       "      <td>-4.151329</td>\n",
       "      <td>-4.204976</td>\n",
       "      <td>-4.903486</td>\n",
       "      <td>-4.862335</td>\n",
       "      <td>-4.243553</td>\n",
       "    </tr>\n",
       "    <tr>\n",
       "      <th>58</th>\n",
       "      <td>118204</td>\n",
       "      <td>DANE</td>\n",
       "      <td>35.0</td>\n",
       "      <td>0.0</td>\n",
       "      <td>-4.061329</td>\n",
       "      <td>-3.690887</td>\n",
       "      <td>-3.908408</td>\n",
       "      <td>-5.219734</td>\n",
       "      <td>-3.965890</td>\n",
       "      <td>-3.871459</td>\n",
       "      <td>...</td>\n",
       "      <td>-4.553696</td>\n",
       "      <td>-0.929706</td>\n",
       "      <td>-2.768768</td>\n",
       "      <td>-4.539342</td>\n",
       "      <td>-5.247768</td>\n",
       "      <td>-4.980005</td>\n",
       "      <td>-6.283644</td>\n",
       "      <td>-6.333878</td>\n",
       "      <td>-4.495755</td>\n",
       "      <td>-4.789851</td>\n",
       "    </tr>\n",
       "    <tr>\n",
       "      <th>59</th>\n",
       "      <td>118208</td>\n",
       "      <td>DANE</td>\n",
       "      <td>39.0</td>\n",
       "      <td>0.0</td>\n",
       "      <td>-4.734237</td>\n",
       "      <td>-3.771362</td>\n",
       "      <td>-3.983302</td>\n",
       "      <td>-6.403026</td>\n",
       "      <td>-3.748759</td>\n",
       "      <td>-4.267765</td>\n",
       "      <td>...</td>\n",
       "      <td>-6.987951</td>\n",
       "      <td>-3.573803</td>\n",
       "      <td>-7.773392</td>\n",
       "      <td>-7.759866</td>\n",
       "      <td>-5.214477</td>\n",
       "      <td>-4.653239</td>\n",
       "      <td>-4.549780</td>\n",
       "      <td>-7.207104</td>\n",
       "      <td>-4.850684</td>\n",
       "      <td>-4.672064</td>\n",
       "    </tr>\n",
       "  </tbody>\n",
       "</table>\n",
       "<p>5 rows × 58 columns</p>\n",
       "</div>"
      ],
      "text/plain": [
       "    SUBJECT CLASS   AGE  SEX  AVG_PSD_SLOPE    A1_FPZ    A2_FP1    A3_FP3  \\\n",
       "54   118113  DANE  34.0  1.0      -4.332764 -4.539363 -3.753968 -3.875059   \n",
       "56   118135  DANE  52.0  0.0      -4.794060 -7.053615 -3.988085 -3.563032   \n",
       "57   118167  DANE  44.0  1.0      -3.329300 -3.512170 -2.626096 -0.547056   \n",
       "58   118204  DANE  35.0  0.0      -4.061329 -3.690887 -3.908408 -5.219734   \n",
       "59   118208  DANE  39.0  0.0      -4.734237 -3.771362 -3.983302 -6.403026   \n",
       "\n",
       "      A4_AF1    A5_AFZ    ...     B20 RM G   B21_CPZ   B22 CPZ   B23 CPZ  \\\n",
       "54 -3.873274 -5.132950    ...    -4.854609 -4.329577 -4.388035 -3.273514   \n",
       "56 -4.203308 -4.880165    ...    -4.397648 -5.664258 -5.829092 -5.804309   \n",
       "57 -4.112965 -4.135109    ...    -5.463794 -4.782593 -4.830888 -4.404508   \n",
       "58 -3.965890 -3.871459    ...    -4.553696 -0.929706 -2.768768 -4.539342   \n",
       "59 -3.748759 -4.267765    ...    -6.987951 -3.573803 -7.773392 -7.759866   \n",
       "\n",
       "     B24 CPZ   B26 CPZ   B27 CPZ    B28_PZ    B29 PZ    B30 PZ  \n",
       "54 -4.747564 -4.018532 -6.892418 -4.706539 -4.454610 -8.221649  \n",
       "56 -5.220573 -4.798523 -5.133021 -5.579092 -4.660642 -4.653032  \n",
       "57 -4.443655 -4.151329 -4.204976 -4.903486 -4.862335 -4.243553  \n",
       "58 -5.247768 -4.980005 -6.283644 -6.333878 -4.495755 -4.789851  \n",
       "59 -5.214477 -4.653239 -4.549780 -7.207104 -4.850684 -4.672064  \n",
       "\n",
       "[5 rows x 58 columns]"
      ]
     },
     "execution_count": 30,
     "metadata": {},
     "output_type": "execute_result"
    }
   ],
   "source": [
    "data.head()"
   ]
  },
  {
   "cell_type": "code",
   "execution_count": 31,
   "metadata": {
    "collapsed": false
   },
   "outputs": [],
   "source": [
    "target = data.AGE"
   ]
  },
  {
   "cell_type": "code",
   "execution_count": 32,
   "metadata": {
    "collapsed": true
   },
   "outputs": [],
   "source": [
    "cols = list(data.columns.values)\n",
    "cols.remove('SUBJECT')\n",
    "cols.remove('CLASS')\n",
    "cols.remove('AGE')\n",
    "cols.remove('SEX')\n",
    "predictors = data[cols]"
   ]
  },
  {
   "cell_type": "code",
   "execution_count": 33,
   "metadata": {
    "collapsed": true
   },
   "outputs": [],
   "source": [
    "pred_train, pred_test, target_train, target_test = train_test_split(predictors, target,\n",
    "                                                                    test_size=.3,\n",
    "                                                                    random_state=151)"
   ]
  },
  {
   "cell_type": "code",
   "execution_count": 39,
   "metadata": {
    "collapsed": false
   },
   "outputs": [
    {
     "ename": "AttributeError",
     "evalue": "'RandomizedLasso' object has no attribute 'coef_'",
     "output_type": "error",
     "traceback": [
      "\u001b[0;31m---------------------------------------------------------------------------\u001b[0m",
      "\u001b[0;31mAttributeError\u001b[0m                            Traceback (most recent call last)",
      "\u001b[0;32m<ipython-input-39-d31d417c462f>\u001b[0m in \u001b[0;36m<module>\u001b[0;34m()\u001b[0m\n\u001b[1;32m      2\u001b[0m \u001b[0mmodel\u001b[0m \u001b[0;34m=\u001b[0m \u001b[0mRandomizedLasso\u001b[0m\u001b[0;34m(\u001b[0m\u001b[0malpha\u001b[0m\u001b[0;34m=\u001b[0m\u001b[0malphas\u001b[0m\u001b[0;34m,\u001b[0m \u001b[0mrandom_state\u001b[0m\u001b[0;34m=\u001b[0m\u001b[0;36m42\u001b[0m\u001b[0;34m)\u001b[0m\u001b[0;34m.\u001b[0m\u001b[0mfit\u001b[0m\u001b[0;34m(\u001b[0m\u001b[0mpred_train\u001b[0m\u001b[0;34m,\u001b[0m \u001b[0mtarget_train\u001b[0m\u001b[0;34m)\u001b[0m\u001b[0;34m\u001b[0m\u001b[0m\n\u001b[1;32m      3\u001b[0m \u001b[0;31m# print(dict(zip(predictors.columns, model.coef_)))\u001b[0m\u001b[0;34m\u001b[0m\u001b[0;34m\u001b[0m\u001b[0m\n\u001b[0;32m----> 4\u001b[0;31m \u001b[0mprint\u001b[0m\u001b[0;34m(\u001b[0m\u001b[0mprettyprint\u001b[0m\u001b[0;34m(\u001b[0m\u001b[0mmodel\u001b[0m\u001b[0;34m.\u001b[0m\u001b[0mcoef_\u001b[0m\u001b[0;34m,\u001b[0m \u001b[0mpredictors\u001b[0m\u001b[0;34m.\u001b[0m\u001b[0mcolumns\u001b[0m\u001b[0;34m,\u001b[0m \u001b[0msort\u001b[0m\u001b[0;34m=\u001b[0m\u001b[0;32mTrue\u001b[0m\u001b[0;34m)\u001b[0m\u001b[0;34m)\u001b[0m\u001b[0;34m\u001b[0m\u001b[0m\n\u001b[0m",
      "\u001b[0;31mAttributeError\u001b[0m: 'RandomizedLasso' object has no attribute 'coef_'"
     ]
    }
   ],
   "source": [
    "alphas = np.linspace(0, 1, 100)\n",
    "model = RandomizedLasso(alpha=alphas, random_state=42).fit(pred_train, target_train)\n",
    "# print(dict(zip(predictors.columns, model.coef_)))\n",
    "# print(prettyprint(model.coef_, predictors.columns, sort=True))"
   ]
  },
  {
   "cell_type": "code",
   "execution_count": 41,
   "metadata": {
    "collapsed": false
   },
   "outputs": [
    {
     "data": {
      "text/plain": [
       "array([ 0.015,  0.41 ,  0.16 ,  0.58 ,  0.2  ,  0.605,  0.275,  0.235,\n",
       "        0.235,  0.325,  0.795,  0.64 ,  0.275,  0.295,  0.33 ,  0.25 ,\n",
       "        0.605,  0.36 ,  0.195,  0.165,  0.235,  0.29 ,  0.56 ,  0.285,\n",
       "        0.17 ,  0.405,  0.39 ,  0.295,  0.42 ,  0.675,  0.385,  0.175,\n",
       "        0.47 ,  0.515,  0.655,  0.295,  0.23 ,  0.305,  0.465,  0.185,\n",
       "        0.265,  0.285,  0.425,  0.505,  0.23 ,  0.44 ,  0.545,  0.345,\n",
       "        0.5  ,  0.56 ,  0.325,  0.36 ,  0.375,  0.56 ])"
      ]
     },
     "execution_count": 41,
     "metadata": {},
     "output_type": "execute_result"
    }
   ],
   "source": [
    "model.scores_"
   ]
  },
  {
   "cell_type": "code",
   "execution_count": 63,
   "metadata": {
    "collapsed": false
   },
   "outputs": [
    {
     "data": {
      "text/plain": [
       "array([ 0.015,  0.41 ,  0.16 ,  0.58 ,  0.2  ,  0.605,  0.275,  0.235,\n",
       "        0.235,  0.325,  0.795,  0.64 ,  0.275,  0.295,  0.33 ,  0.25 ,\n",
       "        0.605,  0.36 ,  0.195,  0.165,  0.235,  0.29 ,  0.56 ,  0.285,\n",
       "        0.17 ,  0.405,  0.39 ,  0.295,  0.42 ,  0.675,  0.385,  0.175,\n",
       "        0.47 ,  0.515,  0.655,  0.295,  0.23 ,  0.305,  0.465,  0.185,\n",
       "        0.265,  0.285,  0.425,  0.505,  0.23 ,  0.44 ,  0.545,  0.345,\n",
       "        0.5  ,  0.56 ,  0.325,  0.36 ,  0.375,  0.56 ])"
      ]
     },
     "execution_count": 63,
     "metadata": {},
     "output_type": "execute_result"
    }
   ],
   "source": [
    "model.scores_"
   ]
  },
  {
   "cell_type": "code",
   "execution_count": 47,
   "metadata": {
    "collapsed": false
   },
   "outputs": [
    {
     "data": {
      "text/plain": [
       "54"
      ]
     },
     "execution_count": 47,
     "metadata": {},
     "output_type": "execute_result"
    }
   ],
   "source": [
    "len(cols)"
   ]
  },
  {
   "cell_type": "code",
   "execution_count": 59,
   "metadata": {
    "collapsed": false
   },
   "outputs": [],
   "source": [
    "x = dict(list(zip(cols, model.scores_)))\n",
    "# for key, value in sorted(x.iteritems(), key=lambda (k,v): (v,k)):\n",
    "#     print \"%s: %s\" % (key, value)"
   ]
  },
  {
   "cell_type": "code",
   "execution_count": 61,
   "metadata": {
    "collapsed": false
   },
   "outputs": [
    {
     "data": {
      "text/plain": [
       "[0.014999999999999999,\n",
       " 0.16,\n",
       " 0.16500000000000001,\n",
       " 0.17000000000000001,\n",
       " 0.17499999999999999,\n",
       " 0.185,\n",
       " 0.19500000000000001,\n",
       " 0.20000000000000001,\n",
       " 0.23000000000000001,\n",
       " 0.23000000000000001,\n",
       " 0.23499999999999999,\n",
       " 0.23499999999999999,\n",
       " 0.23499999999999999,\n",
       " 0.25,\n",
       " 0.26500000000000001,\n",
       " 0.27500000000000002,\n",
       " 0.27500000000000002,\n",
       " 0.28499999999999998,\n",
       " 0.28499999999999998,\n",
       " 0.28999999999999998,\n",
       " 0.29499999999999998,\n",
       " 0.29499999999999998,\n",
       " 0.29499999999999998,\n",
       " 0.30499999999999999,\n",
       " 0.32500000000000001,\n",
       " 0.32500000000000001,\n",
       " 0.33000000000000002,\n",
       " 0.34499999999999997,\n",
       " 0.35999999999999999,\n",
       " 0.35999999999999999,\n",
       " 0.375,\n",
       " 0.38500000000000001,\n",
       " 0.39000000000000001,\n",
       " 0.40500000000000003,\n",
       " 0.40999999999999998,\n",
       " 0.41999999999999998,\n",
       " 0.42499999999999999,\n",
       " 0.44,\n",
       " 0.46500000000000002,\n",
       " 0.46999999999999997,\n",
       " 0.5,\n",
       " 0.505,\n",
       " 0.51500000000000001,\n",
       " 0.54500000000000004,\n",
       " 0.56000000000000005,\n",
       " 0.56000000000000005,\n",
       " 0.56000000000000005,\n",
       " 0.57999999999999996,\n",
       " 0.60499999999999998,\n",
       " 0.60499999999999998,\n",
       " 0.64000000000000001,\n",
       " 0.65500000000000003,\n",
       " 0.67500000000000004,\n",
       " 0.79500000000000004]"
      ]
     },
     "execution_count": 61,
     "metadata": {},
     "output_type": "execute_result"
    }
   ],
   "source": [
    "sorted(x.values())"
   ]
  },
  {
   "cell_type": "code",
   "execution_count": 64,
   "metadata": {
    "collapsed": false
   },
   "outputs": [
    {
     "data": {
      "text/plain": [
       "[('AVG_PSD_SLOPE', 0.014999999999999999),\n",
       " ('A2_FP1', 0.16),\n",
       " ('A22 LM', 0.16500000000000001),\n",
       " ('A27 LM', 0.17000000000000001),\n",
       " ('B4_FP4', 0.17499999999999999),\n",
       " ('B13 P6 G', 0.185),\n",
       " ('A21 LM', 0.19500000000000001),\n",
       " ('A4_AF1', 0.20000000000000001),\n",
       " ('B20 RM G', 0.23000000000000001),\n",
       " ('B10 P6 G', 0.23000000000000001),\n",
       " ('A8 F1', 0.23499999999999999),\n",
       " ('A23 LM', 0.23499999999999999),\n",
       " ('A7 F1', 0.23499999999999999),\n",
       " ('A16 CZ', 0.25),\n",
       " ('B14 P6 G', 0.26500000000000001),\n",
       " ('A6_F1', 0.27500000000000002),\n",
       " ('A13 FP5', 0.27500000000000002),\n",
       " ('B17 RM G', 0.28499999999999998),\n",
       " ('A26 LM', 0.28499999999999998),\n",
       " ('A24 LM', 0.28999999999999998),\n",
       " ('B9 FP6 G', 0.29499999999999998),\n",
       " ('A14_FCZ', 0.29499999999999998),\n",
       " ('A31 LM', 0.29499999999999998),\n",
       " ('B11 P6 G', 0.30499999999999999),\n",
       " ('A10_FP5', 0.32500000000000001),\n",
       " ('B27 CPZ', 0.32500000000000001),\n",
       " ('A15_CZ', 0.33000000000000002),\n",
       " ('B23 CPZ', 0.34499999999999997),\n",
       " ('A18 CZ', 0.35999999999999999),\n",
       " ('B28_PZ', 0.35999999999999999),\n",
       " ('B29 PZ', 0.375),\n",
       " ('B3_AF2', 0.38500000000000001),\n",
       " ('A30 LM', 0.39000000000000001),\n",
       " ('A29 LM', 0.40500000000000003),\n",
       " ('A1_FPZ', 0.40999999999999998),\n",
       " ('B1_FP2', 0.41999999999999998),\n",
       " ('B18 RM G', 0.42499999999999999),\n",
       " ('B21_CPZ', 0.44),\n",
       " ('B12 P6 G', 0.46500000000000002),\n",
       " ('B5 FP4', 0.46999999999999997),\n",
       " ('B24 CPZ', 0.5),\n",
       " ('B19 RM G', 0.505),\n",
       " ('B6 FP4', 0.51500000000000001),\n",
       " ('B22 CPZ', 0.54500000000000004),\n",
       " ('B26 CPZ', 0.56000000000000005),\n",
       " ('A25 LM', 0.56000000000000005),\n",
       " ('B30 PZ', 0.56000000000000005),\n",
       " ('A3_FP3', 0.57999999999999996),\n",
       " ('A17 CZ', 0.60499999999999998),\n",
       " ('A5_AFZ', 0.60499999999999998),\n",
       " ('A12 FP5', 0.64000000000000001),\n",
       " ('B8_FP6 G', 0.65500000000000003),\n",
       " ('B2 FP2', 0.67500000000000004),\n",
       " ('A11 FP5', 0.79500000000000004)]"
      ]
     },
     "execution_count": 64,
     "metadata": {},
     "output_type": "execute_result"
    }
   ],
   "source": [
    "sorted(x.items(), key=lambda x:x[1])"
   ]
  },
  {
   "cell_type": "code",
   "execution_count": 65,
   "metadata": {
    "collapsed": false
   },
   "outputs": [
    {
     "data": {
      "text/plain": [
       "<matplotlib.collections.PathCollection at 0x117024048>"
      ]
     },
     "execution_count": 65,
     "metadata": {},
     "output_type": "execute_result"
    },
    {
     "data": {
      "image/png": "[encoded data removed]",
      "text/plain": [
       "<matplotlib.figure.Figure at 0x1143267b8>"
      ]
     },
     "metadata": {},
     "output_type": "display_data"
    }
   ],
   "source": [
    "plt.scatter(data['AGE'], data['A11 FP5'])"
   ]
  },
  {
   "cell_type": "code",
   "execution_count": 66,
   "metadata": {
    "collapsed": false
   },
   "outputs": [
    {
     "data": {
      "text/plain": [
       "<matplotlib.collections.PathCollection at 0x1144c9160>"
      ]
     },
     "execution_count": 66,
     "metadata": {},
     "output_type": "execute_result"
    },
    {
     "data": {
      "image/png": "[encoded data removed]",
      "text/plain": [
       "<matplotlib.figure.Figure at 0x109d51c18>"
      ]
     },
     "metadata": {},
     "output_type": "display_data"
    }
   ],
   "source": [
    "plt.scatter(data['B2 FP2'], data['AGE'])"
   ]
  },
  {
   "cell_type": "code",
   "execution_count": 67,
   "metadata": {
    "collapsed": false
   },
   "outputs": [
    {
     "data": {
      "text/plain": [
       "<matplotlib.collections.PathCollection at 0x1170c3780>"
      ]
     },
     "execution_count": 67,
     "metadata": {},
     "output_type": "execute_result"
    },
    {
     "data": {
      "image/png": "[encoded data removed]",
      "text/plain": [
       "<matplotlib.figure.Figure at 0x1124ea940>"
      ]
     },
     "metadata": {},
     "output_type": "display_data"
    }
   ],
   "source": [
    "plt.scatter(data['B30 PZ'], data['A17 CZ'])"
   ]
  },
  {
   "cell_type": "code",
   "execution_count": null,
   "metadata": {
    "collapsed": true
   },
   "outputs": [],
   "source": []
  }
 ],
 "metadata": {
  "kernelspec": {
   "display_name": "Python 3",
   "language": "python",
   "name": "python3"
  },
  "language_info": {
   "codemirror_mode": {
    "name": "ipython",
    "version": 3
   },
   "file_extension": ".py",
   "mimetype": "text/x-python",
   "name": "python",
   "nbconvert_exporter": "python",
   "pygments_lexer": "ipython3",
   "version": "3.5.1"
  }
 },
 "nbformat": 4,
 "nbformat_minor": 0
}

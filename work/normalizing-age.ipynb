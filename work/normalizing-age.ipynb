{
 "cells": [
  {
   "cell_type": "markdown",
   "metadata": {},
   "source": [
    "# normalizing-age\n",
    "\n",
    "Let's apply a transformation to age, in order to make it look a little more normal."
   ]
  },
  {
   "cell_type": "code",
   "execution_count": 1,
   "metadata": {
    "collapsed": true
   },
   "outputs": [],
   "source": [
    "%matplotlib inline\n",
    "import os\n",
    "import glob\n",
    "import seaborn\n",
    "import numpy as np\n",
    "import scipy as sp\n",
    "import pandas as pd\n",
    "import scipy.io\n",
    "import numpy.fft\n",
    "import scipy.signal\n",
    "import matplotlib as mpl\n",
    "import matplotlib.pyplot as plt\n",
    "from scipy.stats import linregress\n",
    "from sklearn import linear_model\n",
    "mpl.rcParams['figure.figsize'] = (16, 10)"
   ]
  },
  {
   "cell_type": "code",
   "execution_count": 13,
   "metadata": {
    "collapsed": false
   },
   "outputs": [
    {
     "data": {
      "text/html": [
       "<div>\n",
       "<table border=\"1\" class=\"dataframe\">\n",
       "  <thead>\n",
       "    <tr style=\"text-align: right;\">\n",
       "      <th></th>\n",
       "      <th>SUBJECT</th>\n",
       "      <th>OA</th>\n",
       "      <th>CLASS</th>\n",
       "      <th>AGE</th>\n",
       "      <th>SEX</th>\n",
       "      <th>AVG_OA_PSD_EYESC</th>\n",
       "      <th>AVG_OA_PSD_EYESO</th>\n",
       "      <th>AVG_YA_PSD_EYESC</th>\n",
       "      <th>AVG_YA_PSD_EYESO</th>\n",
       "      <th>AVG_PSD_EYESC</th>\n",
       "      <th>...</th>\n",
       "      <th>FRONTAL_EYESC</th>\n",
       "      <th>FRONTAL_EYESO</th>\n",
       "      <th>LTEMPORAL_EYESC</th>\n",
       "      <th>LTEMPORAL_EYESO</th>\n",
       "      <th>CENTRAL_EYESC</th>\n",
       "      <th>CENTRAL_EYESO</th>\n",
       "      <th>RTEMPORAL_EYESC</th>\n",
       "      <th>RTEMPORAL_EYESO</th>\n",
       "      <th>OCCIPITAL_EYESC</th>\n",
       "      <th>OCCIPITAL_EYESO</th>\n",
       "    </tr>\n",
       "  </thead>\n",
       "  <tbody>\n",
       "    <tr>\n",
       "      <th>0</th>\n",
       "      <td>120127101</td>\n",
       "      <td>0</td>\n",
       "      <td>SA_Control</td>\n",
       "      <td>80.84873</td>\n",
       "      <td>2.0</td>\n",
       "      <td>-4.34227</td>\n",
       "      <td>-3.134892</td>\n",
       "      <td>-6.051054</td>\n",
       "      <td>-5.046973</td>\n",
       "      <td>-6.862338</td>\n",
       "      <td>...</td>\n",
       "      <td>-8.672824</td>\n",
       "      <td>-7.766009</td>\n",
       "      <td>-10.355797</td>\n",
       "      <td>-9.870920</td>\n",
       "      <td>-8.886973</td>\n",
       "      <td>-9.256354</td>\n",
       "      <td>-9.514349</td>\n",
       "      <td>-8.718649</td>\n",
       "      <td>-7.726646</td>\n",
       "      <td>-7.131687</td>\n",
       "    </tr>\n",
       "    <tr>\n",
       "      <th>1</th>\n",
       "      <td>120127102</td>\n",
       "      <td>0</td>\n",
       "      <td>MCI_Control</td>\n",
       "      <td>71.89870</td>\n",
       "      <td>1.0</td>\n",
       "      <td>-4.34227</td>\n",
       "      <td>-3.134892</td>\n",
       "      <td>-6.051054</td>\n",
       "      <td>-5.046973</td>\n",
       "      <td>-5.043768</td>\n",
       "      <td>...</td>\n",
       "      <td>-6.822904</td>\n",
       "      <td>-3.996478</td>\n",
       "      <td>-6.491346</td>\n",
       "      <td>-3.017757</td>\n",
       "      <td>-6.675483</td>\n",
       "      <td>-5.742492</td>\n",
       "      <td>-5.226341</td>\n",
       "      <td>-1.570847</td>\n",
       "      <td>-6.432560</td>\n",
       "      <td>-3.653080</td>\n",
       "    </tr>\n",
       "    <tr>\n",
       "      <th>2</th>\n",
       "      <td>120127103</td>\n",
       "      <td>0</td>\n",
       "      <td>MCI_Control</td>\n",
       "      <td>69.43463</td>\n",
       "      <td>2.0</td>\n",
       "      <td>-4.34227</td>\n",
       "      <td>-3.134892</td>\n",
       "      <td>-6.051054</td>\n",
       "      <td>-5.046973</td>\n",
       "      <td>-4.404398</td>\n",
       "      <td>...</td>\n",
       "      <td>-4.235969</td>\n",
       "      <td>-4.397806</td>\n",
       "      <td>-6.102922</td>\n",
       "      <td>-5.551192</td>\n",
       "      <td>-6.771141</td>\n",
       "      <td>-6.602679</td>\n",
       "      <td>-5.542418</td>\n",
       "      <td>-5.150955</td>\n",
       "      <td>-3.417101</td>\n",
       "      <td>-3.998930</td>\n",
       "    </tr>\n",
       "    <tr>\n",
       "      <th>3</th>\n",
       "      <td>120127104</td>\n",
       "      <td>0</td>\n",
       "      <td>SA_Control</td>\n",
       "      <td>83.61396</td>\n",
       "      <td>2.0</td>\n",
       "      <td>-4.34227</td>\n",
       "      <td>-3.134892</td>\n",
       "      <td>-6.051054</td>\n",
       "      <td>-5.046973</td>\n",
       "      <td>-4.147895</td>\n",
       "      <td>...</td>\n",
       "      <td>-6.391124</td>\n",
       "      <td>-4.478913</td>\n",
       "      <td>-6.255836</td>\n",
       "      <td>-5.451922</td>\n",
       "      <td>-5.435296</td>\n",
       "      <td>-4.705022</td>\n",
       "      <td>-5.914093</td>\n",
       "      <td>-4.571635</td>\n",
       "      <td>-6.477717</td>\n",
       "      <td>-5.189071</td>\n",
       "    </tr>\n",
       "    <tr>\n",
       "      <th>4</th>\n",
       "      <td>120127105</td>\n",
       "      <td>0</td>\n",
       "      <td>SA_Control</td>\n",
       "      <td>80.69541</td>\n",
       "      <td>2.0</td>\n",
       "      <td>-4.34227</td>\n",
       "      <td>-3.134892</td>\n",
       "      <td>-6.051054</td>\n",
       "      <td>-5.046973</td>\n",
       "      <td>-5.327249</td>\n",
       "      <td>...</td>\n",
       "      <td>-6.609690</td>\n",
       "      <td>-5.981445</td>\n",
       "      <td>-6.667336</td>\n",
       "      <td>-5.432904</td>\n",
       "      <td>-7.119155</td>\n",
       "      <td>-6.554409</td>\n",
       "      <td>-7.226378</td>\n",
       "      <td>-6.100613</td>\n",
       "      <td>-8.148066</td>\n",
       "      <td>-8.137746</td>\n",
       "    </tr>\n",
       "  </tbody>\n",
       "</table>\n",
       "<p>5 rows × 127 columns</p>\n",
       "</div>"
      ],
      "text/plain": [
       "     SUBJECT  OA        CLASS       AGE  SEX  AVG_OA_PSD_EYESC  \\\n",
       "0  120127101   0   SA_Control  80.84873  2.0          -4.34227   \n",
       "1  120127102   0  MCI_Control  71.89870  1.0          -4.34227   \n",
       "2  120127103   0  MCI_Control  69.43463  2.0          -4.34227   \n",
       "3  120127104   0   SA_Control  83.61396  2.0          -4.34227   \n",
       "4  120127105   0   SA_Control  80.69541  2.0          -4.34227   \n",
       "\n",
       "   AVG_OA_PSD_EYESO  AVG_YA_PSD_EYESC  AVG_YA_PSD_EYESO  AVG_PSD_EYESC  \\\n",
       "0         -3.134892         -6.051054         -5.046973      -6.862338   \n",
       "1         -3.134892         -6.051054         -5.046973      -5.043768   \n",
       "2         -3.134892         -6.051054         -5.046973      -4.404398   \n",
       "3         -3.134892         -6.051054         -5.046973      -4.147895   \n",
       "4         -3.134892         -6.051054         -5.046973      -5.327249   \n",
       "\n",
       "        ...         FRONTAL_EYESC  FRONTAL_EYESO  LTEMPORAL_EYESC  \\\n",
       "0       ...             -8.672824      -7.766009       -10.355797   \n",
       "1       ...             -6.822904      -3.996478        -6.491346   \n",
       "2       ...             -4.235969      -4.397806        -6.102922   \n",
       "3       ...             -6.391124      -4.478913        -6.255836   \n",
       "4       ...             -6.609690      -5.981445        -6.667336   \n",
       "\n",
       "   LTEMPORAL_EYESO  CENTRAL_EYESC  CENTRAL_EYESO  RTEMPORAL_EYESC  \\\n",
       "0        -9.870920      -8.886973      -9.256354        -9.514349   \n",
       "1        -3.017757      -6.675483      -5.742492        -5.226341   \n",
       "2        -5.551192      -6.771141      -6.602679        -5.542418   \n",
       "3        -5.451922      -5.435296      -4.705022        -5.914093   \n",
       "4        -5.432904      -7.119155      -6.554409        -7.226378   \n",
       "\n",
       "   RTEMPORAL_EYESO  OCCIPITAL_EYESC  OCCIPITAL_EYESO  \n",
       "0        -8.718649        -7.726646        -7.131687  \n",
       "1        -1.570847        -6.432560        -3.653080  \n",
       "2        -5.150955        -3.417101        -3.998930  \n",
       "3        -4.571635        -6.477717        -5.189071  \n",
       "4        -6.100613        -8.148066        -8.137746  \n",
       "\n",
       "[5 rows x 127 columns]"
      ]
     },
     "execution_count": 13,
     "metadata": {},
     "output_type": "execute_result"
    }
   ],
   "source": [
    "data = pd.read_csv('../data/pipeline-full/ya-oa-full-linreg-02-24.csv')\n",
    "data.head()"
   ]
  },
  {
   "cell_type": "code",
   "execution_count": 15,
   "metadata": {
    "collapsed": false
   },
   "outputs": [
    {
     "data": {
      "image/png": "[encoded data removed]",
      "text/plain": [
       "<matplotlib.figure.Figure at 0x1192730f0>"
      ]
     },
     "metadata": {},
     "output_type": "display_data"
    }
   ],
   "source": [
    "a, b, c = plt.hist(data.AGE, bins=25)"
   ]
  },
  {
   "cell_type": "code",
   "execution_count": 16,
   "metadata": {
    "collapsed": false
   },
   "outputs": [
    {
     "data": {
      "image/png": "[encoded data removed]",
      "text/plain": [
       "<matplotlib.figure.Figure at 0x11aa4e9e8>"
      ]
     },
     "metadata": {},
     "output_type": "display_data"
    }
   ],
   "source": [
    "a, b, c = plt.hist(np.log(data.AGE), bins=25)"
   ]
  },
  {
   "cell_type": "code",
   "execution_count": 19,
   "metadata": {
    "collapsed": false
   },
   "outputs": [
    {
     "name": "stdout",
     "output_type": "stream",
     "text": [
      "Features sorted by score, using 200 resamplings: \n",
      "(0.48999999999999999, 'FRONTAL_EYESO')\n",
      "(0.45000000000000001, 'B1_EYESO')\n",
      "(0.19, 'B3_EYESO')\n",
      "(0.14999999999999999, 'RTEMPORAL_EYESO')\n",
      "(0.085000000000000006, 'OCCIPITAL_EYESO')\n",
      "(0.065000000000000002, 'AVG_PSD_EYESO')\n",
      "(0.059999999999999998, 'A5_EYESO')\n",
      "(0.044999999999999998, 'A30_EYESO')\n",
      "(0.040000000000000001, 'B17_EYESO')\n",
      "(0.040000000000000001, 'A1_EYESO')\n",
      "(0.035000000000000003, 'A27_EYESO')\n",
      "(0.014999999999999999, 'CENTRAL_EYESO')\n",
      "(0.01, 'LTEMPORAL_EYESO')\n",
      "(0.01, 'B6_EYESO')\n",
      "(0.01, 'A2_EYESO')\n",
      "(0.0050000000000000001, 'B2_EYESO')\n",
      "(0.0050000000000000001, 'B17_EYESC')\n",
      "(0.0050000000000000001, 'A21_EYESO')\n",
      "(0.0050000000000000001, 'A15_EYESO')\n",
      "(0.0050000000000000001, 'A14_EYESO')\n",
      "(0.0, 'RTEMPORAL_EYESC')\n",
      "(0.0, 'OCCIPITAL_EYESC')\n",
      "(0.0, 'LTEMPORAL_EYESC')\n",
      "(0.0, 'FRONTAL_EYESC')\n",
      "(0.0, 'CENTRAL_EYESC')\n",
      "(0.0, 'B9_EYESO')\n",
      "(0.0, 'B9_EYESC')\n",
      "(0.0, 'B8_EYESO')\n",
      "(0.0, 'B8_EYESC')\n",
      "(0.0, 'B6_EYESC')\n",
      "(0.0, 'B5_EYESO')\n",
      "(0.0, 'B5_EYESC')\n",
      "(0.0, 'B4_EYESO')\n",
      "(0.0, 'B4_EYESC')\n",
      "(0.0, 'B3_EYESC')\n",
      "(0.0, 'B30_EYESO')\n",
      "(0.0, 'B30_EYESC')\n",
      "(0.0, 'B2_EYESC')\n",
      "(0.0, 'B29_EYESO')\n",
      "(0.0, 'B29_EYESC')\n",
      "(0.0, 'B28_EYESO')\n",
      "(0.0, 'B28_EYESC')\n",
      "(0.0, 'B27_EYESO')\n",
      "(0.0, 'B27_EYESC')\n",
      "(0.0, 'B26_EYESO')\n",
      "(0.0, 'B26_EYESC')\n",
      "(0.0, 'B24_EYESO')\n",
      "(0.0, 'B24_EYESC')\n",
      "(0.0, 'B23_EYESO')\n",
      "(0.0, 'B23_EYESC')\n",
      "(0.0, 'B22_EYESO')\n",
      "(0.0, 'B22_EYESC')\n",
      "(0.0, 'B21_EYESO')\n",
      "(0.0, 'B21_EYESC')\n",
      "(0.0, 'B20_EYESO')\n",
      "(0.0, 'B20_EYESC')\n",
      "(0.0, 'B1_EYESC')\n",
      "(0.0, 'B19_EYESO')\n",
      "(0.0, 'B19_EYESC')\n",
      "(0.0, 'B18_EYESO')\n",
      "(0.0, 'B18_EYESC')\n",
      "(0.0, 'B14_EYESO')\n",
      "(0.0, 'B14_EYESC')\n",
      "(0.0, 'B13_EYESO')\n",
      "(0.0, 'B13_EYESC')\n",
      "(0.0, 'B12_EYESO')\n",
      "(0.0, 'B12_EYESC')\n",
      "(0.0, 'B11_EYESO')\n",
      "(0.0, 'B11_EYESC')\n",
      "(0.0, 'B10_EYESO')\n",
      "(0.0, 'B10_EYESC')\n",
      "(0.0, 'AVG_YA_PSD_EYESO')\n",
      "(0.0, 'AVG_YA_PSD_EYESC')\n",
      "(0.0, 'AVG_PSD_EYESC')\n",
      "(0.0, 'AVG_OA_PSD_EYESO')\n",
      "(0.0, 'AVG_OA_PSD_EYESC')\n",
      "(0.0, 'A8_EYESO')\n",
      "(0.0, 'A8_EYESC')\n",
      "(0.0, 'A7_EYESO')\n",
      "(0.0, 'A7_EYESC')\n",
      "(0.0, 'A6_EYESO')\n",
      "(0.0, 'A6_EYESC')\n",
      "(0.0, 'A5_EYESC')\n",
      "(0.0, 'A4_EYESO')\n",
      "(0.0, 'A4_EYESC')\n",
      "(0.0, 'A3_EYESO')\n",
      "(0.0, 'A3_EYESC')\n",
      "(0.0, 'A31_EYESO')\n",
      "(0.0, 'A31_EYESC')\n",
      "(0.0, 'A30_EYESC')\n",
      "(0.0, 'A2_EYESC')\n",
      "(0.0, 'A29_EYESO')\n",
      "(0.0, 'A29_EYESC')\n",
      "(0.0, 'A27_EYESC')\n",
      "(0.0, 'A26_EYESO')\n",
      "(0.0, 'A26_EYESC')\n",
      "(0.0, 'A25_EYESO')\n",
      "(0.0, 'A25_EYESC')\n",
      "(0.0, 'A24_EYESO')\n",
      "(0.0, 'A24_EYESC')\n",
      "(0.0, 'A23_EYESO')\n",
      "(0.0, 'A23_EYESC')\n",
      "(0.0, 'A22_EYESO')\n",
      "(0.0, 'A22_EYESC')\n",
      "(0.0, 'A21_EYESC')\n",
      "(0.0, 'A1_EYESC')\n",
      "(0.0, 'A18_EYESO')\n",
      "(0.0, 'A18_EYESC')\n",
      "(0.0, 'A17_EYESO')\n",
      "(0.0, 'A17_EYESC')\n",
      "(0.0, 'A16_EYESO')\n",
      "(0.0, 'A16_EYESC')\n",
      "(0.0, 'A15_EYESC')\n",
      "(0.0, 'A14_EYESC')\n",
      "(0.0, 'A13_EYESO')\n",
      "(0.0, 'A13_EYESC')\n",
      "(0.0, 'A12_EYESO')\n",
      "(0.0, 'A12_EYESC')\n",
      "(0.0, 'A11_EYESO')\n",
      "(0.0, 'A11_EYESC')\n",
      "(0.0, 'A10_EYESO')\n",
      "(0.0, 'A10_EYESC')\n"
     ]
    }
   ],
   "source": [
    "cols = list(data.columns.values)\n",
    "cols.remove('SUBJECT')\n",
    "cols.remove('CLASS')\n",
    "cols.remove('AGE')\n",
    "cols.remove('SEX')\n",
    "cols.remove('OA')\n",
    "\n",
    "X = data[cols]\n",
    "y = data.OA\n",
    "\n",
    "rlogit = linear_model.RandomizedLogisticRegression()\n",
    "rlogit.fit(X, y)\n",
    "\n",
    "print(\"Features sorted by score, using {} resamplings: \".format(200))\n",
    "feature_list = sorted(zip(map(lambda x: round(x, 4), rlogit.scores_), cols), reverse=True)\n",
    "for f in feature_list:\n",
    "    print(f)"
   ]
  },
  {
   "cell_type": "code",
   "execution_count": 21,
   "metadata": {
    "collapsed": false
   },
   "outputs": [
    {
     "data": {
      "text/plain": [
       "<matplotlib.collections.PathCollection at 0x11a9e99e8>"
      ]
     },
     "execution_count": 21,
     "metadata": {},
     "output_type": "execute_result"
    },
    {
     "data": {
      "image/png": "[encoded data removed]",
      "text/plain": [
       "<matplotlib.figure.Figure at 0x11ac37ba8>"
      ]
     },
     "metadata": {},
     "output_type": "display_data"
    }
   ],
   "source": [
    "plt.scatter(data.AGE, data.FRONTAL_EYESO)"
   ]
  },
  {
   "cell_type": "code",
   "execution_count": 22,
   "metadata": {
    "collapsed": false
   },
   "outputs": [
    {
     "data": {
      "text/plain": [
       "<matplotlib.collections.PathCollection at 0x1196f6198>"
      ]
     },
     "execution_count": 22,
     "metadata": {},
     "output_type": "execute_result"
    },
    {
     "data": {
      "image/png": "[encoded data removed]",
      "text/plain": [
       "<matplotlib.figure.Figure at 0x117fe2748>"
      ]
     },
     "metadata": {},
     "output_type": "display_data"
    }
   ],
   "source": [
    "plt.scatter(data.AGE, data.B1_EYESO)"
   ]
  },
  {
   "cell_type": "code",
   "execution_count": null,
   "metadata": {
    "collapsed": true
   },
   "outputs": [],
   "source": []
  }
 ],
 "metadata": {
  "kernelspec": {
   "display_name": "Python 3",
   "language": "python",
   "name": "python3"
  },
  "language_info": {
   "codemirror_mode": {
    "name": "ipython",
    "version": 3
   },
   "file_extension": ".py",
   "mimetype": "text/x-python",
   "name": "python",
   "nbconvert_exporter": "python",
   "pygments_lexer": "ipython3",
   "version": "3.5.1"
  }
 },
 "nbformat": 4,
 "nbformat_minor": 0
}

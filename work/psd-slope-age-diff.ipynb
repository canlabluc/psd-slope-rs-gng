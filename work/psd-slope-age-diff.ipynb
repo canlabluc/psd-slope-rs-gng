{
 "cells": [
  {
   "cell_type": "markdown",
   "metadata": {},
   "source": [
    "# correlation of psd slope with age"
   ]
  },
  {
   "cell_type": "code",
   "execution_count": 1,
   "metadata": {
    "collapsed": true
   },
   "outputs": [],
   "source": [
    "%matplotlib inline\n",
    "import os\n",
    "import glob\n",
    "import csv as csv\n",
    "import numpy as np\n",
    "import scipy as sp\n",
    "import pandas as pd\n",
    "import seaborn as sb\n",
    "import matplotlib.pyplot as plt\n",
    "from scipy import signal\n",
    "from scipy import io\n",
    "from sklearn import metrics, cross_validation, linear_model\n",
    "from sklearn.grid_search import GridSearchCV"
   ]
  },
  {
   "cell_type": "markdown",
   "metadata": {},
   "source": [
    "#### Data Importing"
   ]
  },
  {
   "cell_type": "code",
   "execution_count": 2,
   "metadata": {
    "collapsed": false
   },
   "outputs": [],
   "source": [
    "subj = {} # Dictionary that holds all subjects\n",
    "matfiles = []\n",
    "for root, dirs, files in os.walk('../data/extClfiltCAR-mat/'):\n",
    "    matfiles += glob.glob(os.path.join(root, '*.mat'))\n",
    "\n",
    "    \n",
    "matfiles.remove('../data/extClfiltCAR-mat/120127133.mat')\n",
    "matfiles.remove('../data/extClfiltCAR-mat/120127134.mat')\n",
    "matfiles.remove('../data/extClfiltCAR-mat/120127140.mat')\n",
    "matfiles.remove('../data/extClfiltCAR-mat/120127154.mat')\n",
    "matfiles.remove('../data/extClfiltCAR-mat/120127160.mat')\n",
    "matfiles.remove('../data/extClfiltCAR-mat/120127167.mat')\n",
    "matfiles.remove('../data/extClfiltCAR-mat/120127132.mat')\n",
    "matfiles.remove('../data/extClfiltCAR-mat/120127159.mat')\n",
    "    \n",
    "for i in range(len(matfiles)):\n",
    "    datafile = sp.io.loadmat(matfiles[i])\n",
    "    \n",
    "    subj[i] = {}\n",
    "    subj[i]['name']  = str(np.squeeze(datafile['name']))[6:]\n",
    "    subj[i]['srate'] = int(np.squeeze(datafile['srate']))\n",
    "    subj[i]['data']  = np.squeeze(datafile['data'])    "
   ]
  },
  {
   "cell_type": "markdown",
   "metadata": {},
   "source": [
    "#### PSD Slope Results"
   ]
  },
  {
   "cell_type": "code",
   "execution_count": 3,
   "metadata": {
    "collapsed": true
   },
   "outputs": [],
   "source": [
    "def compute_slope(f, psd):\n",
    "    model_ransac = linear_model.RANSACRegressor(linear_model.LinearRegression())\n",
    "    model_ransac.fit(f[:50*2], np.log10(psd[:50*2]))\n",
    "    return model_ransac.estimator_.coef_[0][0]"
   ]
  },
  {
   "cell_type": "code",
   "execution_count": 4,
   "metadata": {
    "collapsed": false
   },
   "outputs": [],
   "source": [
    "srate = 512\n",
    "for i in subj:\n",
    "    for ch in range(len(subj[i]['data'])):\n",
    "        # For all subjects, compute the slope of each channel\n",
    "        subj[i][ch] = {}\n",
    "        \n",
    "        f, psd = sp.signal.welch(subj[i]['data'][ch], srate, nperseg=srate*2, noverlap=srate, window='hamming')\n",
    "        f   = f.reshape((len(f), 1))\n",
    "        psd = psd.reshape((len(psd), 1))\n",
    "        \n",
    "        subj[i][ch]['f'] = f\n",
    "        subj[i][ch]['psd'] = psd\n",
    "        subj[i][ch]['slope'] = compute_slope(f, psd) * (10**2)\n",
    "        \n",
    "    # Now compute each subject's mean slope    \n",
    "    slopes = []\n",
    "    for ch in range(len(subj[i]['data'])):\n",
    "        slopes.append(subj[i][ch]['slope'])\n",
    "    subj[i]['slope'] = np.mean(slopes)"
   ]
  },
  {
   "cell_type": "markdown",
   "metadata": {
    "collapsed": true
   },
   "source": [
    "#### Behavioral Data"
   ]
  },
  {
   "cell_type": "code",
   "execution_count": 5,
   "metadata": {
    "collapsed": false
   },
   "outputs": [
    {
     "name": "stdout",
     "output_type": "stream",
     "text": [
      "(54, 101)\n"
     ]
    },
    {
     "data": {
      "text/html": [
       "<div>\n",
       "<table border=\"1\" class=\"dataframe\">\n",
       "  <thead>\n",
       "    <tr style=\"text-align: right;\">\n",
       "      <th></th>\n",
       "      <th>Subject</th>\n",
       "      <th>Class</th>\n",
       "      <th>RAVLT_DEL</th>\n",
       "      <th>Age</th>\n",
       "      <th>Education</th>\n",
       "      <th>Sex_numberic</th>\n",
       "      <th>Animals</th>\n",
       "      <th>BNT_30</th>\n",
       "      <th>LM_1</th>\n",
       "      <th>LM_2</th>\n",
       "      <th>...</th>\n",
       "      <th>C3_BetaPower_fixed</th>\n",
       "      <th>C3_GammaPower_fixed</th>\n",
       "      <th>O1_DeltaPower_fixed</th>\n",
       "      <th>O1_ThetaPower_fixed</th>\n",
       "      <th>O1_AlphaPower_fixed</th>\n",
       "      <th>O1_Alpha1Power_fixed</th>\n",
       "      <th>O1_Alpha2Power_fixed</th>\n",
       "      <th>O1_Alpha3Power_fixed</th>\n",
       "      <th>O1_BetaPower_fixed</th>\n",
       "      <th>O1_GammaPower_fixed</th>\n",
       "    </tr>\n",
       "  </thead>\n",
       "  <tbody>\n",
       "    <tr>\n",
       "      <th>0</th>\n",
       "      <td>101</td>\n",
       "      <td>2</td>\n",
       "      <td>3</td>\n",
       "      <td>80.84873</td>\n",
       "      <td>15</td>\n",
       "      <td>2</td>\n",
       "      <td>18</td>\n",
       "      <td>27</td>\n",
       "      <td>10</td>\n",
       "      <td>9</td>\n",
       "      <td>...</td>\n",
       "      <td>0.36673</td>\n",
       "      <td>0.020071</td>\n",
       "      <td>4.1044</td>\n",
       "      <td>4.88080</td>\n",
       "      <td>3.66930</td>\n",
       "      <td>3.66930</td>\n",
       "      <td>2.11570</td>\n",
       "      <td>0.97352</td>\n",
       "      <td>0.47525</td>\n",
       "      <td>0.106810</td>\n",
       "    </tr>\n",
       "    <tr>\n",
       "      <th>1</th>\n",
       "      <td>102</td>\n",
       "      <td>1</td>\n",
       "      <td>8</td>\n",
       "      <td>71.89870</td>\n",
       "      <td>16</td>\n",
       "      <td>1</td>\n",
       "      <td>22</td>\n",
       "      <td>30</td>\n",
       "      <td>15</td>\n",
       "      <td>14</td>\n",
       "      <td>...</td>\n",
       "      <td>0.36673</td>\n",
       "      <td>0.020071</td>\n",
       "      <td>4.1044</td>\n",
       "      <td>4.88080</td>\n",
       "      <td>3.66930</td>\n",
       "      <td>3.66930</td>\n",
       "      <td>2.11570</td>\n",
       "      <td>0.97352</td>\n",
       "      <td>0.47525</td>\n",
       "      <td>0.106810</td>\n",
       "    </tr>\n",
       "    <tr>\n",
       "      <th>2</th>\n",
       "      <td>103</td>\n",
       "      <td>1</td>\n",
       "      <td>11</td>\n",
       "      <td>69.43463</td>\n",
       "      <td>14</td>\n",
       "      <td>2</td>\n",
       "      <td>29</td>\n",
       "      <td>29</td>\n",
       "      <td>7</td>\n",
       "      <td>5</td>\n",
       "      <td>...</td>\n",
       "      <td>0.11818</td>\n",
       "      <td>0.029272</td>\n",
       "      <td>1.1242</td>\n",
       "      <td>0.53832</td>\n",
       "      <td>0.77607</td>\n",
       "      <td>0.77607</td>\n",
       "      <td>1.09520</td>\n",
       "      <td>0.62154</td>\n",
       "      <td>0.43603</td>\n",
       "      <td>0.371570</td>\n",
       "    </tr>\n",
       "    <tr>\n",
       "      <th>3</th>\n",
       "      <td>104</td>\n",
       "      <td>2</td>\n",
       "      <td>8</td>\n",
       "      <td>83.61396</td>\n",
       "      <td>14</td>\n",
       "      <td>2</td>\n",
       "      <td>22</td>\n",
       "      <td>27</td>\n",
       "      <td>16</td>\n",
       "      <td>15</td>\n",
       "      <td>...</td>\n",
       "      <td>0.58826</td>\n",
       "      <td>0.052404</td>\n",
       "      <td>3.5768</td>\n",
       "      <td>6.75820</td>\n",
       "      <td>23.66680</td>\n",
       "      <td>23.66680</td>\n",
       "      <td>36.56120</td>\n",
       "      <td>6.37160</td>\n",
       "      <td>1.39780</td>\n",
       "      <td>0.091309</td>\n",
       "    </tr>\n",
       "    <tr>\n",
       "      <th>4</th>\n",
       "      <td>105</td>\n",
       "      <td>2</td>\n",
       "      <td>7</td>\n",
       "      <td>80.69541</td>\n",
       "      <td>18</td>\n",
       "      <td>2</td>\n",
       "      <td>17</td>\n",
       "      <td>28</td>\n",
       "      <td>20</td>\n",
       "      <td>15</td>\n",
       "      <td>...</td>\n",
       "      <td>0.21081</td>\n",
       "      <td>0.069191</td>\n",
       "      <td>4.7605</td>\n",
       "      <td>1.30960</td>\n",
       "      <td>0.53454</td>\n",
       "      <td>0.53454</td>\n",
       "      <td>0.60461</td>\n",
       "      <td>0.45338</td>\n",
       "      <td>0.20894</td>\n",
       "      <td>0.047831</td>\n",
       "    </tr>\n",
       "  </tbody>\n",
       "</table>\n",
       "<p>5 rows × 101 columns</p>\n",
       "</div>"
      ],
      "text/plain": [
       "   Subject  Class  RAVLT_DEL       Age  Education  Sex_numberic  Animals  \\\n",
       "0      101      2          3  80.84873         15             2       18   \n",
       "1      102      1          8  71.89870         16             1       22   \n",
       "2      103      1         11  69.43463         14             2       29   \n",
       "3      104      2          8  83.61396         14             2       22   \n",
       "4      105      2          7  80.69541         18             2       17   \n",
       "\n",
       "   BNT_30  LM_1  LM_2         ...           C3_BetaPower_fixed  \\\n",
       "0      27    10     9         ...                      0.36673   \n",
       "1      30    15    14         ...                      0.36673   \n",
       "2      29     7     5         ...                      0.11818   \n",
       "3      27    16    15         ...                      0.58826   \n",
       "4      28    20    15         ...                      0.21081   \n",
       "\n",
       "   C3_GammaPower_fixed  O1_DeltaPower_fixed  O1_ThetaPower_fixed  \\\n",
       "0             0.020071               4.1044              4.88080   \n",
       "1             0.020071               4.1044              4.88080   \n",
       "2             0.029272               1.1242              0.53832   \n",
       "3             0.052404               3.5768              6.75820   \n",
       "4             0.069191               4.7605              1.30960   \n",
       "\n",
       "   O1_AlphaPower_fixed  O1_Alpha1Power_fixed  O1_Alpha2Power_fixed  \\\n",
       "0              3.66930               3.66930               2.11570   \n",
       "1              3.66930               3.66930               2.11570   \n",
       "2              0.77607               0.77607               1.09520   \n",
       "3             23.66680              23.66680              36.56120   \n",
       "4              0.53454               0.53454               0.60461   \n",
       "\n",
       "   O1_Alpha3Power_fixed  O1_BetaPower_fixed  O1_GammaPower_fixed  \n",
       "0               0.97352             0.47525             0.106810  \n",
       "1               0.97352             0.47525             0.106810  \n",
       "2               0.62154             0.43603             0.371570  \n",
       "3               6.37160             1.39780             0.091309  \n",
       "4               0.45338             0.20894             0.047831  \n",
       "\n",
       "[5 rows x 101 columns]"
      ]
     },
     "execution_count": 5,
     "metadata": {},
     "output_type": "execute_result"
    }
   ],
   "source": [
    "df = pd.read_csv('../data/madb_intclasses_use.csv', header=0)\n",
    "print(df.shape)\n",
    "df.head()"
   ]
  },
  {
   "cell_type": "code",
   "execution_count": 6,
   "metadata": {
    "collapsed": false
   },
   "outputs": [],
   "source": [
    "slopes = []\n",
    "for i in subj:\n",
    "    slopes.append(subj[i]['slope'])   "
   ]
  },
  {
   "cell_type": "code",
   "execution_count": 7,
   "metadata": {
    "collapsed": false
   },
   "outputs": [],
   "source": [
    "df['PSD_Slope'] = slopes"
   ]
  },
  {
   "cell_type": "code",
   "execution_count": 8,
   "metadata": {
    "collapsed": false
   },
   "outputs": [
    {
     "data": {
      "text/plain": [
       "<matplotlib.collections.PathCollection at 0x1144f9358>"
      ]
     },
     "execution_count": 8,
     "metadata": {},
     "output_type": "execute_result"
    },
    {
     "data": {
      "image/png": "[encoded data removed]",
      "text/plain": [
       "<matplotlib.figure.Figure at 0x11ed91898>"
      ]
     },
     "metadata": {},
     "output_type": "display_data"
    }
   ],
   "source": [
    "plt.scatter(df['Age'], df['PSD_Slope'])"
   ]
  },
  {
   "cell_type": "code",
   "execution_count": 9,
   "metadata": {
    "collapsed": false
   },
   "outputs": [
    {
     "name": "stdout",
     "output_type": "stream",
     "text": [
      "146.0, age: 64.82, slope: -5.0301095693843445\n",
      "156.0, age: 87.86, slope: -3.96232587421594\n"
     ]
    }
   ],
   "source": [
    "print(\"{}, age: {:.2f}, slope: {}\".format(df.loc[35, 'Subject'], df.loc[35, 'Age'], df.loc[35, 'PSD_Slope']))\n",
    "print(\"{}, age: {:.2f}, slope: {}\".format(df.loc[42, 'Subject'], df.loc[42, 'Age'], df.loc[42, 'PSD_Slope']))"
   ]
  },
  {
   "cell_type": "code",
   "execution_count": 10,
   "metadata": {
    "collapsed": false
   },
   "outputs": [
    {
     "data": {
      "text/plain": [
       "<matplotlib.collections.PathCollection at 0x1204ba198>"
      ]
     },
     "execution_count": 10,
     "metadata": {},
     "output_type": "execute_result"
    },
    {
     "data": {
      "image/png": "[encoded data removed]",
      "text/plain": [
       "<matplotlib.figure.Figure at 0x11eec4668>"
      ]
     },
     "metadata": {},
     "output_type": "display_data"
    }
   ],
   "source": [
    "plt.scatter(df['RAVLT_DEL'], df['PSD_Slope'])"
   ]
  },
  {
   "cell_type": "markdown",
   "metadata": {},
   "source": [
    "From the Voytek paper: \n",
    "> This effect is most prominent in visual extrastriate, parietal, and midline frontal cortex.\n",
    "\n",
    "Let's examine midline frontal -- A1_Fpz electrode."
   ]
  },
  {
   "cell_type": "code",
   "execution_count": 11,
   "metadata": {
    "collapsed": false
   },
   "outputs": [],
   "source": [
    "subj = {} # Dictionary that holds all subjects\n",
    "matfiles = []\n",
    "for root, dirs, files in os.walk('../data/extClfiltCAR-mat/'):\n",
    "    matfiles += glob.glob(os.path.join(root, '*.mat'))\n",
    "\n",
    "matfiles.remove('../data/extClfiltCAR-mat/120127133.mat')\n",
    "matfiles.remove('../data/extClfiltCAR-mat/120127134.mat')\n",
    "matfiles.remove('../data/extClfiltCAR-mat/120127140.mat')\n",
    "matfiles.remove('../data/extClfiltCAR-mat/120127154.mat')\n",
    "matfiles.remove('../data/extClfiltCAR-mat/120127160.mat')\n",
    "matfiles.remove('../data/extClfiltCAR-mat/120127167.mat')\n",
    "matfiles.remove('../data/extClfiltCAR-mat/120127132.mat')\n",
    "matfiles.remove('../data/extClfiltCAR-mat/120127159.mat')\n",
    "    \n",
    "for i in range(len(matfiles)):\n",
    "    datafile = sp.io.loadmat(matfiles[i])\n",
    "    \n",
    "    subj[i] = {}\n",
    "    subj[i]['name']  = str(np.squeeze(datafile['name']))\n",
    "    subj[i]['srate'] = int(np.squeeze(datafile['srate']))\n",
    "    subj[i]['data']  = np.squeeze(datafile['data'])   "
   ]
  },
  {
   "cell_type": "code",
   "execution_count": 12,
   "metadata": {
    "collapsed": true
   },
   "outputs": [],
   "source": [
    "def compute_slope(f, psd):\n",
    "    model_ransac = linear_model.RANSACRegressor(linear_model.LinearRegression())\n",
    "    model_ransac.fit(f[:50*2], np.log10(psd[:50*2]))\n",
    "    return model_ransac.estimator_.coef_[0][0]"
   ]
  },
  {
   "cell_type": "code",
   "execution_count": 13,
   "metadata": {
    "collapsed": true
   },
   "outputs": [],
   "source": [
    "srate = 512\n",
    "for i in subj:\n",
    "    for ch in range(len(subj[i]['data'])):\n",
    "        # For all subjects, compute the slope of each channel\n",
    "        subj[i][ch] = {}\n",
    "        \n",
    "        f, psd = sp.signal.welch(subj[i]['data'][ch], srate, nperseg=srate*2, noverlap=srate, window='hamming')\n",
    "        f   = f.reshape((len(f), 1))\n",
    "        psd = psd.reshape((len(psd), 1))\n",
    "        \n",
    "        subj[i][ch]['f'] = f\n",
    "        subj[i][ch]['psd'] = psd\n",
    "        subj[i][ch]['slope'] = compute_slope(f, psd) * (10**2)\n",
    "        \n",
    "    # Now compute each subject's mean slope    \n",
    "    slopes = []\n",
    "    for ch in range(len(subj[i]['data'])):\n",
    "        slopes.append(subj[i][ch]['slope'])\n",
    "    subj[i]['slope'] = np.mean(slopes)"
   ]
  },
  {
   "cell_type": "code",
   "execution_count": 14,
   "metadata": {
    "collapsed": true
   },
   "outputs": [],
   "source": [
    "a1_fpz = []\n",
    "for i in subj:\n",
    "    a1_fpz.append(subj[i][0]['slope'])"
   ]
  },
  {
   "cell_type": "code",
   "execution_count": 15,
   "metadata": {
    "collapsed": false
   },
   "outputs": [],
   "source": [
    "df['a1_fpz'] = a1_fpz"
   ]
  },
  {
   "cell_type": "code",
   "execution_count": 16,
   "metadata": {
    "collapsed": false,
    "scrolled": false
   },
   "outputs": [
    {
     "ename": "NameError",
     "evalue": "name 'reger' is not defined",
     "output_type": "error",
     "traceback": [
      "\u001b[0;31m---------------------------------------------------------------------------\u001b[0m",
      "\u001b[0;31mNameError\u001b[0m                                 Traceback (most recent call last)",
      "\u001b[0;32m<ipython-input-16-0543ca55119c>\u001b[0m in \u001b[0;36m<module>\u001b[0;34m()\u001b[0m\n\u001b[1;32m      1\u001b[0m \u001b[0mregr\u001b[0m \u001b[0;34m=\u001b[0m \u001b[0mlinear_model\u001b[0m\u001b[0;34m.\u001b[0m\u001b[0mLinearRegression\u001b[0m\u001b[0;34m(\u001b[0m\u001b[0;34m)\u001b[0m\u001b[0;34m\u001b[0m\u001b[0m\n\u001b[0;32m----> 2\u001b[0;31m \u001b[0mreger\u001b[0m\u001b[0;34m.\u001b[0m\u001b[0mfit\u001b[0m\u001b[0;34m(\u001b[0m\u001b[0;34m)\u001b[0m\u001b[0;34m\u001b[0m\u001b[0m\n\u001b[0m\u001b[1;32m      3\u001b[0m \u001b[0mplt\u001b[0m\u001b[0;34m.\u001b[0m\u001b[0mfigure\u001b[0m\u001b[0;34m(\u001b[0m\u001b[0mfigsize\u001b[0m\u001b[0;34m=\u001b[0m\u001b[0;34m(\u001b[0m\u001b[0;36m16\u001b[0m\u001b[0;34m,\u001b[0m\u001b[0;36m10\u001b[0m\u001b[0;34m)\u001b[0m\u001b[0;34m)\u001b[0m\u001b[0;34m\u001b[0m\u001b[0m\n\u001b[1;32m      4\u001b[0m \u001b[0mplt\u001b[0m\u001b[0;34m.\u001b[0m\u001b[0mscatter\u001b[0m\u001b[0;34m(\u001b[0m\u001b[0mdf\u001b[0m\u001b[0;34m[\u001b[0m\u001b[0;34m'PSD_Slope'\u001b[0m\u001b[0;34m]\u001b[0m\u001b[0;34m,\u001b[0m \u001b[0mdf\u001b[0m\u001b[0;34m[\u001b[0m\u001b[0;34m'RAVLT_DEL'\u001b[0m\u001b[0;34m]\u001b[0m\u001b[0;34m)\u001b[0m\u001b[0;34m\u001b[0m\u001b[0m\n",
      "\u001b[0;31mNameError\u001b[0m: name 'reger' is not defined"
     ]
    }
   ],
   "source": [
    "regr = linear_model.LinearRegression()\n",
    "reger.fit()\n",
    "plt.figure(figsize=(16,10))\n",
    "plt.scatter(df['PSD_Slope'], df['RAVLT_DEL'])"
   ]
  },
  {
   "cell_type": "code",
   "execution_count": null,
   "metadata": {
    "collapsed": false
   },
   "outputs": [],
   "source": [
    "plt.figure(figsize=(16,10))\n",
    "plt.scatter(df['a1_fpz'], df['RAVLT_DEL'])"
   ]
  },
  {
   "cell_type": "code",
   "execution_count": null,
   "metadata": {
    "collapsed": false
   },
   "outputs": [],
   "source": [
    "superagers = df[df['Class'].isin([3])]"
   ]
  },
  {
   "cell_type": "code",
   "execution_count": null,
   "metadata": {
    "collapsed": false
   },
   "outputs": [],
   "source": [
    "mci_cohort = df[df['Class'].isin([0, 1])]"
   ]
  },
  {
   "cell_type": "code",
   "execution_count": null,
   "metadata": {
    "collapsed": false
   },
   "outputs": [],
   "source": [
    "mci_cohort.head()"
   ]
  },
  {
   "cell_type": "code",
   "execution_count": null,
   "metadata": {
    "collapsed": false
   },
   "outputs": [],
   "source": [
    "plt.scatter(mci_cohort['PSD_Slope'], mci_cohort['RAVLT_DEL'])"
   ]
  },
  {
   "cell_type": "code",
   "execution_count": null,
   "metadata": {
    "collapsed": false
   },
   "outputs": [],
   "source": [
    "np.corrcoef(df['RAVLT_DEL'], df['a1_fpz'])"
   ]
  },
  {
   "cell_type": "code",
   "execution_count": null,
   "metadata": {
    "collapsed": false
   },
   "outputs": [],
   "source": [
    "np.corrcoef(np.reshape(len(df['RAVLT_DEL']), 1), df['PSD_Slope'])"
   ]
  },
  {
   "cell_type": "code",
   "execution_count": null,
   "metadata": {
    "collapsed": false
   },
   "outputs": [],
   "source": [
    "regr = linear_model.LinearRegression()\n",
    "train = np.reshape(df['a1_fpz'], (len(df['a1_fpz']), 1))\n",
    "test  = np.reshape(df['RAVLT_DEL'], (len(df['RAVLT_DEL']), 1))\n",
    "regr.fit( train, test )\n",
    "print(\"Coefficients: \\n\", regr.coef_)"
   ]
  },
  {
   "cell_type": "code",
   "execution_count": null,
   "metadata": {
    "collapsed": false
   },
   "outputs": [],
   "source": [
    "# The mean square error\n",
    "print(\"Residual sum of squares: %.2f\"\n",
    "      % np.mean((regr.predict(train) - test) ** 2))\n",
    "# Explained variance score: 1 is perfect prediction\n",
    "print('Variance score: %.5f' % regr.score(train, test))"
   ]
  },
  {
   "cell_type": "code",
   "execution_count": null,
   "metadata": {
    "collapsed": false
   },
   "outputs": [],
   "source": [
    "plt.scatter(train, test,  color='black')\n",
    "plt.plot(train, regr.predict(train), color='blue',\n",
    "         linewidth=3)"
   ]
  },
  {
   "cell_type": "code",
   "execution_count": null,
   "metadata": {
    "collapsed": true
   },
   "outputs": [],
   "source": []
  },
  {
   "cell_type": "code",
   "execution_count": null,
   "metadata": {
    "collapsed": true
   },
   "outputs": [],
   "source": []
  }
 ],
 "metadata": {
  "kernelspec": {
   "display_name": "Python 3",
   "language": "python",
   "name": "python3"
  },
  "language_info": {
   "codemirror_mode": {
    "name": "ipython",
    "version": 3
   },
   "file_extension": ".py",
   "mimetype": "text/x-python",
   "name": "python",
   "nbconvert_exporter": "python",
   "pygments_lexer": "ipython3",
   "version": "3.5.1"
  }
 },
 "nbformat": 4,
 "nbformat_minor": 0
}

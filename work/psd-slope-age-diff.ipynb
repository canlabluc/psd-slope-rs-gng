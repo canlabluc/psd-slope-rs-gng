{
 "cells": [
  {
   "cell_type": "markdown",
   "metadata": {},
   "source": [
    "# correlation of psd slope with age"
   ]
  },
  {
   "cell_type": "code",
   "execution_count": 1,
   "metadata": {
    "collapsed": true
   },
   "outputs": [],
   "source": [
    "%matplotlib inline\n",
    "import os\n",
    "import glob\n",
    "import numpy as np\n",
    "import scipy as sp\n",
    "import seaborn as sb\n",
    "import matplotlib.pyplot as plt\n",
    "from scipy import signal\n",
    "from scipy import io\n",
    "from sklearn import linear_model, datasets"
   ]
  },
  {
   "cell_type": "markdown",
   "metadata": {},
   "source": [
    "#### Data Importing"
   ]
  },
  {
   "cell_type": "code",
   "execution_count": 2,
   "metadata": {
    "collapsed": true
   },
   "outputs": [],
   "source": [
    "subj = {} # Dictionary that holds all subjects\n",
    "matfiles = []\n",
    "for root, dirs, files in os.walk('../data/extClfiltCAR-mat/'):\n",
    "    matfiles += glob.glob(os.path.join(root, '*.mat'))\n",
    "\n",
    "for i in range(len(matfiles)):\n",
    "    datafile = sp.io.loadmat(matfiles[i])\n",
    "    \n",
    "    subj[i] = {}\n",
    "    subj[i]['name']  = np.squeeze(datafile['name'])\n",
    "    subj[i]['srate'] = np.squeeze(datafile['srate'])\n",
    "    subj[i]['data']  = np.squeeze(datafile['data'])    "
   ]
  },
  {
   "cell_type": "markdown",
   "metadata": {},
   "source": [
    "#### PSD Slope Results"
   ]
  },
  {
   "cell_type": "code",
   "execution_count": 3,
   "metadata": {
    "collapsed": true
   },
   "outputs": [],
   "source": [
    "def compute_slope(f, psd):\n",
    "    model_ransac = linear_model.RANSACRegressor(linear_model.LinearRegression())\n",
    "    model_ransac.fit(f[:50*2], np.log10(psd[:50*2]))\n",
    "    fit_line = model_ransac.predict(f)\n",
    "    return model_ransac.estimator_.coef_[0][0]"
   ]
  },
  {
   "cell_type": "code",
   "execution_count": 4,
   "metadata": {
    "collapsed": true
   },
   "outputs": [],
   "source": [
    "srate = 512\n",
    "for i in subj:\n",
    "    for ch in range(len(subj[i]['data'])):\n",
    "        # For all subjects, compute the slope of each channel\n",
    "        subj[i][ch] = {}\n",
    "        \n",
    "        f, psd = sp.signal.welch(subj[i]['data'][ch], srate, nperseg=srate*2, noverlap=srate, window='hamming')\n",
    "        f   = f.reshape((len(f), 1))\n",
    "        psd = psd.reshape((len(psd), 1))\n",
    "        \n",
    "        subj[i][ch]['f'] = f\n",
    "        subj[i][ch]['psd'] = psd\n",
    "        subj[i][ch]['slope'] = compute_slope(f, psd)\n",
    "        \n",
    "    # Now compute each subject's mean slope    \n",
    "    slopes = []\n",
    "    for ch in range(len(subj[i]['data'])):\n",
    "        slopes.append(subj[i][ch]['slope'])\n",
    "    subj[i]['slope'] = np.mean(slopes)"
   ]
  },
  {
   "cell_type": "code",
   "execution_count": null,
   "metadata": {
    "collapsed": true
   },
   "outputs": [],
   "source": []
  }
 ],
 "metadata": {
  "kernelspec": {
   "display_name": "Python 3",
   "language": "python",
   "name": "python3"
  },
  "language_info": {
   "codemirror_mode": {
    "name": "ipython",
    "version": 3
   },
   "file_extension": ".py",
   "mimetype": "text/x-python",
   "name": "python",
   "nbconvert_exporter": "python",
   "pygments_lexer": "ipython3",
   "version": "3.5.1"
  }
 },
 "nbformat": 4,
 "nbformat_minor": 0
}

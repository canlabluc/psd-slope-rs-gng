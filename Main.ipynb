{
 "cells": [
  {
   "cell_type": "markdown",
   "metadata": {},
   "source": [
    "# main\n",
    "\n",
    "Top-level notebook for running the spectral slopes analysis on the GoNoGo or resting state data.\n",
    "\n",
    "To run an analysis, modify the parameters below to the appropriate values specific to your run, then run the all of the cells in the notebook. Note that `main.py` can also be used to run the analysis, as it contains the same code as below.\n",
    "\n",
    "##### NOTE: Due to some Jupyter/Python weirdness, the output of the script will not print here. Instead, it prints in the terminal instance hosting the Jupyter notebook. Keep it open beside this browser window to see analysis progress.\n",
    "\n",
    "### PARAMETER DESCRIPTIONS\n",
    "\n",
    "```\n",
    "analysis : str\n",
    "  Specifies which analysis to run. Options: 'rs' and 'gng'\n",
    "\n",
    "preprocess_evts : bool\n",
    "  Whether to preprocess evts or not. If .evt files have already been\n",
    "  preprocessed, then this step is not necessary. Note that setting\n",
    "  this to true causes the script to prompt the user for a path to the\n",
    "  raw evt files.\n",
    "\n",
    "import_dir_evt : str\n",
    "  Path to directory containing the preprocessed .evt files. Path can be\n",
    "  relative or absolute.\n",
    "\n",
    "import_dir_mat : str\n",
    "  Path to directory containing the preprocessed .mat files. These are\n",
    "  obtained through canlab's EEGLAB plugin.\n",
    "\n",
    "import_path_csv : str\n",
    "  Path to csv file containing subjects that we'll be running. The csv\n",
    "  should have four columns:\n",
    "    SUBJECT    CLASS    AGE    SEX\n",
    "  NOTE: The script will ignore subject .mat and .evt files which do not\n",
    "  have a matching entry in the .csv file.\n",
    "\n",
    "export_dir : str\n",
    "  Path to directory in which the script will output results. Note that\n",
    "  the script will create another directory in export_dir in the format:\n",
    "    <DATE>-<ANALYSIS>-<MONTAGE>\n",
    "  Example:\n",
    "    2017-01-25-gng-sensor-level\n",
    "  If a directory with that name already exists in export_dir,\n",
    "  spectral_slopes.py will create another directory with the same name\n",
    "  and append a number to it, e.g. 2017-01-25-gng-sensor-level-1.\n",
    "\n",
    "fitting_func : str\n",
    "  Function the script will use to fit a line to the PSDs. Current\n",
    "  options: 'ransac', 'linreg' for RANSAC and linear regression,\n",
    "  respectively.\n",
    "\n",
    "fitting_lofreq : int\n",
    "  Lower frequency bound for the PSD fitting.\n",
    "\n",
    "fitting_hifreq : int\n",
    "  Upper frequency bound for the PSD fitting.\n",
    "\n",
    "psd_buffer_lofreq : int\n",
    "  Lower frequency bound for the PSD exclusion buffer.\n",
    "\n",
    "psd_buffer_hifreq : int\n",
    "  Upper frequency bound for the PSD exlcusion buffer.\n",
    "\n",
    "trial_protocol : str\n",
    "  Specifies whether or not to modify trial lengths. Available options:\n",
    "    'match_OA': cuts younger adult trials down by half in order to make\n",
    "    them match older adult trial lengths.\n",
    "\n",
    "nwins_upperlimit : int\n",
    "  Upper limit on number of windows to extract from the younger\n",
    "  adults. A value of 0 means no upper limit.\n",
    "```"
   ]
  },
  {
   "cell_type": "markdown",
   "metadata": {
    "collapsed": true
   },
   "source": [
    "## parameters (make sure these are correct)"
   ]
  },
  {
   "cell_type": "code",
   "execution_count": 1,
   "metadata": {
    "collapsed": true
   },
   "outputs": [],
   "source": [
    "# Analysis and file import parameters\n",
    "analysis        = 'rs'\n",
    "montage         = 'sensor-level'\n",
    "preprocess_evts = False\n",
    "raw_evt_dir     = 'data/rs/full/evt/raw/' # Only used if preprocess_evts is True\n",
    "import_dir_evt  = 'data/rs/full/evt/clean/'\n",
    "import_dir_mat  = 'data/rs/full/sensor-level/ExclFiltCARClust-mat/'\n",
    "import_path_csv = 'data/auxilliary/ya-oa-have-files-for-all-conds.csv'\n",
    "export_dir      = 'data/runs/'\n",
    "\n",
    "# Fitting/PSD parameters\n",
    "fitting_func      = 'ransac'\n",
    "fitting_lofreq    = 2\n",
    "fitting_hifreq    = 24\n",
    "psd_buffer_lofreq = 7\n",
    "psd_buffer_hifreq = 14\n",
    "trial_protocol    = 'match_OA'\n",
    "nwins_upperlimit  = 0"
   ]
  },
  {
   "cell_type": "markdown",
   "metadata": {
    "collapsed": true
   },
   "source": [
    "## script (do not modify unless you know what you're doing)"
   ]
  },
  {
   "cell_type": "code",
   "execution_count": 2,
   "metadata": {
    "collapsed": true
   },
   "outputs": [],
   "source": [
    "from subprocess import check_call\n",
    "\n",
    "# RESTING STATE ANALYSIS\n",
    "if analysis == 'rs':\n",
    "  # Preprocess .evt files, if they need to be preprocessed.\n",
    "  if preprocess_evts:\n",
    "    import_dir_evt_raw = 'data/rs/full/evt/raw/'\n",
    "    check_call(['python', 'src/rs/full/preprocessing/evt_preprocessing.py',\n",
    "                  '-i', raw_evt_dir,\n",
    "                  '-o', import_dir_evt])\n",
    "\n",
    "  # Run spectral_slopes.py\n",
    "  check_call(['python', 'src/rs/full/analysis/spectral_slopes.py',\n",
    "    '-m', montage,\n",
    "    '-i', import_dir_mat,\n",
    "    '-e', import_dir_evt,\n",
    "    '-c', import_path_csv,\n",
    "    '-o', export_dir,\n",
    "    '--fittingfunc='   + fitting_func,\n",
    "    '--fittinglo='     + str(fitting_lofreq),\n",
    "    '--fittinghi='     + str(fitting_hifreq),\n",
    "    '--bufferlo='      + str(psd_buffer_lofreq),\n",
    "    '--bufferhi='      + str(psd_buffer_hifreq),\n",
    "    '--trialprotocol=' + trial_protocol,\n",
    "    '--nwinsupper='    + str(nwins_upperlimit)])\n",
    "\n",
    "# GO-NOGO ANALYSIS\n",
    "elif analysis == 'gng':\n",
    "  print('GNG')"
   ]
  },
  {
   "cell_type": "code",
   "execution_count": null,
   "metadata": {
    "collapsed": true
   },
   "outputs": [],
   "source": []
  }
 ],
 "metadata": {
  "kernelspec": {
   "display_name": "Python [default]",
   "language": "python",
   "name": "python3"
  },
  "language_info": {
   "codemirror_mode": {
    "name": "ipython",
    "version": 3
   },
   "file_extension": ".py",
   "mimetype": "text/x-python",
   "name": "python",
   "nbconvert_exporter": "python",
   "pygments_lexer": "ipython3",
   "version": "3.5.3"
  }
 },
 "nbformat": 4,
 "nbformat_minor": 2
}
